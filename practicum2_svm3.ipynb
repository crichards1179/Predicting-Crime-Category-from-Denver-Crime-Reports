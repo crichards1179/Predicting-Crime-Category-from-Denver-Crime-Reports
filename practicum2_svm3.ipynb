{
 "cells": [
  {
   "cell_type": "markdown",
   "metadata": {},
   "source": [
    "# Analysis of Crime Reports in the City and County of Denver"
   ]
  },
  {
   "cell_type": "markdown",
   "metadata": {},
   "source": [
    "#### Chris Richards\n",
    "#### Practicum 2, Summer 2020\n",
    "#### Regis University"
   ]
  },
  {
   "cell_type": "markdown",
   "metadata": {},
   "source": [
    "\n",
    "### Support Vector Machine (SVM) Model"
   ]
  },
  {
   "cell_type": "code",
   "execution_count": 4,
   "metadata": {},
   "outputs": [],
   "source": [
    "import numpy as np\n",
    "import pandas as pd\n",
    "import seaborn as sns\n",
    "import matplotlib.pyplot as plt\n",
    "from sklearn.preprocessing import OneHotEncoder\n",
    "from sklearn.model_selection import train_test_split\n",
    "from sklearn import svm\n"
   ]
  },
  {
   "cell_type": "markdown",
   "metadata": {},
   "source": [
    "#### Read in data\n",
    "The various date columns are saved to a list object before reading in the data.  The date object is passed as a parameter when loading the data which will result in correctly formatted date features."
   ]
  },
  {
   "cell_type": "code",
   "execution_count": 5,
   "metadata": {},
   "outputs": [],
   "source": [
    "dates = [7, 8, 9] # date fields to read in as date objects, not strings\n",
    "df = pd.read_csv(r\"E:\\Regis\\Practicum_2\\df_cleaned.csv\", parse_dates=dates)\n"
   ]
  },
  {
   "cell_type": "markdown",
   "metadata": {},
   "source": [
    "#### Drop unused columns\n",
    "The index, various dates, and the redundant \"geo_x\" and \"geo_y\" features are removed.  "
   ]
  },
  {
   "cell_type": "code",
   "execution_count": 6,
   "metadata": {},
   "outputs": [
    {
     "name": "stdout",
     "output_type": "stream",
     "text": [
      "<class 'pandas.core.frame.DataFrame'>\n",
      "RangeIndex: 371189 entries, 0 to 371188\n",
      "Data columns (total 10 columns):\n",
      " #   Column                  Non-Null Count   Dtype  \n",
      "---  ------                  --------------   -----  \n",
      " 0   incident_id             371189 non-null  float64\n",
      " 1   offense_id              371189 non-null  int64  \n",
      " 2   offense_code            371189 non-null  int64  \n",
      " 3   offense_code_extension  371189 non-null  int64  \n",
      " 4   offense_category_id     371189 non-null  object \n",
      " 5   geo_lon                 371189 non-null  float64\n",
      " 6   geo_lat                 371189 non-null  float64\n",
      " 7   district_id             371189 non-null  int64  \n",
      " 8   precinct_id             371189 non-null  int64  \n",
      " 9   neighborhood            371189 non-null  object \n",
      "dtypes: float64(3), int64(5), object(2)\n",
      "memory usage: 28.3+ MB\n"
     ]
    }
   ],
   "source": [
    "df2 = df.drop(columns=['Unnamed: 0','first_occurrence_date', 'last_occurrence_date','reported_date', 'offense_type_id', 'incident_address', 'geo_x', 'geo_y'])\n",
    "df2.info() "
   ]
  },
  {
   "cell_type": "markdown",
   "metadata": {},
   "source": [
    "#### Split the target feature \n",
    "Create two dataframes - \"rawX\" with the independent variables, and \"rawy\" with the target variable."
   ]
  },
  {
   "cell_type": "code",
   "execution_count": 7,
   "metadata": {},
   "outputs": [],
   "source": [
    "rawX = df2.loc[:, df2.columns != 'offense_category_id'] # select all columns except for charges\n",
    "rawy = df2['offense_category_id']"
   ]
  },
  {
   "cell_type": "markdown",
   "metadata": {},
   "source": [
    "#### Encode the categorical variables\n",
    "The \"get_dummies\" function will automatically identify the categorical variables in the data and one-hot encode them for use in the model."
   ]
  },
  {
   "cell_type": "code",
   "execution_count": 8,
   "metadata": {},
   "outputs": [],
   "source": [
    "X = pd.get_dummies(rawX)\n",
    "#y = pd.get_dummies(rawy)\n",
    "y = rawy"
   ]
  },
  {
   "cell_type": "markdown",
   "metadata": {},
   "source": [
    "#### Create the test and training sets\n",
    "The dataframe will be randomly sampled with 70% used for training and the remaining 30% reserved for testing the model.  "
   ]
  },
  {
   "cell_type": "code",
   "execution_count": 9,
   "metadata": {},
   "outputs": [],
   "source": [
    "# Split dataset into training set and test set\n",
    "X_train, X_test, y_train, y_test = train_test_split(X, y, test_size=0.3,random_state=70)"
   ]
  },
  {
   "cell_type": "markdown",
   "metadata": {},
   "source": [
    "#### Build the SVM model\n",
    "The SVM will be built using a SVM classifier algorithim utilizing the radial-basis function kernel, \"RBF\".  The RBF kernel is commonly used in SVM classification models. "
   ]
  },
  {
   "cell_type": "code",
   "execution_count": 10,
   "metadata": {},
   "outputs": [],
   "source": [
    "#Create a svm Classifier\n",
    "clf = svm.SVC(kernel='rbf') # Radial Basis Kernel\n",
    "\n",
    "#Train the model using the training sets\n",
    "clf.fit(X_train, y_train)\n",
    "\n",
    "#Predict the response for test dataset\n",
    "y_pred = clf.predict(X_test)"
   ]
  },
  {
   "cell_type": "code",
   "execution_count": 11,
   "metadata": {},
   "outputs": [],
   "source": [
    "# Save model as a pickle file\n",
    "import pickle\n",
    "pkl_filename = \"pickle_model.pkl\"\n",
    "with open(pkl_filename, 'wb') as file:\n",
    "    pickle.dump(clf, file)"
   ]
  },
  {
   "cell_type": "markdown",
   "metadata": {},
   "source": [
    "#### Get the accuracy score of the test predictions"
   ]
  },
  {
   "cell_type": "code",
   "execution_count": 12,
   "metadata": {},
   "outputs": [
    {
     "name": "stdout",
     "output_type": "stream",
     "text": [
      "Accuracy: 0.29431468160959795\n"
     ]
    }
   ],
   "source": [
    "#Import scikit-learn metrics module for accuracy calculation\n",
    "from sklearn import metrics\n",
    "\n",
    "# Model Accuracy: how often is the classifier correct?\n",
    "print(\"Accuracy:\",metrics.accuracy_score(y_test, y_pred))"
   ]
  },
  {
   "cell_type": "markdown",
   "metadata": {},
   "source": [
    "The model has an accuracy of 29.43%.  "
   ]
  },
  {
   "cell_type": "markdown",
   "metadata": {},
   "source": [
    "#### Load the model and predict again\n"
   ]
  },
  {
   "cell_type": "code",
   "execution_count": 13,
   "metadata": {},
   "outputs": [
    {
     "name": "stdout",
     "output_type": "stream",
     "text": [
      "Test score: 29.43 %\n"
     ]
    }
   ],
   "source": [
    "# # Load from file\n",
    "# with open(r\"E:\\Regis\\Practicum_2\\pickle_model.pkl\", 'rb') as file:\n",
    "#     pickle_model = pickle.load(file)\n",
    "    \n",
    "# # Calculate the accuracy score and predict target values\n",
    "# score = pickle_model.score(X_test, y_test)\n",
    "# print(\"Test score: {0:.2f} %\".format(100 * score))"
   ]
  },
  {
   "cell_type": "markdown",
   "metadata": {},
   "source": [
    "### SVM with various kernels"
   ]
  },
  {
   "cell_type": "code",
   "execution_count": null,
   "metadata": {},
   "outputs": [],
   "source": [
    "C = 1.0  # SVM regularization parameter\n",
    " \n",
    "# SVC with linear kernel\n",
    "svc = svm.SVC(kernel='linear', C=C).fit(X_train, y_train)\n",
    "# LinearSVC (linear kernel)\n",
    "lin_svc = svm.LinearSVC(C=C).fit(X_train, y_train)\n",
    "# SVC with RBF kernel\n",
    "rbf_svc = svm.SVC(kernel='rbf', gamma=0.7, C=C).fit(X_train, y_train)\n",
    "# SVC with polynomial (degree 3) kernel\n",
    "poly_svc = svm.SVC(kernel='poly', degree=3, C=C).fit(X_train, y_train)"
   ]
  },
  {
   "cell_type": "markdown",
   "metadata": {},
   "source": [
    "#### Predict on the test set for each model"
   ]
  },
  {
   "cell_type": "code",
   "execution_count": null,
   "metadata": {},
   "outputs": [],
   "source": [
    "#Predict the response for test dataset\n",
    "y_pred_svc = svc.predict(X_test)\n",
    "y_pred_lin_svc = lin_svc.predict(X_test)\n",
    "y_pred_rbf = rbf_svc.predict(X_test)\n",
    "y_pred_poly = poly_svc.predict(X_test)"
   ]
  },
  {
   "cell_type": "markdown",
   "metadata": {},
   "source": [
    "#### Get the accuracy of the models"
   ]
  },
  {
   "cell_type": "code",
   "execution_count": null,
   "metadata": {},
   "outputs": [],
   "source": [
    "# Model Accuracy: how often is the classifier correct?\n",
    "print(\"SVC Accuracy:\",metrics.accuracy_score(y_test, y_pred_svc))\n",
    "print(\"Linear SVC Accuracy:\",metrics.accuracy_score(y_test, y_pred_lin_svc))\n",
    "print(\"RBF SVC Accuracy:\",metrics.accuracy_score(y_test, y_pred_rbf))\n",
    "print(\"Poly SVC Accuracy:\",metrics.accuracy_score(y_test, y_pred_poly))"
   ]
  }
 ],
 "metadata": {
  "kernelspec": {
   "display_name": "Python 3",
   "language": "python",
   "name": "python3"
  },
  "language_info": {
   "codemirror_mode": {
    "name": "ipython",
    "version": 3
   },
   "file_extension": ".py",
   "mimetype": "text/x-python",
   "name": "python",
   "nbconvert_exporter": "python",
   "pygments_lexer": "ipython3",
   "version": "3.7.1"
  }
 },
 "nbformat": 4,
 "nbformat_minor": 4
}
