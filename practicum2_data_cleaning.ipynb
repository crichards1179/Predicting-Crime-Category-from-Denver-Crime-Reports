{
 "cells": [
  {
   "cell_type": "markdown",
   "metadata": {},
   "source": [
    "# Analysis of Crime Reports in the City and County of Denver"
   ]
  },
  {
   "cell_type": "markdown",
   "metadata": {},
   "source": [
    "#### Chris Richards\n",
    "#### Practicum 2, Summer 2020\n",
    "#### Regis University"
   ]
  },
  {
   "cell_type": "markdown",
   "metadata": {},
   "source": [
    "\n",
    "### Data Cleaning"
   ]
  },
  {
   "cell_type": "code",
   "execution_count": 3,
   "metadata": {},
   "outputs": [],
   "source": [
    "import numpy as np\n",
    "import pandas as pd\n",
    "import pandas_profiling as pp\n",
    "import seaborn as sns\n",
    "from scipy import stats\n",
    "import matplotlib.pyplot as plt"
   ]
  },
  {
   "cell_type": "code",
   "execution_count": 4,
   "metadata": {},
   "outputs": [],
   "source": [
    "# stop dataframe copy warning\n",
    "#pd.options.mode.chained_assignment = None  # default='warn'"
   ]
  },
  {
   "cell_type": "code",
   "execution_count": 5,
   "metadata": {},
   "outputs": [],
   "source": [
    "df = pd.read_csv(r\"E:\\Regis\\Practicum_2\\crime.csv\")\n",
    "df_profile = df"
   ]
  },
  {
   "cell_type": "code",
   "execution_count": 6,
   "metadata": {},
   "outputs": [
    {
     "data": {
      "text/plain": [
       "(497912, 19)"
      ]
     },
     "execution_count": 6,
     "metadata": {},
     "output_type": "execute_result"
    }
   ],
   "source": [
    "df.shape"
   ]
  },
  {
   "cell_type": "markdown",
   "metadata": {},
   "source": [
    "The data frame consists of 497,912 rows and 19 columns.  \n",
    "  \n",
    "##### Get stats on the quantitative features"
   ]
  },
  {
   "cell_type": "code",
   "execution_count": 7,
   "metadata": {},
   "outputs": [
    {
     "data": {
      "text/html": [
       "<div>\n",
       "<style scoped>\n",
       "    .dataframe tbody tr th:only-of-type {\n",
       "        vertical-align: middle;\n",
       "    }\n",
       "\n",
       "    .dataframe tbody tr th {\n",
       "        vertical-align: top;\n",
       "    }\n",
       "\n",
       "    .dataframe thead th {\n",
       "        text-align: right;\n",
       "    }\n",
       "</style>\n",
       "<table border=\"1\" class=\"dataframe\">\n",
       "  <thead>\n",
       "    <tr style=\"text-align: right;\">\n",
       "      <th></th>\n",
       "      <th>INCIDENT_ID</th>\n",
       "      <th>OFFENSE_ID</th>\n",
       "      <th>OFFENSE_CODE</th>\n",
       "      <th>OFFENSE_CODE_EXTENSION</th>\n",
       "      <th>GEO_X</th>\n",
       "      <th>GEO_Y</th>\n",
       "      <th>GEO_LON</th>\n",
       "      <th>GEO_LAT</th>\n",
       "      <th>DISTRICT_ID</th>\n",
       "      <th>PRECINCT_ID</th>\n",
       "      <th>IS_CRIME</th>\n",
       "      <th>IS_TRAFFIC</th>\n",
       "    </tr>\n",
       "  </thead>\n",
       "  <tbody>\n",
       "    <tr>\n",
       "      <th>count</th>\n",
       "      <td>4.979120e+05</td>\n",
       "      <td>4.979120e+05</td>\n",
       "      <td>497912.000000</td>\n",
       "      <td>497912.000000</td>\n",
       "      <td>4.936050e+05</td>\n",
       "      <td>4.936050e+05</td>\n",
       "      <td>4.936050e+05</td>\n",
       "      <td>493605.000000</td>\n",
       "      <td>497912.000000</td>\n",
       "      <td>497912.000000</td>\n",
       "      <td>497912.000000</td>\n",
       "      <td>497912.000000</td>\n",
       "    </tr>\n",
       "    <tr>\n",
       "      <th>mean</th>\n",
       "      <td>3.978004e+09</td>\n",
       "      <td>3.978004e+15</td>\n",
       "      <td>3780.867053</td>\n",
       "      <td>0.204241</td>\n",
       "      <td>3.165528e+06</td>\n",
       "      <td>1.695747e+06</td>\n",
       "      <td>-1.049223e+02</td>\n",
       "      <td>39.717631</td>\n",
       "      <td>3.520721</td>\n",
       "      <td>369.612893</td>\n",
       "      <td>0.746058</td>\n",
       "      <td>0.254509</td>\n",
       "    </tr>\n",
       "    <tr>\n",
       "      <th>std</th>\n",
       "      <td>1.302073e+10</td>\n",
       "      <td>1.302073e+16</td>\n",
       "      <td>1654.320957</td>\n",
       "      <td>0.576514</td>\n",
       "      <td>7.323260e+05</td>\n",
       "      <td>1.801466e+05</td>\n",
       "      <td>2.049321e+00</td>\n",
       "      <td>0.776045</td>\n",
       "      <td>1.782135</td>\n",
       "      <td>178.993256</td>\n",
       "      <td>0.435266</td>\n",
       "      <td>0.435585</td>\n",
       "    </tr>\n",
       "    <tr>\n",
       "      <th>min</th>\n",
       "      <td>2.015800e+04</td>\n",
       "      <td>2.015854e+10</td>\n",
       "      <td>902.000000</td>\n",
       "      <td>0.000000</td>\n",
       "      <td>1.000000e+00</td>\n",
       "      <td>1.000000e+00</td>\n",
       "      <td>-1.154641e+02</td>\n",
       "      <td>0.000000</td>\n",
       "      <td>1.000000</td>\n",
       "      <td>111.000000</td>\n",
       "      <td>0.000000</td>\n",
       "      <td>0.000000</td>\n",
       "    </tr>\n",
       "    <tr>\n",
       "      <th>25%</th>\n",
       "      <td>2.015730e+09</td>\n",
       "      <td>2.015730e+15</td>\n",
       "      <td>2305.000000</td>\n",
       "      <td>0.000000</td>\n",
       "      <td>3.138713e+06</td>\n",
       "      <td>1.683263e+06</td>\n",
       "      <td>-1.050067e+02</td>\n",
       "      <td>39.708053</td>\n",
       "      <td>2.000000</td>\n",
       "      <td>221.000000</td>\n",
       "      <td>0.000000</td>\n",
       "      <td>0.000000</td>\n",
       "    </tr>\n",
       "    <tr>\n",
       "      <th>50%</th>\n",
       "      <td>2.017621e+09</td>\n",
       "      <td>2.017621e+15</td>\n",
       "      <td>3550.000000</td>\n",
       "      <td>0.000000</td>\n",
       "      <td>3.145604e+06</td>\n",
       "      <td>1.694794e+06</td>\n",
       "      <td>-1.049823e+02</td>\n",
       "      <td>39.739838</td>\n",
       "      <td>3.000000</td>\n",
       "      <td>323.000000</td>\n",
       "      <td>1.000000</td>\n",
       "      <td>0.000000</td>\n",
       "    </tr>\n",
       "    <tr>\n",
       "      <th>75%</th>\n",
       "      <td>2.019385e+09</td>\n",
       "      <td>2.019385e+15</td>\n",
       "      <td>5441.000000</td>\n",
       "      <td>0.000000</td>\n",
       "      <td>3.162366e+06</td>\n",
       "      <td>1.701839e+06</td>\n",
       "      <td>-1.049228e+02</td>\n",
       "      <td>39.759115</td>\n",
       "      <td>5.000000</td>\n",
       "      <td>521.000000</td>\n",
       "      <td>1.000000</td>\n",
       "      <td>1.000000</td>\n",
       "    </tr>\n",
       "    <tr>\n",
       "      <th>max</th>\n",
       "      <td>2.020890e+12</td>\n",
       "      <td>2.020890e+18</td>\n",
       "      <td>7399.000000</td>\n",
       "      <td>5.000000</td>\n",
       "      <td>4.067477e+07</td>\n",
       "      <td>1.141836e+07</td>\n",
       "      <td>5.000000e-07</td>\n",
       "      <td>39.904311</td>\n",
       "      <td>7.000000</td>\n",
       "      <td>759.000000</td>\n",
       "      <td>1.000000</td>\n",
       "      <td>1.000000</td>\n",
       "    </tr>\n",
       "  </tbody>\n",
       "</table>\n",
       "</div>"
      ],
      "text/plain": [
       "        INCIDENT_ID    OFFENSE_ID   OFFENSE_CODE  OFFENSE_CODE_EXTENSION  \\\n",
       "count  4.979120e+05  4.979120e+05  497912.000000           497912.000000   \n",
       "mean   3.978004e+09  3.978004e+15    3780.867053                0.204241   \n",
       "std    1.302073e+10  1.302073e+16    1654.320957                0.576514   \n",
       "min    2.015800e+04  2.015854e+10     902.000000                0.000000   \n",
       "25%    2.015730e+09  2.015730e+15    2305.000000                0.000000   \n",
       "50%    2.017621e+09  2.017621e+15    3550.000000                0.000000   \n",
       "75%    2.019385e+09  2.019385e+15    5441.000000                0.000000   \n",
       "max    2.020890e+12  2.020890e+18    7399.000000                5.000000   \n",
       "\n",
       "              GEO_X         GEO_Y       GEO_LON        GEO_LAT    DISTRICT_ID  \\\n",
       "count  4.936050e+05  4.936050e+05  4.936050e+05  493605.000000  497912.000000   \n",
       "mean   3.165528e+06  1.695747e+06 -1.049223e+02      39.717631       3.520721   \n",
       "std    7.323260e+05  1.801466e+05  2.049321e+00       0.776045       1.782135   \n",
       "min    1.000000e+00  1.000000e+00 -1.154641e+02       0.000000       1.000000   \n",
       "25%    3.138713e+06  1.683263e+06 -1.050067e+02      39.708053       2.000000   \n",
       "50%    3.145604e+06  1.694794e+06 -1.049823e+02      39.739838       3.000000   \n",
       "75%    3.162366e+06  1.701839e+06 -1.049228e+02      39.759115       5.000000   \n",
       "max    4.067477e+07  1.141836e+07  5.000000e-07      39.904311       7.000000   \n",
       "\n",
       "         PRECINCT_ID       IS_CRIME     IS_TRAFFIC  \n",
       "count  497912.000000  497912.000000  497912.000000  \n",
       "mean      369.612893       0.746058       0.254509  \n",
       "std       178.993256       0.435266       0.435585  \n",
       "min       111.000000       0.000000       0.000000  \n",
       "25%       221.000000       0.000000       0.000000  \n",
       "50%       323.000000       1.000000       0.000000  \n",
       "75%       521.000000       1.000000       1.000000  \n",
       "max       759.000000       1.000000       1.000000  "
      ]
     },
     "execution_count": 7,
     "metadata": {},
     "output_type": "execute_result"
    }
   ],
   "source": [
    "df.describe()"
   ]
  },
  {
   "cell_type": "markdown",
   "metadata": {},
   "source": [
    "##### Get information"
   ]
  },
  {
   "cell_type": "code",
   "execution_count": 8,
   "metadata": {},
   "outputs": [
    {
     "name": "stdout",
     "output_type": "stream",
     "text": [
      "<class 'pandas.core.frame.DataFrame'>\n",
      "RangeIndex: 497912 entries, 0 to 497911\n",
      "Data columns (total 19 columns):\n",
      " #   Column                  Non-Null Count   Dtype  \n",
      "---  ------                  --------------   -----  \n",
      " 0   INCIDENT_ID             497912 non-null  float64\n",
      " 1   OFFENSE_ID              497912 non-null  int64  \n",
      " 2   OFFENSE_CODE            497912 non-null  int64  \n",
      " 3   OFFENSE_CODE_EXTENSION  497912 non-null  int64  \n",
      " 4   OFFENSE_TYPE_ID         497912 non-null  object \n",
      " 5   OFFENSE_CATEGORY_ID     497912 non-null  object \n",
      " 6   FIRST_OCCURRENCE_DATE   497912 non-null  object \n",
      " 7   LAST_OCCURRENCE_DATE    160309 non-null  object \n",
      " 8   REPORTED_DATE           497912 non-null  object \n",
      " 9   INCIDENT_ADDRESS        451097 non-null  object \n",
      " 10  GEO_X                   493605 non-null  float64\n",
      " 11  GEO_Y                   493605 non-null  float64\n",
      " 12  GEO_LON                 493605 non-null  float64\n",
      " 13  GEO_LAT                 493605 non-null  float64\n",
      " 14  DISTRICT_ID             497912 non-null  int64  \n",
      " 15  PRECINCT_ID             497912 non-null  int64  \n",
      " 16  NEIGHBORHOOD_ID         497912 non-null  object \n",
      " 17  IS_CRIME                497912 non-null  int64  \n",
      " 18  IS_TRAFFIC              497912 non-null  int64  \n",
      "dtypes: float64(5), int64(7), object(7)\n",
      "memory usage: 72.2+ MB\n"
     ]
    }
   ],
   "source": [
    "df.info()"
   ]
  },
  {
   "cell_type": "markdown",
   "metadata": {},
   "source": [
    "486,239 entries. The majority of columns have no missing values, although, several do with the last occurrence date missing several hundred thousand entries. There are a mix of data types including integers, floats and strings, noted as \"object\".  Notably, the various data fields are read in as strings.  These will be recast as date types."
   ]
  },
  {
   "cell_type": "code",
   "execution_count": 9,
   "metadata": {},
   "outputs": [
    {
     "data": {
      "text/html": [
       "<div>\n",
       "<style scoped>\n",
       "    .dataframe tbody tr th:only-of-type {\n",
       "        vertical-align: middle;\n",
       "    }\n",
       "\n",
       "    .dataframe tbody tr th {\n",
       "        vertical-align: top;\n",
       "    }\n",
       "\n",
       "    .dataframe thead th {\n",
       "        text-align: right;\n",
       "    }\n",
       "</style>\n",
       "<table border=\"1\" class=\"dataframe\">\n",
       "  <thead>\n",
       "    <tr style=\"text-align: right;\">\n",
       "      <th></th>\n",
       "      <th>INCIDENT_ID</th>\n",
       "      <th>OFFENSE_ID</th>\n",
       "      <th>OFFENSE_CODE</th>\n",
       "      <th>OFFENSE_CODE_EXTENSION</th>\n",
       "      <th>OFFENSE_TYPE_ID</th>\n",
       "      <th>OFFENSE_CATEGORY_ID</th>\n",
       "      <th>FIRST_OCCURRENCE_DATE</th>\n",
       "      <th>LAST_OCCURRENCE_DATE</th>\n",
       "      <th>REPORTED_DATE</th>\n",
       "      <th>INCIDENT_ADDRESS</th>\n",
       "      <th>GEO_X</th>\n",
       "      <th>GEO_Y</th>\n",
       "      <th>GEO_LON</th>\n",
       "      <th>GEO_LAT</th>\n",
       "      <th>DISTRICT_ID</th>\n",
       "      <th>PRECINCT_ID</th>\n",
       "      <th>NEIGHBORHOOD_ID</th>\n",
       "      <th>IS_CRIME</th>\n",
       "      <th>IS_TRAFFIC</th>\n",
       "    </tr>\n",
       "  </thead>\n",
       "  <tbody>\n",
       "    <tr>\n",
       "      <th>0</th>\n",
       "      <td>2.018870e+09</td>\n",
       "      <td>2018869789239900</td>\n",
       "      <td>2399</td>\n",
       "      <td>0</td>\n",
       "      <td>theft-other</td>\n",
       "      <td>larceny</td>\n",
       "      <td>12/27/2018 15:58</td>\n",
       "      <td>NaN</td>\n",
       "      <td>12/27/2018 16:51</td>\n",
       "      <td>2681 N HANOVER CT</td>\n",
       "      <td>3178210.0</td>\n",
       "      <td>1700715.0</td>\n",
       "      <td>-104.866156</td>\n",
       "      <td>39.755561</td>\n",
       "      <td>5</td>\n",
       "      <td>512</td>\n",
       "      <td>stapleton</td>\n",
       "      <td>1</td>\n",
       "      <td>0</td>\n",
       "    </tr>\n",
       "    <tr>\n",
       "      <th>1</th>\n",
       "      <td>2.015664e+09</td>\n",
       "      <td>2015664356544100</td>\n",
       "      <td>5441</td>\n",
       "      <td>0</td>\n",
       "      <td>traffic-accident</td>\n",
       "      <td>traffic-accident</td>\n",
       "      <td>11/13/2015 7:45</td>\n",
       "      <td>NaN</td>\n",
       "      <td>11/13/2015 8:38</td>\n",
       "      <td>4100 BLOCK W COLFAX AVE</td>\n",
       "      <td>3129148.0</td>\n",
       "      <td>1694748.0</td>\n",
       "      <td>-105.040760</td>\n",
       "      <td>39.739991</td>\n",
       "      <td>1</td>\n",
       "      <td>122</td>\n",
       "      <td>west-colfax</td>\n",
       "      <td>0</td>\n",
       "      <td>1</td>\n",
       "    </tr>\n",
       "    <tr>\n",
       "      <th>2</th>\n",
       "      <td>2.017601e+10</td>\n",
       "      <td>20176005213239900</td>\n",
       "      <td>2399</td>\n",
       "      <td>1</td>\n",
       "      <td>theft-bicycle</td>\n",
       "      <td>larceny</td>\n",
       "      <td>6/8/2017 13:15</td>\n",
       "      <td>6/8/2017 17:15</td>\n",
       "      <td>6/12/2017 8:44</td>\n",
       "      <td>1705 17TH ST</td>\n",
       "      <td>3140790.0</td>\n",
       "      <td>1699792.0</td>\n",
       "      <td>-104.999264</td>\n",
       "      <td>39.753669</td>\n",
       "      <td>6</td>\n",
       "      <td>612</td>\n",
       "      <td>union-station</td>\n",
       "      <td>1</td>\n",
       "      <td>0</td>\n",
       "    </tr>\n",
       "    <tr>\n",
       "      <th>3</th>\n",
       "      <td>2.019601e+10</td>\n",
       "      <td>20196012240230800</td>\n",
       "      <td>2308</td>\n",
       "      <td>0</td>\n",
       "      <td>theft-from-bldg</td>\n",
       "      <td>larceny</td>\n",
       "      <td>12/7/2019 13:07</td>\n",
       "      <td>12/7/2019 18:30</td>\n",
       "      <td>12/9/2019 13:35</td>\n",
       "      <td>1350 N IRVING ST</td>\n",
       "      <td>3132400.0</td>\n",
       "      <td>1694088.0</td>\n",
       "      <td>-105.029208</td>\n",
       "      <td>39.738134</td>\n",
       "      <td>1</td>\n",
       "      <td>122</td>\n",
       "      <td>west-colfax</td>\n",
       "      <td>1</td>\n",
       "      <td>0</td>\n",
       "    </tr>\n",
       "    <tr>\n",
       "      <th>4</th>\n",
       "      <td>2.018862e+09</td>\n",
       "      <td>2018861883501600</td>\n",
       "      <td>5016</td>\n",
       "      <td>0</td>\n",
       "      <td>violation-of-restraining-order</td>\n",
       "      <td>all-other-crimes</td>\n",
       "      <td>12/22/2018 20:15</td>\n",
       "      <td>12/22/2018 20:31</td>\n",
       "      <td>12/22/2018 22:00</td>\n",
       "      <td>13625 E RANDOLPH PL</td>\n",
       "      <td>3188580.0</td>\n",
       "      <td>1716158.0</td>\n",
       "      <td>-104.828868</td>\n",
       "      <td>39.797750</td>\n",
       "      <td>5</td>\n",
       "      <td>521</td>\n",
       "      <td>montbello</td>\n",
       "      <td>1</td>\n",
       "      <td>0</td>\n",
       "    </tr>\n",
       "  </tbody>\n",
       "</table>\n",
       "</div>"
      ],
      "text/plain": [
       "    INCIDENT_ID         OFFENSE_ID  OFFENSE_CODE  OFFENSE_CODE_EXTENSION  \\\n",
       "0  2.018870e+09   2018869789239900          2399                       0   \n",
       "1  2.015664e+09   2015664356544100          5441                       0   \n",
       "2  2.017601e+10  20176005213239900          2399                       1   \n",
       "3  2.019601e+10  20196012240230800          2308                       0   \n",
       "4  2.018862e+09   2018861883501600          5016                       0   \n",
       "\n",
       "                  OFFENSE_TYPE_ID OFFENSE_CATEGORY_ID FIRST_OCCURRENCE_DATE  \\\n",
       "0                     theft-other             larceny      12/27/2018 15:58   \n",
       "1                traffic-accident    traffic-accident       11/13/2015 7:45   \n",
       "2                   theft-bicycle             larceny        6/8/2017 13:15   \n",
       "3                 theft-from-bldg             larceny       12/7/2019 13:07   \n",
       "4  violation-of-restraining-order    all-other-crimes      12/22/2018 20:15   \n",
       "\n",
       "  LAST_OCCURRENCE_DATE     REPORTED_DATE         INCIDENT_ADDRESS      GEO_X  \\\n",
       "0                  NaN  12/27/2018 16:51        2681 N HANOVER CT  3178210.0   \n",
       "1                  NaN   11/13/2015 8:38  4100 BLOCK W COLFAX AVE  3129148.0   \n",
       "2       6/8/2017 17:15    6/12/2017 8:44             1705 17TH ST  3140790.0   \n",
       "3      12/7/2019 18:30   12/9/2019 13:35         1350 N IRVING ST  3132400.0   \n",
       "4     12/22/2018 20:31  12/22/2018 22:00      13625 E RANDOLPH PL  3188580.0   \n",
       "\n",
       "       GEO_Y     GEO_LON    GEO_LAT  DISTRICT_ID  PRECINCT_ID NEIGHBORHOOD_ID  \\\n",
       "0  1700715.0 -104.866156  39.755561            5          512       stapleton   \n",
       "1  1694748.0 -105.040760  39.739991            1          122     west-colfax   \n",
       "2  1699792.0 -104.999264  39.753669            6          612   union-station   \n",
       "3  1694088.0 -105.029208  39.738134            1          122     west-colfax   \n",
       "4  1716158.0 -104.828868  39.797750            5          521       montbello   \n",
       "\n",
       "   IS_CRIME  IS_TRAFFIC  \n",
       "0         1           0  \n",
       "1         0           1  \n",
       "2         1           0  \n",
       "3         1           0  \n",
       "4         1           0  "
      ]
     },
     "execution_count": 9,
     "metadata": {},
     "output_type": "execute_result"
    }
   ],
   "source": [
    "df.head(5)"
   ]
  },
  {
   "cell_type": "code",
   "execution_count": 10,
   "metadata": {},
   "outputs": [
    {
     "data": {
      "text/html": [
       "<div>\n",
       "<style scoped>\n",
       "    .dataframe tbody tr th:only-of-type {\n",
       "        vertical-align: middle;\n",
       "    }\n",
       "\n",
       "    .dataframe tbody tr th {\n",
       "        vertical-align: top;\n",
       "    }\n",
       "\n",
       "    .dataframe thead th {\n",
       "        text-align: right;\n",
       "    }\n",
       "</style>\n",
       "<table border=\"1\" class=\"dataframe\">\n",
       "  <thead>\n",
       "    <tr style=\"text-align: right;\">\n",
       "      <th></th>\n",
       "      <th>INCIDENT_ID</th>\n",
       "      <th>OFFENSE_ID</th>\n",
       "      <th>OFFENSE_CODE</th>\n",
       "      <th>OFFENSE_CODE_EXTENSION</th>\n",
       "      <th>OFFENSE_TYPE_ID</th>\n",
       "      <th>OFFENSE_CATEGORY_ID</th>\n",
       "      <th>FIRST_OCCURRENCE_DATE</th>\n",
       "      <th>LAST_OCCURRENCE_DATE</th>\n",
       "      <th>REPORTED_DATE</th>\n",
       "      <th>INCIDENT_ADDRESS</th>\n",
       "      <th>GEO_X</th>\n",
       "      <th>GEO_Y</th>\n",
       "      <th>GEO_LON</th>\n",
       "      <th>GEO_LAT</th>\n",
       "      <th>DISTRICT_ID</th>\n",
       "      <th>PRECINCT_ID</th>\n",
       "      <th>NEIGHBORHOOD_ID</th>\n",
       "      <th>IS_CRIME</th>\n",
       "      <th>IS_TRAFFIC</th>\n",
       "    </tr>\n",
       "  </thead>\n",
       "  <tbody>\n",
       "    <tr>\n",
       "      <th>497907</th>\n",
       "      <td>2.020367e+09</td>\n",
       "      <td>2020367366239900</td>\n",
       "      <td>2399</td>\n",
       "      <td>0</td>\n",
       "      <td>theft-other</td>\n",
       "      <td>larceny</td>\n",
       "      <td>6/5/2020 15:00</td>\n",
       "      <td>6/6/2020 9:00</td>\n",
       "      <td>6/16/2020 13:18</td>\n",
       "      <td>3001 N FOX ST</td>\n",
       "      <td>3141763.0</td>\n",
       "      <td>1702051.0</td>\n",
       "      <td>-104.995758</td>\n",
       "      <td>39.759856</td>\n",
       "      <td>6</td>\n",
       "      <td>612</td>\n",
       "      <td>five-points</td>\n",
       "      <td>1</td>\n",
       "      <td>0</td>\n",
       "    </tr>\n",
       "    <tr>\n",
       "      <th>497908</th>\n",
       "      <td>2.020334e+09</td>\n",
       "      <td>2020334438240400</td>\n",
       "      <td>2404</td>\n",
       "      <td>0</td>\n",
       "      <td>theft-of-motor-vehicle</td>\n",
       "      <td>auto-theft</td>\n",
       "      <td>5/29/2020 21:00</td>\n",
       "      <td>5/29/2020 21:00</td>\n",
       "      <td>5/30/2020 13:17</td>\n",
       "      <td>4701 N PEORIA ST</td>\n",
       "      <td>3183298.0</td>\n",
       "      <td>1710785.0</td>\n",
       "      <td>-104.847803</td>\n",
       "      <td>39.783106</td>\n",
       "      <td>5</td>\n",
       "      <td>511</td>\n",
       "      <td>montbello</td>\n",
       "      <td>1</td>\n",
       "      <td>0</td>\n",
       "    </tr>\n",
       "    <tr>\n",
       "      <th>497909</th>\n",
       "      <td>2.020601e+10</td>\n",
       "      <td>20206006564299900</td>\n",
       "      <td>2999</td>\n",
       "      <td>1</td>\n",
       "      <td>criminal-mischief-mtr-veh</td>\n",
       "      <td>public-disorder</td>\n",
       "      <td>5/31/2020 19:10</td>\n",
       "      <td>6/1/2020 7:10</td>\n",
       "      <td>6/1/2020 19:17</td>\n",
       "      <td>1735 N OGDEN ST</td>\n",
       "      <td>3147584.0</td>\n",
       "      <td>1696363.0</td>\n",
       "      <td>-104.975171</td>\n",
       "      <td>39.744151</td>\n",
       "      <td>6</td>\n",
       "      <td>621</td>\n",
       "      <td>north-capitol-hill</td>\n",
       "      <td>1</td>\n",
       "      <td>0</td>\n",
       "    </tr>\n",
       "    <tr>\n",
       "      <th>497910</th>\n",
       "      <td>2.020357e+09</td>\n",
       "      <td>2020357471230500</td>\n",
       "      <td>2305</td>\n",
       "      <td>0</td>\n",
       "      <td>theft-items-from-vehicle</td>\n",
       "      <td>theft-from-motor-vehicle</td>\n",
       "      <td>6/10/2020 22:15</td>\n",
       "      <td>6/11/2020 10:30</td>\n",
       "      <td>6/11/2020 11:04</td>\n",
       "      <td>6343 E GIRARD PL</td>\n",
       "      <td>3164075.0</td>\n",
       "      <td>1663852.0</td>\n",
       "      <td>-104.917270</td>\n",
       "      <td>39.654625</td>\n",
       "      <td>3</td>\n",
       "      <td>323</td>\n",
       "      <td>hampden</td>\n",
       "      <td>1</td>\n",
       "      <td>0</td>\n",
       "    </tr>\n",
       "    <tr>\n",
       "      <th>497911</th>\n",
       "      <td>2.020359e+09</td>\n",
       "      <td>2020358542131500</td>\n",
       "      <td>1315</td>\n",
       "      <td>0</td>\n",
       "      <td>aggravated-assault</td>\n",
       "      <td>aggravated-assault</td>\n",
       "      <td>6/11/2020 21:58</td>\n",
       "      <td>NaN</td>\n",
       "      <td>6/11/2020 22:35</td>\n",
       "      <td>STOUT ST / PARK AVEW</td>\n",
       "      <td>3144912.0</td>\n",
       "      <td>1699350.0</td>\n",
       "      <td>-104.984612</td>\n",
       "      <td>39.752392</td>\n",
       "      <td>6</td>\n",
       "      <td>621</td>\n",
       "      <td>five-points</td>\n",
       "      <td>1</td>\n",
       "      <td>0</td>\n",
       "    </tr>\n",
       "  </tbody>\n",
       "</table>\n",
       "</div>"
      ],
      "text/plain": [
       "         INCIDENT_ID         OFFENSE_ID  OFFENSE_CODE  OFFENSE_CODE_EXTENSION  \\\n",
       "497907  2.020367e+09   2020367366239900          2399                       0   \n",
       "497908  2.020334e+09   2020334438240400          2404                       0   \n",
       "497909  2.020601e+10  20206006564299900          2999                       1   \n",
       "497910  2.020357e+09   2020357471230500          2305                       0   \n",
       "497911  2.020359e+09   2020358542131500          1315                       0   \n",
       "\n",
       "                  OFFENSE_TYPE_ID       OFFENSE_CATEGORY_ID  \\\n",
       "497907                theft-other                   larceny   \n",
       "497908     theft-of-motor-vehicle                auto-theft   \n",
       "497909  criminal-mischief-mtr-veh           public-disorder   \n",
       "497910   theft-items-from-vehicle  theft-from-motor-vehicle   \n",
       "497911         aggravated-assault        aggravated-assault   \n",
       "\n",
       "       FIRST_OCCURRENCE_DATE LAST_OCCURRENCE_DATE    REPORTED_DATE  \\\n",
       "497907        6/5/2020 15:00        6/6/2020 9:00  6/16/2020 13:18   \n",
       "497908       5/29/2020 21:00      5/29/2020 21:00  5/30/2020 13:17   \n",
       "497909       5/31/2020 19:10        6/1/2020 7:10   6/1/2020 19:17   \n",
       "497910       6/10/2020 22:15      6/11/2020 10:30  6/11/2020 11:04   \n",
       "497911       6/11/2020 21:58                  NaN  6/11/2020 22:35   \n",
       "\n",
       "            INCIDENT_ADDRESS      GEO_X      GEO_Y     GEO_LON    GEO_LAT  \\\n",
       "497907         3001 N FOX ST  3141763.0  1702051.0 -104.995758  39.759856   \n",
       "497908      4701 N PEORIA ST  3183298.0  1710785.0 -104.847803  39.783106   \n",
       "497909       1735 N OGDEN ST  3147584.0  1696363.0 -104.975171  39.744151   \n",
       "497910      6343 E GIRARD PL  3164075.0  1663852.0 -104.917270  39.654625   \n",
       "497911  STOUT ST / PARK AVEW  3144912.0  1699350.0 -104.984612  39.752392   \n",
       "\n",
       "        DISTRICT_ID  PRECINCT_ID     NEIGHBORHOOD_ID  IS_CRIME  IS_TRAFFIC  \n",
       "497907            6          612         five-points         1           0  \n",
       "497908            5          511           montbello         1           0  \n",
       "497909            6          621  north-capitol-hill         1           0  \n",
       "497910            3          323             hampden         1           0  \n",
       "497911            6          621         five-points         1           0  "
      ]
     },
     "execution_count": 10,
     "metadata": {},
     "output_type": "execute_result"
    }
   ],
   "source": [
    "df.tail(5)"
   ]
  },
  {
   "cell_type": "markdown",
   "metadata": {},
   "source": [
    "Examining the observations, it is clear that the text fields contain hyphens which may cause issues.  These will be removed.  \n",
    "Further issues exist with the \"incident id\" and \"offense id\" fields.  These have been converted to floats when they are not used as numeric features but instead are categorical labels identifying either the individual crime report or offense identifier.  I will most likely drop these features as indentifiers such as these typically do not provide value in a model.  \n",
    "  \n",
    "  The last two features, \"is crime\" and \"is traffic\", are flags indicating the category (crime or traffic) of the report.  This project will focus on crime reports only, so the traffic reports will be dropped from the data.  "
   ]
  },
  {
   "cell_type": "markdown",
   "metadata": {},
   "source": [
    "#### Count Null Values"
   ]
  },
  {
   "cell_type": "code",
   "execution_count": 11,
   "metadata": {},
   "outputs": [
    {
     "data": {
      "text/plain": [
       "LAST_OCCURRENCE_DATE    337603\n",
       "INCIDENT_ADDRESS         46815\n",
       "GEO_X                     4307\n",
       "GEO_Y                     4307\n",
       "GEO_LON                   4307\n",
       "GEO_LAT                   4307\n",
       "dtype: int64"
      ]
     },
     "execution_count": 11,
     "metadata": {},
     "output_type": "execute_result"
    }
   ],
   "source": [
    "null_columns=df.columns[df.isnull().any()]\n",
    "df[null_columns].isnull().sum()  "
   ]
  },
  {
   "cell_type": "markdown",
   "metadata": {},
   "source": [
    "As noted, this dataset contains a large number of missing values.  \n",
    "\n",
    "The largest number of missing values occurs in the \"last occurrence date\" column.  Analyzing the various \"report\" features we find that there are two others beside the \"last occurrence date\".  They are \"first occurrence date\" and \"reported date\".  \n",
    "  \n",
    "The \"first occurrence date\" field contains no missing data, however, it appears that this field is filled using January 1st, 0:00 hours, of the year the report was filed.  This appears to be the case for types of crime that may occur over long periods of time, such as identity theft.  It seems reasonable to conclude that the report writer's use the January 1st date as a \"default\" date when an exact start date of the crime is unknown, but the crime has occurred over a period of time.  Fortunately, the \"reported date\" does not suffer from these issues.  I will use 'reported_date' as the incident date in this project.\n",
    "  \n",
    "The column headings are all uppercase.  I will convert them to lowercase for ease of use."
   ]
  },
  {
   "cell_type": "code",
   "execution_count": 12,
   "metadata": {},
   "outputs": [
    {
     "data": {
      "text/plain": [
       "Index(['incident_id', 'offense_id', 'offense_code', 'offense_code_extension',\n",
       "       'offense_type_id', 'offense_category_id', 'first_occurrence_date',\n",
       "       'last_occurrence_date', 'reported_date', 'incident_address', 'geo_x',\n",
       "       'geo_y', 'geo_lon', 'geo_lat', 'district_id', 'precinct_id',\n",
       "       'neighborhood_id', 'is_crime', 'is_traffic'],\n",
       "      dtype='object')"
      ]
     },
     "execution_count": 12,
     "metadata": {},
     "output_type": "execute_result"
    }
   ],
   "source": [
    "# convert headings to lowercase using map and .lower() method\n",
    "df.columns = map(str.lower, df.columns)\n",
    "df.columns "
   ]
  },
  {
   "cell_type": "markdown",
   "metadata": {},
   "source": [
    "I'll convert the \"reported_date\" field to a date/time data type."
   ]
  },
  {
   "cell_type": "code",
   "execution_count": 13,
   "metadata": {},
   "outputs": [],
   "source": [
    "# convert to date/time\n",
    "df['reported_date'] = pd.to_datetime(df['reported_date'])"
   ]
  },
  {
   "cell_type": "markdown",
   "metadata": {},
   "source": [
    "I'll remove the traffic reports from the dataframe."
   ]
  },
  {
   "cell_type": "code",
   "execution_count": 14,
   "metadata": {},
   "outputs": [],
   "source": [
    "# select all rows where 'is_traffic' is 0.  The traffic reports are identified with a 1 in this column.\n",
    "df = df.loc[df['is_traffic'] == 0].copy(deep = True)"
   ]
  },
  {
   "cell_type": "markdown",
   "metadata": {},
   "source": [
    "  \n",
    "I'll check the operation by examining the unique values found in the 'is_traffic' and 'is_crime' columns."
   ]
  },
  {
   "cell_type": "code",
   "execution_count": 15,
   "metadata": {},
   "outputs": [
    {
     "name": "stdout",
     "output_type": "stream",
     "text": [
      "Values in 'is_traffic'column:  [0]\n",
      "Values in 'is_crime' column:  [1]\n"
     ]
    }
   ],
   "source": [
    "print(f'Values in \\'is_traffic\\'column: ' , df['is_traffic'].unique())\n",
    "print(f'Values in \\'is_crime\\' column: ' , df['is_crime'].unique())"
   ]
  },
  {
   "cell_type": "markdown",
   "metadata": {},
   "source": [
    "The unique values are correct.  All values in the 'is_crime' column are 1s which indicates that only crime report observations remain in the data set.  \n",
    "I'll recheck the dataframe using the .info method.\n"
   ]
  },
  {
   "cell_type": "code",
   "execution_count": 16,
   "metadata": {},
   "outputs": [
    {
     "name": "stdout",
     "output_type": "stream",
     "text": [
      "<class 'pandas.core.frame.DataFrame'>\n",
      "Int64Index: 371189 entries, 0 to 497911\n",
      "Data columns (total 19 columns):\n",
      " #   Column                  Non-Null Count   Dtype         \n",
      "---  ------                  --------------   -----         \n",
      " 0   incident_id             371189 non-null  float64       \n",
      " 1   offense_id              371189 non-null  int64         \n",
      " 2   offense_code            371189 non-null  int64         \n",
      " 3   offense_code_extension  371189 non-null  int64         \n",
      " 4   offense_type_id         371189 non-null  object        \n",
      " 5   offense_category_id     371189 non-null  object        \n",
      " 6   first_occurrence_date   371189 non-null  object        \n",
      " 7   last_occurrence_date    159918 non-null  object        \n",
      " 8   reported_date           371189 non-null  datetime64[ns]\n",
      " 9   incident_address        339092 non-null  object        \n",
      " 10  geo_x                   366882 non-null  float64       \n",
      " 11  geo_y                   366882 non-null  float64       \n",
      " 12  geo_lon                 366882 non-null  float64       \n",
      " 13  geo_lat                 366882 non-null  float64       \n",
      " 14  district_id             371189 non-null  int64         \n",
      " 15  precinct_id             371189 non-null  int64         \n",
      " 16  neighborhood_id         371189 non-null  object        \n",
      " 17  is_crime                371189 non-null  int64         \n",
      " 18  is_traffic              371189 non-null  int64         \n",
      "dtypes: datetime64[ns](1), float64(5), int64(7), object(6)\n",
      "memory usage: 56.6+ MB\n"
     ]
    }
   ],
   "source": [
    "df.info()"
   ]
  },
  {
   "cell_type": "markdown",
   "metadata": {},
   "source": [
    "The number of observations has been reduced to 371,189.  \n",
    "  \n",
    "  Since the crime and traffic report indicator columns are no longer needed I will drop them from the dataframe."
   ]
  },
  {
   "cell_type": "code",
   "execution_count": 17,
   "metadata": {},
   "outputs": [],
   "source": [
    "df.drop(columns=['is_crime', 'is_traffic'], axis=1, inplace=True) #axis=1 refers to column-wise operations.  inplace=True saves the drop to ."
   ]
  },
  {
   "cell_type": "code",
   "execution_count": 18,
   "metadata": {},
   "outputs": [
    {
     "name": "stdout",
     "output_type": "stream",
     "text": [
      "<class 'pandas.core.frame.DataFrame'>\n",
      "Int64Index: 371189 entries, 0 to 497911\n",
      "Data columns (total 17 columns):\n",
      " #   Column                  Non-Null Count   Dtype         \n",
      "---  ------                  --------------   -----         \n",
      " 0   incident_id             371189 non-null  float64       \n",
      " 1   offense_id              371189 non-null  int64         \n",
      " 2   offense_code            371189 non-null  int64         \n",
      " 3   offense_code_extension  371189 non-null  int64         \n",
      " 4   offense_type_id         371189 non-null  object        \n",
      " 5   offense_category_id     371189 non-null  object        \n",
      " 6   first_occurrence_date   371189 non-null  object        \n",
      " 7   last_occurrence_date    159918 non-null  object        \n",
      " 8   reported_date           371189 non-null  datetime64[ns]\n",
      " 9   incident_address        339092 non-null  object        \n",
      " 10  geo_x                   366882 non-null  float64       \n",
      " 11  geo_y                   366882 non-null  float64       \n",
      " 12  geo_lon                 366882 non-null  float64       \n",
      " 13  geo_lat                 366882 non-null  float64       \n",
      " 14  district_id             371189 non-null  int64         \n",
      " 15  precinct_id             371189 non-null  int64         \n",
      " 16  neighborhood_id         371189 non-null  object        \n",
      "dtypes: datetime64[ns](1), float64(5), int64(5), object(6)\n",
      "memory usage: 51.0+ MB\n"
     ]
    }
   ],
   "source": [
    "df.info()"
   ]
  },
  {
   "cell_type": "markdown",
   "metadata": {},
   "source": [
    "The two crime type indicator columns have been dropped.  \n",
    "  \n",
    "There are still quite a few missing values in several of the columns.  I'm curious as to why there are so many missing values in the geolocation features.  I'll find the rows where the null occurs in one of the geolocation features and analyze the results."
   ]
  },
  {
   "cell_type": "code",
   "execution_count": 19,
   "metadata": {},
   "outputs": [
    {
     "data": {
      "text/html": [
       "<div>\n",
       "<style scoped>\n",
       "    .dataframe tbody tr th:only-of-type {\n",
       "        vertical-align: middle;\n",
       "    }\n",
       "\n",
       "    .dataframe tbody tr th {\n",
       "        vertical-align: top;\n",
       "    }\n",
       "\n",
       "    .dataframe thead th {\n",
       "        text-align: right;\n",
       "    }\n",
       "</style>\n",
       "<table border=\"1\" class=\"dataframe\">\n",
       "  <thead>\n",
       "    <tr style=\"text-align: right;\">\n",
       "      <th></th>\n",
       "      <th>incident_id</th>\n",
       "      <th>offense_id</th>\n",
       "      <th>offense_code</th>\n",
       "      <th>offense_code_extension</th>\n",
       "      <th>offense_type_id</th>\n",
       "      <th>offense_category_id</th>\n",
       "      <th>first_occurrence_date</th>\n",
       "      <th>last_occurrence_date</th>\n",
       "      <th>reported_date</th>\n",
       "      <th>incident_address</th>\n",
       "      <th>geo_x</th>\n",
       "      <th>geo_y</th>\n",
       "      <th>geo_lon</th>\n",
       "      <th>geo_lat</th>\n",
       "      <th>district_id</th>\n",
       "      <th>precinct_id</th>\n",
       "      <th>neighborhood_id</th>\n",
       "    </tr>\n",
       "  </thead>\n",
       "  <tbody>\n",
       "    <tr>\n",
       "      <th>9</th>\n",
       "      <td>2.016830e+09</td>\n",
       "      <td>2016829592110200</td>\n",
       "      <td>1102</td>\n",
       "      <td>0</td>\n",
       "      <td>sex-aslt-rape</td>\n",
       "      <td>sexual-assault</td>\n",
       "      <td>12/30/2016 23:00</td>\n",
       "      <td>12/30/2016 23:45</td>\n",
       "      <td>2016-12-31 04:59:00</td>\n",
       "      <td>NaN</td>\n",
       "      <td>NaN</td>\n",
       "      <td>NaN</td>\n",
       "      <td>NaN</td>\n",
       "      <td>NaN</td>\n",
       "      <td>6</td>\n",
       "      <td>611</td>\n",
       "      <td>five-points</td>\n",
       "    </tr>\n",
       "    <tr>\n",
       "      <th>70</th>\n",
       "      <td>2.018616e+09</td>\n",
       "      <td>2018616158110200</td>\n",
       "      <td>1102</td>\n",
       "      <td>0</td>\n",
       "      <td>sex-aslt-rape</td>\n",
       "      <td>sexual-assault</td>\n",
       "      <td>9/8/2018 8:00</td>\n",
       "      <td>NaN</td>\n",
       "      <td>2018-09-08 16:38:00</td>\n",
       "      <td>NaN</td>\n",
       "      <td>NaN</td>\n",
       "      <td>NaN</td>\n",
       "      <td>NaN</td>\n",
       "      <td>NaN</td>\n",
       "      <td>1</td>\n",
       "      <td>111</td>\n",
       "      <td>regis</td>\n",
       "    </tr>\n",
       "    <tr>\n",
       "      <th>290</th>\n",
       "      <td>2.020698e+08</td>\n",
       "      <td>202069781110200</td>\n",
       "      <td>1102</td>\n",
       "      <td>0</td>\n",
       "      <td>sex-aslt-rape</td>\n",
       "      <td>sexual-assault</td>\n",
       "      <td>1/31/2020 16:00</td>\n",
       "      <td>NaN</td>\n",
       "      <td>2020-01-31 18:04:00</td>\n",
       "      <td>NaN</td>\n",
       "      <td>NaN</td>\n",
       "      <td>NaN</td>\n",
       "      <td>NaN</td>\n",
       "      <td>NaN</td>\n",
       "      <td>6</td>\n",
       "      <td>612</td>\n",
       "      <td>union-station</td>\n",
       "    </tr>\n",
       "    <tr>\n",
       "      <th>291</th>\n",
       "      <td>2.015517e+09</td>\n",
       "      <td>2015516797360100</td>\n",
       "      <td>3601</td>\n",
       "      <td>1</td>\n",
       "      <td>sex-aslt-fondle-adult-victim</td>\n",
       "      <td>sexual-assault</td>\n",
       "      <td>9/5/2015 19:30</td>\n",
       "      <td>9/6/2015 8:00</td>\n",
       "      <td>2015-09-06 21:00:00</td>\n",
       "      <td>NaN</td>\n",
       "      <td>NaN</td>\n",
       "      <td>NaN</td>\n",
       "      <td>NaN</td>\n",
       "      <td>NaN</td>\n",
       "      <td>4</td>\n",
       "      <td>423</td>\n",
       "      <td>bear-valley</td>\n",
       "    </tr>\n",
       "    <tr>\n",
       "      <th>441</th>\n",
       "      <td>2.017447e+08</td>\n",
       "      <td>201744713110900</td>\n",
       "      <td>1109</td>\n",
       "      <td>0</td>\n",
       "      <td>sex-aslt-non-rape</td>\n",
       "      <td>sexual-assault</td>\n",
       "      <td>1/19/2017 23:00</td>\n",
       "      <td>1/20/2017 3:00</td>\n",
       "      <td>2017-01-21 00:41:00</td>\n",
       "      <td>NaN</td>\n",
       "      <td>NaN</td>\n",
       "      <td>NaN</td>\n",
       "      <td>NaN</td>\n",
       "      <td>NaN</td>\n",
       "      <td>2</td>\n",
       "      <td>213</td>\n",
       "      <td>city-park</td>\n",
       "    </tr>\n",
       "    <tr>\n",
       "      <th>...</th>\n",
       "      <td>...</td>\n",
       "      <td>...</td>\n",
       "      <td>...</td>\n",
       "      <td>...</td>\n",
       "      <td>...</td>\n",
       "      <td>...</td>\n",
       "      <td>...</td>\n",
       "      <td>...</td>\n",
       "      <td>...</td>\n",
       "      <td>...</td>\n",
       "      <td>...</td>\n",
       "      <td>...</td>\n",
       "      <td>...</td>\n",
       "      <td>...</td>\n",
       "      <td>...</td>\n",
       "      <td>...</td>\n",
       "      <td>...</td>\n",
       "    </tr>\n",
       "    <tr>\n",
       "      <th>497169</th>\n",
       "      <td>2.020343e+09</td>\n",
       "      <td>2020343067110200</td>\n",
       "      <td>1102</td>\n",
       "      <td>0</td>\n",
       "      <td>sex-aslt-rape</td>\n",
       "      <td>sexual-assault</td>\n",
       "      <td>6/3/2020 2:30</td>\n",
       "      <td>NaN</td>\n",
       "      <td>2020-06-03 19:06:00</td>\n",
       "      <td>NaN</td>\n",
       "      <td>NaN</td>\n",
       "      <td>NaN</td>\n",
       "      <td>NaN</td>\n",
       "      <td>NaN</td>\n",
       "      <td>6</td>\n",
       "      <td>611</td>\n",
       "      <td>civic-center</td>\n",
       "    </tr>\n",
       "    <tr>\n",
       "      <th>497205</th>\n",
       "      <td>2.020384e+09</td>\n",
       "      <td>2020383889110900</td>\n",
       "      <td>1109</td>\n",
       "      <td>0</td>\n",
       "      <td>sex-aslt-non-rape</td>\n",
       "      <td>sexual-assault</td>\n",
       "      <td>6/24/2019 8:00</td>\n",
       "      <td>NaN</td>\n",
       "      <td>2020-06-24 10:15:00</td>\n",
       "      <td>NaN</td>\n",
       "      <td>NaN</td>\n",
       "      <td>NaN</td>\n",
       "      <td>NaN</td>\n",
       "      <td>NaN</td>\n",
       "      <td>4</td>\n",
       "      <td>412</td>\n",
       "      <td>westwood</td>\n",
       "    </tr>\n",
       "    <tr>\n",
       "      <th>497703</th>\n",
       "      <td>2.020373e+09</td>\n",
       "      <td>2020373180360100</td>\n",
       "      <td>3601</td>\n",
       "      <td>1</td>\n",
       "      <td>sex-aslt-fondle-adult-victim</td>\n",
       "      <td>sexual-assault</td>\n",
       "      <td>6/19/2020 9:40</td>\n",
       "      <td>NaN</td>\n",
       "      <td>2020-06-19 10:42:00</td>\n",
       "      <td>NaN</td>\n",
       "      <td>NaN</td>\n",
       "      <td>NaN</td>\n",
       "      <td>NaN</td>\n",
       "      <td>NaN</td>\n",
       "      <td>6</td>\n",
       "      <td>611</td>\n",
       "      <td>cbd</td>\n",
       "    </tr>\n",
       "    <tr>\n",
       "      <th>497860</th>\n",
       "      <td>2.020386e+09</td>\n",
       "      <td>2020386349110200</td>\n",
       "      <td>1102</td>\n",
       "      <td>0</td>\n",
       "      <td>sex-aslt-rape</td>\n",
       "      <td>sexual-assault</td>\n",
       "      <td>6/21/2020 3:00</td>\n",
       "      <td>6/21/2020 12:00</td>\n",
       "      <td>2020-06-25 11:19:00</td>\n",
       "      <td>NaN</td>\n",
       "      <td>NaN</td>\n",
       "      <td>NaN</td>\n",
       "      <td>NaN</td>\n",
       "      <td>NaN</td>\n",
       "      <td>6</td>\n",
       "      <td>623</td>\n",
       "      <td>capitol-hill</td>\n",
       "    </tr>\n",
       "    <tr>\n",
       "      <th>497896</th>\n",
       "      <td>2.020500e+10</td>\n",
       "      <td>20205002138360100</td>\n",
       "      <td>3601</td>\n",
       "      <td>1</td>\n",
       "      <td>sex-aslt-fondle-adult-victim</td>\n",
       "      <td>sexual-assault</td>\n",
       "      <td>5/8/2020 9:00</td>\n",
       "      <td>NaN</td>\n",
       "      <td>2020-06-08 00:00:00</td>\n",
       "      <td>NaN</td>\n",
       "      <td>NaN</td>\n",
       "      <td>NaN</td>\n",
       "      <td>NaN</td>\n",
       "      <td>NaN</td>\n",
       "      <td>5</td>\n",
       "      <td>523</td>\n",
       "      <td>gateway-green-valley-ranch</td>\n",
       "    </tr>\n",
       "  </tbody>\n",
       "</table>\n",
       "<p>4307 rows × 17 columns</p>\n",
       "</div>"
      ],
      "text/plain": [
       "         incident_id         offense_id  offense_code  offense_code_extension  \\\n",
       "9       2.016830e+09   2016829592110200          1102                       0   \n",
       "70      2.018616e+09   2018616158110200          1102                       0   \n",
       "290     2.020698e+08    202069781110200          1102                       0   \n",
       "291     2.015517e+09   2015516797360100          3601                       1   \n",
       "441     2.017447e+08    201744713110900          1109                       0   \n",
       "...              ...                ...           ...                     ...   \n",
       "497169  2.020343e+09   2020343067110200          1102                       0   \n",
       "497205  2.020384e+09   2020383889110900          1109                       0   \n",
       "497703  2.020373e+09   2020373180360100          3601                       1   \n",
       "497860  2.020386e+09   2020386349110200          1102                       0   \n",
       "497896  2.020500e+10  20205002138360100          3601                       1   \n",
       "\n",
       "                     offense_type_id offense_category_id  \\\n",
       "9                      sex-aslt-rape      sexual-assault   \n",
       "70                     sex-aslt-rape      sexual-assault   \n",
       "290                    sex-aslt-rape      sexual-assault   \n",
       "291     sex-aslt-fondle-adult-victim      sexual-assault   \n",
       "441                sex-aslt-non-rape      sexual-assault   \n",
       "...                              ...                 ...   \n",
       "497169                 sex-aslt-rape      sexual-assault   \n",
       "497205             sex-aslt-non-rape      sexual-assault   \n",
       "497703  sex-aslt-fondle-adult-victim      sexual-assault   \n",
       "497860                 sex-aslt-rape      sexual-assault   \n",
       "497896  sex-aslt-fondle-adult-victim      sexual-assault   \n",
       "\n",
       "       first_occurrence_date last_occurrence_date       reported_date  \\\n",
       "9           12/30/2016 23:00     12/30/2016 23:45 2016-12-31 04:59:00   \n",
       "70             9/8/2018 8:00                  NaN 2018-09-08 16:38:00   \n",
       "290          1/31/2020 16:00                  NaN 2020-01-31 18:04:00   \n",
       "291           9/5/2015 19:30        9/6/2015 8:00 2015-09-06 21:00:00   \n",
       "441          1/19/2017 23:00       1/20/2017 3:00 2017-01-21 00:41:00   \n",
       "...                      ...                  ...                 ...   \n",
       "497169         6/3/2020 2:30                  NaN 2020-06-03 19:06:00   \n",
       "497205        6/24/2019 8:00                  NaN 2020-06-24 10:15:00   \n",
       "497703        6/19/2020 9:40                  NaN 2020-06-19 10:42:00   \n",
       "497860        6/21/2020 3:00      6/21/2020 12:00 2020-06-25 11:19:00   \n",
       "497896         5/8/2020 9:00                  NaN 2020-06-08 00:00:00   \n",
       "\n",
       "       incident_address  geo_x  geo_y  geo_lon  geo_lat  district_id  \\\n",
       "9                   NaN    NaN    NaN      NaN      NaN            6   \n",
       "70                  NaN    NaN    NaN      NaN      NaN            1   \n",
       "290                 NaN    NaN    NaN      NaN      NaN            6   \n",
       "291                 NaN    NaN    NaN      NaN      NaN            4   \n",
       "441                 NaN    NaN    NaN      NaN      NaN            2   \n",
       "...                 ...    ...    ...      ...      ...          ...   \n",
       "497169              NaN    NaN    NaN      NaN      NaN            6   \n",
       "497205              NaN    NaN    NaN      NaN      NaN            4   \n",
       "497703              NaN    NaN    NaN      NaN      NaN            6   \n",
       "497860              NaN    NaN    NaN      NaN      NaN            6   \n",
       "497896              NaN    NaN    NaN      NaN      NaN            5   \n",
       "\n",
       "        precinct_id             neighborhood_id  \n",
       "9               611                 five-points  \n",
       "70              111                       regis  \n",
       "290             612               union-station  \n",
       "291             423                 bear-valley  \n",
       "441             213                   city-park  \n",
       "...             ...                         ...  \n",
       "497169          611                civic-center  \n",
       "497205          412                    westwood  \n",
       "497703          611                         cbd  \n",
       "497860          623                capitol-hill  \n",
       "497896          523  gateway-green-valley-ranch  \n",
       "\n",
       "[4307 rows x 17 columns]"
      ]
     },
     "execution_count": 19,
     "metadata": {},
     "output_type": "execute_result"
    }
   ],
   "source": [
    "#df[df[\"geo_x\"].isnull()][null_columns]\n",
    "df[df[\"geo_x\"].isnull()]"
   ]
  },
  {
   "cell_type": "markdown",
   "metadata": {},
   "source": [
    "It appears from the sample of rows that the crime category (the 'offense_category_id' feature) contains sexual assault crimes only.  \n",
    "  \n",
    "  I'll check the unique values in that column to verify that assumption."
   ]
  },
  {
   "cell_type": "code",
   "execution_count": 20,
   "metadata": {},
   "outputs": [
    {
     "name": "stdout",
     "output_type": "stream",
     "text": [
      "Values in 'offense category' column:  ['sexual-assault']\n"
     ]
    }
   ],
   "source": [
    "missing_geo = df[df[\"geo_x\"].isnull()]\n",
    "offense_cat_na = missing_geo['offense_category_id'].unique()\n",
    "print(f'Values in \\'offense category\\' column: ' , offense_cat_na)\n"
   ]
  },
  {
   "cell_type": "markdown",
   "metadata": {},
   "source": [
    "The only value is 'sexual-assault' which confirms my assumption.  It is most likely department policy to prevent the release of address or location information of sexual assault crimes in order to protect the privacy of the victim.  \n",
    "  \n",
    "This missing geolocation data will present an issue with mapping these types of crime.  I hesitate to remove them from the dataset as a solution. I feel they are too important to the analysis.  \n",
    "  \n",
    "In order to keep the information on these crimes and to facilitate mapping, an alternate location should be used.  Denver has seven police districts, including Denver International Airport (DIA), with many precincts and stations in each district.  In addition, there is a primary station in each district whose location will be used as the location for sexual assault crimes.  \n",
    "  \n",
    "This station information is available on the City of Denver website, but, does not include latitude and longtitude information.  I took the address information for each of the seven district police stations and performed a lat/lon lookup online.  That information was added to the police station data and will be combined with the crime dataset.  \n",
    "  \n"
   ]
  },
  {
   "cell_type": "code",
   "execution_count": 21,
   "metadata": {},
   "outputs": [
    {
     "name": "stdout",
     "output_type": "stream",
     "text": [
      "<class 'pandas.core.frame.DataFrame'>\n",
      "RangeIndex: 23 entries, 0 to 22\n",
      "Data columns (total 17 columns):\n",
      " #   Column             Non-Null Count  Dtype  \n",
      "---  ------             --------------  -----  \n",
      " 0   POLICE_STATION_ID  23 non-null     int64  \n",
      " 1   STATION            23 non-null     object \n",
      " 2   STATION_NAME       23 non-null     object \n",
      " 3   ADDRESS_ID         23 non-null     object \n",
      " 4   ADDRESS_LINE1      23 non-null     object \n",
      " 5   ADDRESS_LINE2      23 non-null     object \n",
      " 6   CITY               23 non-null     object \n",
      " 7   STATE              23 non-null     object \n",
      " 8   ZIP                23 non-null     int64  \n",
      " 9   PHONE_NUMBER       23 non-null     object \n",
      " 10  FAX_NUMBER         23 non-null     object \n",
      " 11  DISTRICT_NUMBER    23 non-null     object \n",
      " 12  STATION_TYPE       23 non-null     object \n",
      " 13  STAFF_HOURS        23 non-null     object \n",
      " 14  PUBLIC_ACCESS      23 non-null     object \n",
      " 15  lat                7 non-null      float64\n",
      " 16  long               7 non-null      float64\n",
      "dtypes: float64(2), int64(2), object(13)\n",
      "memory usage: 3.2+ KB\n"
     ]
    }
   ],
   "source": [
    "# load police stations data\n",
    "stations_df = pd.read_csv(r\"E:\\Regis\\Practicum_2\\police_stations.csv\")\n",
    "stations_df.info()\n"
   ]
  },
  {
   "cell_type": "markdown",
   "metadata": {},
   "source": [
    "I'll check the operation by selecting the rows in the stations_df where 'lat' is not null."
   ]
  },
  {
   "cell_type": "code",
   "execution_count": 22,
   "metadata": {},
   "outputs": [
    {
     "data": {
      "text/html": [
       "<div>\n",
       "<style scoped>\n",
       "    .dataframe tbody tr th:only-of-type {\n",
       "        vertical-align: middle;\n",
       "    }\n",
       "\n",
       "    .dataframe tbody tr th {\n",
       "        vertical-align: top;\n",
       "    }\n",
       "\n",
       "    .dataframe thead th {\n",
       "        text-align: right;\n",
       "    }\n",
       "</style>\n",
       "<table border=\"1\" class=\"dataframe\">\n",
       "  <thead>\n",
       "    <tr style=\"text-align: right;\">\n",
       "      <th></th>\n",
       "      <th>POLICE_STATION_ID</th>\n",
       "      <th>STATION</th>\n",
       "      <th>STATION_NAME</th>\n",
       "      <th>ADDRESS_ID</th>\n",
       "      <th>ADDRESS_LINE1</th>\n",
       "      <th>ADDRESS_LINE2</th>\n",
       "      <th>CITY</th>\n",
       "      <th>STATE</th>\n",
       "      <th>ZIP</th>\n",
       "      <th>PHONE_NUMBER</th>\n",
       "      <th>FAX_NUMBER</th>\n",
       "      <th>DISTRICT_NUMBER</th>\n",
       "      <th>STATION_TYPE</th>\n",
       "      <th>STAFF_HOURS</th>\n",
       "      <th>PUBLIC_ACCESS</th>\n",
       "      <th>lat</th>\n",
       "      <th>long</th>\n",
       "    </tr>\n",
       "  </thead>\n",
       "  <tbody>\n",
       "    <tr>\n",
       "      <th>0</th>\n",
       "      <td>0</td>\n",
       "      <td>D1</td>\n",
       "      <td>DISTRICT 1</td>\n",
       "      <td>168280</td>\n",
       "      <td>1311 W 46th Ave</td>\n",
       "      <td>None</td>\n",
       "      <td>Denver</td>\n",
       "      <td>CO</td>\n",
       "      <td>80211</td>\n",
       "      <td>720-913-0400</td>\n",
       "      <td>720-913-0560</td>\n",
       "      <td>1</td>\n",
       "      <td>DISTRICT</td>\n",
       "      <td>24 hours, 7 days / week</td>\n",
       "      <td>YES</td>\n",
       "      <td>39.780670</td>\n",
       "      <td>-105.002970</td>\n",
       "    </tr>\n",
       "    <tr>\n",
       "      <th>1</th>\n",
       "      <td>3</td>\n",
       "      <td>D2</td>\n",
       "      <td>DISTRICT 2</td>\n",
       "      <td>174574</td>\n",
       "      <td>3921 N Holly St</td>\n",
       "      <td>None</td>\n",
       "      <td>Denver</td>\n",
       "      <td>CO</td>\n",
       "      <td>80207</td>\n",
       "      <td>720-913-1000</td>\n",
       "      <td>720-913-1002</td>\n",
       "      <td>2</td>\n",
       "      <td>DISTRICT</td>\n",
       "      <td>24 hours, 7 days / week</td>\n",
       "      <td>YES</td>\n",
       "      <td>39.770620</td>\n",
       "      <td>-104.923430</td>\n",
       "    </tr>\n",
       "    <tr>\n",
       "      <th>6</th>\n",
       "      <td>11</td>\n",
       "      <td>D3</td>\n",
       "      <td>DISTRICT 3</td>\n",
       "      <td>173950</td>\n",
       "      <td>1625 S University Blvd</td>\n",
       "      <td>None</td>\n",
       "      <td>Denver</td>\n",
       "      <td>CO</td>\n",
       "      <td>80210</td>\n",
       "      <td>720-913-1300</td>\n",
       "      <td>720-913-1199</td>\n",
       "      <td>3</td>\n",
       "      <td>DISTRICT</td>\n",
       "      <td>24 hours, 7 days / week</td>\n",
       "      <td>YES</td>\n",
       "      <td>39.686840</td>\n",
       "      <td>-104.960570</td>\n",
       "    </tr>\n",
       "    <tr>\n",
       "      <th>12</th>\n",
       "      <td>1</td>\n",
       "      <td>D4</td>\n",
       "      <td>DISTRICT 4</td>\n",
       "      <td>160420</td>\n",
       "      <td>2100 S Clay St</td>\n",
       "      <td>None</td>\n",
       "      <td>Denver</td>\n",
       "      <td>CO</td>\n",
       "      <td>80219</td>\n",
       "      <td>720-913-0200</td>\n",
       "      <td>720-913-0207</td>\n",
       "      <td>4</td>\n",
       "      <td>DISTRICT</td>\n",
       "      <td>24 hours, 7 days / week</td>\n",
       "      <td>YES</td>\n",
       "      <td>39.677680</td>\n",
       "      <td>-105.019840</td>\n",
       "    </tr>\n",
       "    <tr>\n",
       "      <th>15</th>\n",
       "      <td>6</td>\n",
       "      <td>D5</td>\n",
       "      <td>DISTRICT 5</td>\n",
       "      <td>11348</td>\n",
       "      <td>4685 N Peoria St</td>\n",
       "      <td>None</td>\n",
       "      <td>Denver</td>\n",
       "      <td>CO</td>\n",
       "      <td>80239</td>\n",
       "      <td>720-913-1400</td>\n",
       "      <td>720-913-1401</td>\n",
       "      <td>5</td>\n",
       "      <td>DISTRICT</td>\n",
       "      <td>24 hours, 7 days / week</td>\n",
       "      <td>YES</td>\n",
       "      <td>39.718361</td>\n",
       "      <td>-105.027361</td>\n",
       "    </tr>\n",
       "    <tr>\n",
       "      <th>18</th>\n",
       "      <td>8</td>\n",
       "      <td>D6</td>\n",
       "      <td>DISTRICT 6</td>\n",
       "      <td>366623</td>\n",
       "      <td>1566 N Washington St</td>\n",
       "      <td>None</td>\n",
       "      <td>Denver</td>\n",
       "      <td>CO</td>\n",
       "      <td>80203</td>\n",
       "      <td>720-913-2800</td>\n",
       "      <td>720-913-2806</td>\n",
       "      <td>6</td>\n",
       "      <td>DISTRICT</td>\n",
       "      <td>24 hours, 7 days / week</td>\n",
       "      <td>YES</td>\n",
       "      <td>39.741087</td>\n",
       "      <td>-104.978630</td>\n",
       "    </tr>\n",
       "    <tr>\n",
       "      <th>19</th>\n",
       "      <td>12</td>\n",
       "      <td>D7</td>\n",
       "      <td>DISTRICT 7</td>\n",
       "      <td>221155</td>\n",
       "      <td>8500 Pena Blvd</td>\n",
       "      <td>None</td>\n",
       "      <td>Denver</td>\n",
       "      <td>CO</td>\n",
       "      <td>80249</td>\n",
       "      <td>303-342-4131</td>\n",
       "      <td>None</td>\n",
       "      <td>7</td>\n",
       "      <td>DISTRICT</td>\n",
       "      <td>None</td>\n",
       "      <td>YES</td>\n",
       "      <td>39.849563</td>\n",
       "      <td>-104.673847</td>\n",
       "    </tr>\n",
       "  </tbody>\n",
       "</table>\n",
       "</div>"
      ],
      "text/plain": [
       "    POLICE_STATION_ID STATION STATION_NAME ADDRESS_ID           ADDRESS_LINE1  \\\n",
       "0                   0      D1   DISTRICT 1     168280         1311 W 46th Ave   \n",
       "1                   3      D2   DISTRICT 2     174574         3921 N Holly St   \n",
       "6                  11      D3   DISTRICT 3     173950  1625 S University Blvd   \n",
       "12                  1      D4   DISTRICT 4     160420          2100 S Clay St   \n",
       "15                  6      D5   DISTRICT 5      11348        4685 N Peoria St   \n",
       "18                  8      D6   DISTRICT 6     366623    1566 N Washington St   \n",
       "19                 12      D7   DISTRICT 7     221155          8500 Pena Blvd   \n",
       "\n",
       "   ADDRESS_LINE2    CITY STATE    ZIP  PHONE_NUMBER    FAX_NUMBER  \\\n",
       "0           None  Denver    CO  80211  720-913-0400  720-913-0560   \n",
       "1           None  Denver    CO  80207  720-913-1000  720-913-1002   \n",
       "6           None  Denver    CO  80210  720-913-1300  720-913-1199   \n",
       "12          None  Denver    CO  80219  720-913-0200  720-913-0207   \n",
       "15          None  Denver    CO  80239  720-913-1400  720-913-1401   \n",
       "18          None  Denver    CO  80203  720-913-2800  720-913-2806   \n",
       "19          None  Denver    CO  80249  303-342-4131          None   \n",
       "\n",
       "   DISTRICT_NUMBER STATION_TYPE              STAFF_HOURS PUBLIC_ACCESS  \\\n",
       "0                1     DISTRICT  24 hours, 7 days / week           YES   \n",
       "1                2     DISTRICT  24 hours, 7 days / week           YES   \n",
       "6                3     DISTRICT  24 hours, 7 days / week           YES   \n",
       "12               4     DISTRICT  24 hours, 7 days / week           YES   \n",
       "15               5     DISTRICT  24 hours, 7 days / week           YES   \n",
       "18               6     DISTRICT  24 hours, 7 days / week           YES   \n",
       "19               7     DISTRICT                     None           YES   \n",
       "\n",
       "          lat        long  \n",
       "0   39.780670 -105.002970  \n",
       "1   39.770620 -104.923430  \n",
       "6   39.686840 -104.960570  \n",
       "12  39.677680 -105.019840  \n",
       "15  39.718361 -105.027361  \n",
       "18  39.741087 -104.978630  \n",
       "19  39.849563 -104.673847  "
      ]
     },
     "execution_count": 22,
     "metadata": {},
     "output_type": "execute_result"
    }
   ],
   "source": [
    "dist_stations = stations_df.loc[stations_df['lat'].notnull()].copy()\n",
    "dist_stations"
   ]
  },
  {
   "cell_type": "markdown",
   "metadata": {},
   "source": [
    "Looks good.  All seven district stations are accounted for and have lat/lon data.  \n",
    "  \n",
    "I'll combine the lat and lon columns using zip.  Next I'll creat a dictionary object with the district station number as the key and the lat/lon list as the value."
   ]
  },
  {
   "cell_type": "code",
   "execution_count": 23,
   "metadata": {},
   "outputs": [
    {
     "data": {
      "text/plain": [
       "{1: (39.78067, -105.00296999999999),\n",
       " 2: (39.77062, -104.92343000000001),\n",
       " 3: (39.686840000000004, -104.96056999999999),\n",
       " 4: (39.67768, -105.01983999999999),\n",
       " 5: (39.718361, -105.02736100000001),\n",
       " 6: (39.741087, -104.97863000000001),\n",
       " 7: (39.849563, -104.673847)}"
      ]
     },
     "execution_count": 23,
     "metadata": {},
     "output_type": "execute_result"
    }
   ],
   "source": [
    "latlon = zip(list(dist_stations.lat), list(dist_stations.long))\n",
    "\n",
    "dist_stations.DISTRICT_NUMBER = dist_stations.DISTRICT_NUMBER.astype(int) # convert district number field to integer\n",
    "\n",
    "station_dict = dict(zip(list(dist_stations.DISTRICT_NUMBER), latlon))\n",
    "station_dict"
   ]
  },
  {
   "cell_type": "code",
   "execution_count": 24,
   "metadata": {},
   "outputs": [],
   "source": [
    "# get list of index values for rows where \"geo_lat\" is null\n",
    "ind = list(df.loc[pd.isna(df[\"geo_lat\"]), :].index)"
   ]
  },
  {
   "cell_type": "code",
   "execution_count": 25,
   "metadata": {},
   "outputs": [],
   "source": [
    "# create empty list for missing lat/lon district ids\n",
    "# using the index numbers in ind, lookup the district id from the indexed row.\n",
    "dist_of_missing_geo_lat = []\n",
    "for i in ind:\n",
    "    dist_of_missing_geo_lat.append(df.loc[i]['district_id'])\n"
   ]
  },
  {
   "cell_type": "code",
   "execution_count": 26,
   "metadata": {},
   "outputs": [],
   "source": [
    "latlon_of_dist_stations = []\n",
    "for dist in dist_of_missing_geo_lat:\n",
    "    latlon_of_dist_stations.append(station_dict.get(dist))"
   ]
  },
  {
   "cell_type": "code",
   "execution_count": 27,
   "metadata": {},
   "outputs": [],
   "source": [
    "#latlon_of_dist_stations"
   ]
  },
  {
   "cell_type": "code",
   "execution_count": 28,
   "metadata": {},
   "outputs": [],
   "source": [
    "lats = []\n",
    "lons = []\n",
    "for lat, lon in latlon_of_dist_stations:\n",
    "    lats.append(lat)\n",
    "    lons.append(lon)"
   ]
  },
  {
   "cell_type": "code",
   "execution_count": 29,
   "metadata": {},
   "outputs": [],
   "source": [
    "\n",
    "# l = 0\n",
    "# for i in ind:\n",
    "#     df.loc[i]['geo_lat'] = lats[l]\n",
    "#     df.loc[i]['geo_lon'] = lons[l]\n",
    "#     l = l + 1"
   ]
  },
  {
   "cell_type": "code",
   "execution_count": 30,
   "metadata": {},
   "outputs": [
    {
     "name": "stderr",
     "output_type": "stream",
     "text": [
      "C:\\Users\\cr117\\Anaconda3\\lib\\site-packages\\pandas\\core\\indexing.py:671: SettingWithCopyWarning: \n",
      "A value is trying to be set on a copy of a slice from a DataFrame\n",
      "\n",
      "See the caveats in the documentation: https://pandas.pydata.org/pandas-docs/stable/user_guide/indexing.html#returning-a-view-versus-a-copy\n",
      "  self._setitem_with_indexer(indexer, value)\n"
     ]
    }
   ],
   "source": [
    "# replace the missing lat/lon with the values in lats and lons by index label\n",
    "l = 0\n",
    "for i in ind:\n",
    "    df.geo_lat.loc[i] = lats[l]\n",
    "    df.geo_lon.loc[i] = lons[l]\n",
    "    l = l + 1"
   ]
  },
  {
   "cell_type": "code",
   "execution_count": 31,
   "metadata": {},
   "outputs": [
    {
     "data": {
      "text/plain": [
       "incident_id                       2.01683e+09\n",
       "offense_id                   2016829592110200\n",
       "offense_code                             1102\n",
       "offense_code_extension                      0\n",
       "offense_type_id                 sex-aslt-rape\n",
       "offense_category_id            sexual-assault\n",
       "first_occurrence_date        12/30/2016 23:00\n",
       "last_occurrence_date         12/30/2016 23:45\n",
       "reported_date             2016-12-31 04:59:00\n",
       "incident_address                          NaN\n",
       "geo_x                                     NaN\n",
       "geo_y                                     NaN\n",
       "geo_lon                              -104.979\n",
       "geo_lat                               39.7411\n",
       "district_id                                 6\n",
       "precinct_id                               611\n",
       "neighborhood_id                   five-points\n",
       "Name: 9, dtype: object"
      ]
     },
     "execution_count": 31,
     "metadata": {},
     "output_type": "execute_result"
    }
   ],
   "source": [
    "# test the operation.  index 9 with district 6 should read 39.7411, -104.979 for lat/lon.\n",
    "df.loc[9]"
   ]
  },
  {
   "cell_type": "code",
   "execution_count": 32,
   "metadata": {},
   "outputs": [
    {
     "data": {
      "text/plain": [
       "0"
      ]
     },
     "execution_count": 32,
     "metadata": {},
     "output_type": "execute_result"
    }
   ],
   "source": [
    "# check number of nulls in the lat column\n",
    "len(df[df[\"geo_lat\"].isnull()])"
   ]
  },
  {
   "cell_type": "code",
   "execution_count": 33,
   "metadata": {},
   "outputs": [
    {
     "data": {
      "text/plain": [
       "0"
      ]
     },
     "execution_count": 33,
     "metadata": {},
     "output_type": "execute_result"
    }
   ],
   "source": [
    "# check number of nulls in the lon column\n",
    "len(df[df[\"geo_lon\"].isnull()])"
   ]
  },
  {
   "cell_type": "code",
   "execution_count": 34,
   "metadata": {},
   "outputs": [
    {
     "name": "stdout",
     "output_type": "stream",
     "text": [
      "<class 'pandas.core.frame.DataFrame'>\n",
      "Int64Index: 371189 entries, 0 to 497911\n",
      "Data columns (total 17 columns):\n",
      " #   Column                  Non-Null Count   Dtype         \n",
      "---  ------                  --------------   -----         \n",
      " 0   incident_id             371189 non-null  float64       \n",
      " 1   offense_id              371189 non-null  int64         \n",
      " 2   offense_code            371189 non-null  int64         \n",
      " 3   offense_code_extension  371189 non-null  int64         \n",
      " 4   offense_type_id         371189 non-null  object        \n",
      " 5   offense_category_id     371189 non-null  object        \n",
      " 6   first_occurrence_date   371189 non-null  object        \n",
      " 7   last_occurrence_date    159918 non-null  object        \n",
      " 8   reported_date           371189 non-null  datetime64[ns]\n",
      " 9   incident_address        339092 non-null  object        \n",
      " 10  geo_x                   366882 non-null  float64       \n",
      " 11  geo_y                   366882 non-null  float64       \n",
      " 12  geo_lon                 371189 non-null  float64       \n",
      " 13  geo_lat                 371189 non-null  float64       \n",
      " 14  district_id             371189 non-null  int64         \n",
      " 15  precinct_id             371189 non-null  int64         \n",
      " 16  neighborhood_id         371189 non-null  object        \n",
      "dtypes: datetime64[ns](1), float64(5), int64(5), object(6)\n",
      "memory usage: 61.0+ MB\n"
     ]
    }
   ],
   "source": [
    "df.info()"
   ]
  },
  {
   "cell_type": "code",
   "execution_count": 35,
   "metadata": {},
   "outputs": [],
   "source": [
    "# clean up neighborhood_id - remove hyphens, rename column\n",
    "df.rename(columns = {'neighborhood_id':'neighborhood'}, inplace = True) \n",
    "#df.neighborhood.replace(to_replace='-', value=' ', inplace=True )\n",
    "df[\"neighborhood\"] = df[\"neighborhood\"].str.replace('-', ' ')"
   ]
  },
  {
   "cell_type": "markdown",
   "metadata": {},
   "source": [
    "Save dataframe to file"
   ]
  },
  {
   "cell_type": "code",
   "execution_count": 36,
   "metadata": {},
   "outputs": [],
   "source": [
    "df.to_csv(\"df_cleaned.csv\")"
   ]
  },
  {
   "cell_type": "markdown",
   "metadata": {},
   "source": [
    "To improve on the data in the crime report set, I will associate neighborhood data from the 2010 census for each crime report.  This will allow for more robust modeling of crime categories and important features."
   ]
  },
  {
   "cell_type": "code",
   "execution_count": 37,
   "metadata": {},
   "outputs": [
    {
     "name": "stdout",
     "output_type": "stream",
     "text": [
      "<class 'pandas.core.frame.DataFrame'>\n",
      "RangeIndex: 78 entries, 0 to 77\n",
      "Data columns (total 80 columns):\n",
      " #   Column                   Non-Null Count  Dtype \n",
      "---  ------                   --------------  ----- \n",
      " 0   NBHD_ID                  78 non-null     int64 \n",
      " 1   NBRHD_NAME               78 non-null     object\n",
      " 2   POPULATION_2010          78 non-null     int64 \n",
      " 3   OCCUPIEDUNITS_2010       78 non-null     int64 \n",
      " 4   VACANTUNITS_2010         78 non-null     int64 \n",
      " 5   MALE                     78 non-null     int64 \n",
      " 6   FEMALE                   78 non-null     int64 \n",
      " 7   AGE_LESS_5               78 non-null     int64 \n",
      " 8   AGE_5_TO_9               78 non-null     int64 \n",
      " 9   AGE_10_TO_14             78 non-null     int64 \n",
      " 10  AGE_15_TO_17             78 non-null     int64 \n",
      " 11  AGE_18_AND_19            78 non-null     int64 \n",
      " 12  AGE_20                   78 non-null     int64 \n",
      " 13  AGE_21                   78 non-null     int64 \n",
      " 14  AGE_22_TO_24             78 non-null     int64 \n",
      " 15  AGE_25_TO_29             78 non-null     int64 \n",
      " 16  AGE_30_TO_34             78 non-null     int64 \n",
      " 17  AGE_35_TO_39             78 non-null     int64 \n",
      " 18  AGE_40_TO_44             78 non-null     int64 \n",
      " 19  AGE_45_TO_49             78 non-null     int64 \n",
      " 20  AGE_50_TO_54             78 non-null     int64 \n",
      " 21  AGE_55_TO_59             78 non-null     int64 \n",
      " 22  AGE_60_AND_61            78 non-null     int64 \n",
      " 23  AGE_62_TO_64             78 non-null     int64 \n",
      " 24  AGE_65_AND_66            78 non-null     int64 \n",
      " 25  AGE_67_TO_69             78 non-null     int64 \n",
      " 26  AGE_70_TO_74             78 non-null     int64 \n",
      " 27  AGE_75_TO_79             78 non-null     int64 \n",
      " 28  AGE_80_TO_84             78 non-null     int64 \n",
      " 29  AGE_85_PLUS              78 non-null     int64 \n",
      " 30  AGE_0_TO_9               78 non-null     int64 \n",
      " 31  AGE_10_TO_19             78 non-null     int64 \n",
      " 32  AGE_20_TO_29             78 non-null     int64 \n",
      " 33  AGE_30_TO_39             78 non-null     int64 \n",
      " 34  AGE_40_TO_49             78 non-null     int64 \n",
      " 35  AGE_50_TO_59             78 non-null     int64 \n",
      " 36  AGE_60_TO_69             78 non-null     int64 \n",
      " 37  AGE_70_TO_79             78 non-null     int64 \n",
      " 38  AGE_80_PLUS              78 non-null     int64 \n",
      " 39  AGE_65_PLUS              78 non-null     int64 \n",
      " 40  NUM_HOUSEHOLDS           78 non-null     int64 \n",
      " 41  ONE_PERSON_HH            78 non-null     int64 \n",
      " 42  ONE_PERSON_HH_MALE       78 non-null     int64 \n",
      " 43  ONE_PERSON_HH_FEMALE     78 non-null     int64 \n",
      " 44  TWO_OR_MORE_PERSON_HH    78 non-null     int64 \n",
      " 45  HUSB_WIFE_FAM            78 non-null     int64 \n",
      " 46  HUSB_WIFE_NO_CHILD       78 non-null     int64 \n",
      " 47  HUSB_WIFE_W_CHLDR        78 non-null     int64 \n",
      " 48  OTHER_FAMILY             78 non-null     int64 \n",
      " 49  MALE_HHLDR_NO_WIFE       78 non-null     int64 \n",
      " 50  MALE_HHLDR_W_CHLDR       78 non-null     int64 \n",
      " 51  MALE_HHLDR_NO_CHILDR     78 non-null     int64 \n",
      " 52  FEMALE_HHLDR_NO_HUSB     78 non-null     int64 \n",
      " 53  FEMALE_HHLDR_W_CHILDR    78 non-null     int64 \n",
      " 54  FEMALE_HHLDR_NO_CHILDR   78 non-null     int64 \n",
      " 55  NON_FAMILY_HH            78 non-null     int64 \n",
      " 56  NON_FAMILY_MALE_HHLDR    78 non-null     int64 \n",
      " 57  NON_FAMILY_FEMALE_HHLDR  78 non-null     int64 \n",
      " 58  HH_W_NONRELATIVES        78 non-null     int64 \n",
      " 59  HH_NO_NONRELATIVES       78 non-null     int64 \n",
      " 60  FAMILIES                 78 non-null     int64 \n",
      " 61  POP_GROUP_QRTRS          78 non-null     int64 \n",
      " 62  GQ_INSTITUTIONALIZED     78 non-null     int64 \n",
      " 63  GQ_CORRECTIONAL_FAC      78 non-null     int64 \n",
      " 64  GQ_JUVENILE_FAC          78 non-null     int64 \n",
      " 65  GQ_NURSING_FAC           78 non-null     int64 \n",
      " 66  GQ_OTHER_INST_FAC        78 non-null     int64 \n",
      " 67  GQ_NONINSTITUTIONAL      78 non-null     int64 \n",
      " 68  OCCUPIED_HU              78 non-null     int64 \n",
      " 69  VACANT_HU                78 non-null     int64 \n",
      " 70  RENTED                   78 non-null     int64 \n",
      " 71  VACANT_FOR_RENT          78 non-null     int64 \n",
      " 72  VACANT_RENTED_NOT_OCC    78 non-null     int64 \n",
      " 73  VACANT_FOR_SALE          78 non-null     int64 \n",
      " 74  VACANT_SOLD_NOT_OCC      78 non-null     int64 \n",
      " 75  VACANT_SEASONAL          78 non-null     int64 \n",
      " 76  VACANT_MIGRANT_WRKR      78 non-null     int64 \n",
      " 77  VACANT_OTHER             78 non-null     int64 \n",
      " 78  HU_OWNED                 78 non-null     int64 \n",
      " 79  HU_RENTED                78 non-null     int64 \n",
      "dtypes: int64(79), object(1)\n",
      "memory usage: 48.9+ KB\n"
     ]
    }
   ],
   "source": [
    "census_df = pd.read_csv(r\"E:\\Regis\\Practicum_2\\census_neighborhood_demographics_2010.csv\")\n",
    "census_df.info()"
   ]
  },
  {
   "cell_type": "markdown",
   "metadata": {},
   "source": [
    "This data will be merged with the existing crime report data, but, it needs some cleaning first.  \n",
    "I'll change the column names to lower case and rename \"NBRHD_NAME\" to \"neighborhood\".  "
   ]
  },
  {
   "cell_type": "code",
   "execution_count": 38,
   "metadata": {},
   "outputs": [],
   "source": [
    "census_df.columns = map(str.lower, census_df.columns)\n",
    "census_df.rename(columns = {'nbrhd_name':'neighborhood'}, inplace = True) "
   ]
  },
  {
   "cell_type": "markdown",
   "metadata": {},
   "source": [
    "The names in the neighborhood column will be used to merge the correct neighborhood data with reports in the crime data.  To do this, the names in the column must be formatted correctly in order to match.  I'll examine the census neighborhood names and compare them to the crime data names.\n",
    "  \n",
    "In addition, the names will be saved to a csv file for future operations."
   ]
  },
  {
   "cell_type": "code",
   "execution_count": 39,
   "metadata": {},
   "outputs": [
    {
     "data": {
      "text/plain": [
       "array(['Hampden', 'Baker', 'Washington Park', 'Cherry Creek',\n",
       "       'Country Club', 'Clayton', 'Skyland', 'City Park West',\n",
       "       'Capitol Hill', 'North Capitol Hill', 'Civic Center', 'CBD',\n",
       "       'Union Station', 'Five Points', 'Stapleton', 'Highland',\n",
       "       'Globeville', 'University Park', 'Cory - Merrill',\n",
       "       'Washington Park West', 'Speer', 'Congress Park', 'Cole',\n",
       "       'Sunnyside', 'Ruby Hill', 'University', 'Goldsmith',\n",
       "       'Virginia Village', 'DIA', 'University Hills', 'West Colfax',\n",
       "       'West Highland', 'Southmoor Park', 'Indian Creek', 'East Colfax',\n",
       "       'Rosedale', 'City Park', 'Lowry Field', 'Harvey Park South',\n",
       "       'Gateway / Green Valley Ranch', 'Barnum West', 'Montclair',\n",
       "       'Platt Park', 'Mar Lee', 'Westwood', 'Washington Virginia Vale',\n",
       "       'Villa Park', 'Hale', 'North Park Hill', 'South Park Hill',\n",
       "       'Kennedy', 'College View / South Platte', 'Hampden South',\n",
       "       'Northeast Park Hill', 'Elyria Swansea', 'Overland',\n",
       "       'Cheesman Park', 'Hilltop', 'Lincoln Park', 'Auraria', 'Belcaro',\n",
       "       'Windsor', 'Sloan Lake', 'Berkeley', 'Regis', 'Sun Valley',\n",
       "       'Wellshire', 'Jefferson Park', 'Valverde', 'Athmar Park',\n",
       "       'Chaffee Park', 'Harvey Park', 'Barnum', 'Whittier', 'Montbello',\n",
       "       'Marston', 'Fort Logan', 'Bear Valley'], dtype=object)"
      ]
     },
     "execution_count": 39,
     "metadata": {},
     "output_type": "execute_result"
    }
   ],
   "source": [
    "from numpy import savetxt\n",
    "from numpy import asarray\n",
    "n = census_df.neighborhood.unique()\n",
    "np.savetxt(\"neighborhoods.csv\", n, delimiter=',', fmt='%s')\n",
    "n"
   ]
  },
  {
   "cell_type": "code",
   "execution_count": null,
   "metadata": {},
   "outputs": [],
   "source": []
  },
  {
   "cell_type": "markdown",
   "metadata": {},
   "source": [
    "The names will need to be converted to all lowercase.  Two of the entries contain a forward slash and extra spaces between the names, and one is a hyphenated name.  The slashes and hyphen will need to be removed."
   ]
  },
  {
   "cell_type": "code",
   "execution_count": 40,
   "metadata": {},
   "outputs": [
    {
     "data": {
      "text/plain": [
       "array(['hampden', 'baker', 'washington park', 'cherry creek',\n",
       "       'country club', 'clayton', 'skyland', 'city park west',\n",
       "       'capitol hill', 'north capitol hill', 'civic center', 'cbd',\n",
       "       'union station', 'five points', 'stapleton', 'highland',\n",
       "       'globeville', 'university park', 'cory merrill',\n",
       "       'washington park west', 'speer', 'congress park', 'cole',\n",
       "       'sunnyside', 'ruby hill', 'university', 'goldsmith',\n",
       "       'virginia village', 'dia', 'university hills', 'west colfax',\n",
       "       'west highland', 'southmoor park', 'indian creek', 'east colfax',\n",
       "       'rosedale', 'city park', 'lowry field', 'harvey park south',\n",
       "       'gateway green valley ranch', 'barnum west', 'montclair',\n",
       "       'platt park', 'mar lee', 'westwood', 'washington virginia vale',\n",
       "       'villa park', 'hale', 'north park hill', 'south park hill',\n",
       "       'kennedy', 'college view south platte', 'hampden south',\n",
       "       'northeast park hill', 'elyria swansea', 'overland',\n",
       "       'cheesman park', 'hilltop', 'lincoln park', 'auraria', 'belcaro',\n",
       "       'windsor', 'sloan lake', 'berkeley', 'regis', 'sun valley',\n",
       "       'wellshire', 'jefferson park', 'valverde', 'athmar park',\n",
       "       'chaffee park', 'harvey park', 'barnum', 'whittier', 'montbello',\n",
       "       'marston', 'fort logan', 'bear valley'], dtype=object)"
      ]
     },
     "execution_count": 40,
     "metadata": {},
     "output_type": "execute_result"
    }
   ],
   "source": [
    "# remove forward slash and extra spaces\n",
    "census_df[\"neighborhood\"] = census_df[\"neighborhood\"].str.lower()\n",
    "census_df.neighborhood.replace(to_replace='gateway / green valley ranch', value='gateway green valley ranch', inplace=True )\n",
    "census_df.neighborhood.replace(to_replace='college view / south platte', value='college view south platte', inplace=True )\n",
    "census_df.neighborhood.replace(to_replace='cory - merrill', value='cory merrill', inplace=True )\n",
    "census_df.neighborhood.unique()"
   ]
  },
  {
   "cell_type": "code",
   "execution_count": 41,
   "metadata": {},
   "outputs": [
    {
     "data": {
      "text/plain": [
       "array(['stapleton', 'union station', 'west colfax', 'montbello',\n",
       "       'elyria swansea', 'capitol hill', 'lincoln park', 'five points',\n",
       "       'college view south platte', 'montclair', 'globeville', 'westwood',\n",
       "       'athmar park', 'regis', 'west highland', 'university', 'cbd',\n",
       "       'chaffee park', 'rosedale', 'barnum', 'gateway green valley ranch',\n",
       "       'mar lee', 'civic center', 'city park west', 'university park',\n",
       "       'congress park', 'highland', 'cheesman park', 'berkeley',\n",
       "       'lowry field', 'ruby hill', 'east colfax', 'baker',\n",
       "       'hampden south', 'kennedy', 'cherry creek', 'windsor',\n",
       "       'north capitol hill', 'hampden', 'hale', 'dia', 'fort logan',\n",
       "       'northeast park hill', 'sun valley', 'virginia village',\n",
       "       'barnum west', 'platt park', 'washington park west',\n",
       "       'harvey park south', 'harvey park', 'auraria', 'hilltop',\n",
       "       'belcaro', 'cole', 'sunnyside', 'speer', 'overland', 'skyland',\n",
       "       'villa park', 'north park hill', 'washington park', 'bear valley',\n",
       "       'washington virginia vale', 'valverde', 'south park hill',\n",
       "       'city park', 'jefferson park', 'southmoor park', 'clayton',\n",
       "       'sloan lake', 'marston', 'cory merrill', 'whittier',\n",
       "       'university hills', 'country club', 'wellshire', 'goldsmith',\n",
       "       'indian creek'], dtype=object)"
      ]
     },
     "execution_count": 41,
     "metadata": {},
     "output_type": "execute_result"
    }
   ],
   "source": [
    "df.neighborhood.unique()"
   ]
  },
  {
   "cell_type": "code",
   "execution_count": 42,
   "metadata": {},
   "outputs": [],
   "source": [
    "# Merge the datasets\n",
    "df2 = pd.merge(df, census_df, on= 'neighborhood')"
   ]
  },
  {
   "cell_type": "code",
   "execution_count": 43,
   "metadata": {},
   "outputs": [
    {
     "name": "stdout",
     "output_type": "stream",
     "text": [
      "(371189, 17)\n",
      "(78, 80)\n",
      "(371189, 96)\n"
     ]
    }
   ],
   "source": [
    "# Check the shape of the first dataframe, \n",
    "#     the census dataframe and the\n",
    "#     merged dataframe (df2)\n",
    "print(df.shape)\n",
    "print(census_df.shape)\n",
    "print(df2.shape)"
   ]
  },
  {
   "cell_type": "code",
   "execution_count": 44,
   "metadata": {},
   "outputs": [
    {
     "name": "stdout",
     "output_type": "stream",
     "text": [
      "<class 'pandas.core.frame.DataFrame'>\n",
      "Int64Index: 371189 entries, 0 to 371188\n",
      "Data columns (total 96 columns):\n",
      " #   Column                   Non-Null Count   Dtype         \n",
      "---  ------                   --------------   -----         \n",
      " 0   incident_id              371189 non-null  float64       \n",
      " 1   offense_id               371189 non-null  int64         \n",
      " 2   offense_code             371189 non-null  int64         \n",
      " 3   offense_code_extension   371189 non-null  int64         \n",
      " 4   offense_type_id          371189 non-null  object        \n",
      " 5   offense_category_id      371189 non-null  object        \n",
      " 6   first_occurrence_date    371189 non-null  object        \n",
      " 7   last_occurrence_date     159918 non-null  object        \n",
      " 8   reported_date            371189 non-null  datetime64[ns]\n",
      " 9   incident_address         339092 non-null  object        \n",
      " 10  geo_x                    366882 non-null  float64       \n",
      " 11  geo_y                    366882 non-null  float64       \n",
      " 12  geo_lon                  371189 non-null  float64       \n",
      " 13  geo_lat                  371189 non-null  float64       \n",
      " 14  district_id              371189 non-null  int64         \n",
      " 15  precinct_id              371189 non-null  int64         \n",
      " 16  neighborhood             371189 non-null  object        \n",
      " 17  nbhd_id                  371189 non-null  int64         \n",
      " 18  population_2010          371189 non-null  int64         \n",
      " 19  occupiedunits_2010       371189 non-null  int64         \n",
      " 20  vacantunits_2010         371189 non-null  int64         \n",
      " 21  male                     371189 non-null  int64         \n",
      " 22  female                   371189 non-null  int64         \n",
      " 23  age_less_5               371189 non-null  int64         \n",
      " 24  age_5_to_9               371189 non-null  int64         \n",
      " 25  age_10_to_14             371189 non-null  int64         \n",
      " 26  age_15_to_17             371189 non-null  int64         \n",
      " 27  age_18_and_19            371189 non-null  int64         \n",
      " 28  age_20                   371189 non-null  int64         \n",
      " 29  age_21                   371189 non-null  int64         \n",
      " 30  age_22_to_24             371189 non-null  int64         \n",
      " 31  age_25_to_29             371189 non-null  int64         \n",
      " 32  age_30_to_34             371189 non-null  int64         \n",
      " 33  age_35_to_39             371189 non-null  int64         \n",
      " 34  age_40_to_44             371189 non-null  int64         \n",
      " 35  age_45_to_49             371189 non-null  int64         \n",
      " 36  age_50_to_54             371189 non-null  int64         \n",
      " 37  age_55_to_59             371189 non-null  int64         \n",
      " 38  age_60_and_61            371189 non-null  int64         \n",
      " 39  age_62_to_64             371189 non-null  int64         \n",
      " 40  age_65_and_66            371189 non-null  int64         \n",
      " 41  age_67_to_69             371189 non-null  int64         \n",
      " 42  age_70_to_74             371189 non-null  int64         \n",
      " 43  age_75_to_79             371189 non-null  int64         \n",
      " 44  age_80_to_84             371189 non-null  int64         \n",
      " 45  age_85_plus              371189 non-null  int64         \n",
      " 46  age_0_to_9               371189 non-null  int64         \n",
      " 47  age_10_to_19             371189 non-null  int64         \n",
      " 48  age_20_to_29             371189 non-null  int64         \n",
      " 49  age_30_to_39             371189 non-null  int64         \n",
      " 50  age_40_to_49             371189 non-null  int64         \n",
      " 51  age_50_to_59             371189 non-null  int64         \n",
      " 52  age_60_to_69             371189 non-null  int64         \n",
      " 53  age_70_to_79             371189 non-null  int64         \n",
      " 54  age_80_plus              371189 non-null  int64         \n",
      " 55  age_65_plus              371189 non-null  int64         \n",
      " 56  num_households           371189 non-null  int64         \n",
      " 57  one_person_hh            371189 non-null  int64         \n",
      " 58  one_person_hh_male       371189 non-null  int64         \n",
      " 59  one_person_hh_female     371189 non-null  int64         \n",
      " 60  two_or_more_person_hh    371189 non-null  int64         \n",
      " 61  husb_wife_fam            371189 non-null  int64         \n",
      " 62  husb_wife_no_child       371189 non-null  int64         \n",
      " 63  husb_wife_w_chldr        371189 non-null  int64         \n",
      " 64  other_family             371189 non-null  int64         \n",
      " 65  male_hhldr_no_wife       371189 non-null  int64         \n",
      " 66  male_hhldr_w_chldr       371189 non-null  int64         \n",
      " 67  male_hhldr_no_childr     371189 non-null  int64         \n",
      " 68  female_hhldr_no_husb     371189 non-null  int64         \n",
      " 69  female_hhldr_w_childr    371189 non-null  int64         \n",
      " 70  female_hhldr_no_childr   371189 non-null  int64         \n",
      " 71  non_family_hh            371189 non-null  int64         \n",
      " 72  non_family_male_hhldr    371189 non-null  int64         \n",
      " 73  non_family_female_hhldr  371189 non-null  int64         \n",
      " 74  hh_w_nonrelatives        371189 non-null  int64         \n",
      " 75  hh_no_nonrelatives       371189 non-null  int64         \n",
      " 76  families                 371189 non-null  int64         \n",
      " 77  pop_group_qrtrs          371189 non-null  int64         \n",
      " 78  gq_institutionalized     371189 non-null  int64         \n",
      " 79  gq_correctional_fac      371189 non-null  int64         \n",
      " 80  gq_juvenile_fac          371189 non-null  int64         \n",
      " 81  gq_nursing_fac           371189 non-null  int64         \n",
      " 82  gq_other_inst_fac        371189 non-null  int64         \n",
      " 83  gq_noninstitutional      371189 non-null  int64         \n",
      " 84  occupied_hu              371189 non-null  int64         \n",
      " 85  vacant_hu                371189 non-null  int64         \n",
      " 86  rented                   371189 non-null  int64         \n",
      " 87  vacant_for_rent          371189 non-null  int64         \n",
      " 88  vacant_rented_not_occ    371189 non-null  int64         \n",
      " 89  vacant_for_sale          371189 non-null  int64         \n",
      " 90  vacant_sold_not_occ      371189 non-null  int64         \n",
      " 91  vacant_seasonal          371189 non-null  int64         \n",
      " 92  vacant_migrant_wrkr      371189 non-null  int64         \n",
      " 93  vacant_other             371189 non-null  int64         \n",
      " 94  hu_owned                 371189 non-null  int64         \n",
      " 95  hu_rented                371189 non-null  int64         \n",
      "dtypes: datetime64[ns](1), float64(5), int64(84), object(6)\n",
      "memory usage: 274.7+ MB\n"
     ]
    }
   ],
   "source": [
    "# Check the merged dataframe's info\n",
    "df2.info()"
   ]
  },
  {
   "cell_type": "code",
   "execution_count": 45,
   "metadata": {},
   "outputs": [
    {
     "name": "stdout",
     "output_type": "stream",
     "text": [
      "stapleton\n",
      "stapleton\n"
     ]
    }
   ],
   "source": [
    "# Test the 'neighborhood' value for the first record in the original and merged dataframes\n",
    "print(df.loc[0, 'neighborhood'])\n",
    "print(df2.loc[0, 'neighborhood'])"
   ]
  },
  {
   "cell_type": "markdown",
   "metadata": {},
   "source": [
    "The Stapleton neighborhood is found as the first entry in each dataframe.  "
   ]
  },
  {
   "cell_type": "code",
   "execution_count": 46,
   "metadata": {},
   "outputs": [
    {
     "data": {
      "text/plain": [
       "incident_id                            2.01747e+09\n",
       "offense_id                        2017471349131500\n",
       "offense_code                                  1315\n",
       "offense_code_extension                           0\n",
       "offense_type_id                 aggravated-assault\n",
       "offense_category_id             aggravated-assault\n",
       "first_occurrence_date               7/17/2017 5:20\n",
       "last_occurrence_date                7/17/2017 5:35\n",
       "reported_date                  2017-07-17 07:39:00\n",
       "incident_address          N BROADWAY ST / BLAKE ST\n",
       "geo_x                                  3.14402e+06\n",
       "geo_y                                   1.7019e+06\n",
       "geo_lon                                   -104.988\n",
       "geo_lat                                    39.7594\n",
       "district_id                                      6\n",
       "precinct_id                                    612\n",
       "neighborhood                           five points\n",
       "Name: 200, dtype: object"
      ]
     },
     "execution_count": 46,
     "metadata": {},
     "output_type": "execute_result"
    }
   ],
   "source": [
    "# Get the info on the 201 entry in the original dataframe\n",
    "df.loc[200]"
   ]
  },
  {
   "cell_type": "markdown",
   "metadata": {},
   "source": [
    "I'll take the 'offense id' of the entry and check it in the merged dataframe."
   ]
  },
  {
   "cell_type": "code",
   "execution_count": 47,
   "metadata": {},
   "outputs": [
    {
     "name": "stdout",
     "output_type": "stream",
     "text": [
      "        incident_id        offense_id  offense_code  offense_code_extension  \\\n",
      "75882  2.017471e+09  2017471349131500          1315                       0   \n",
      "\n",
      "          offense_type_id offense_category_id first_occurrence_date  \\\n",
      "75882  aggravated-assault  aggravated-assault        7/17/2017 5:20   \n",
      "\n",
      "      last_occurrence_date       reported_date          incident_address  ...  \\\n",
      "75882       7/17/2017 5:35 2017-07-17 07:39:00  N BROADWAY ST / BLAKE ST  ...   \n",
      "\n",
      "       rented  vacant_for_rent  vacant_rented_not_occ  vacant_for_sale  \\\n",
      "75882    4632              302                      8              237   \n",
      "\n",
      "       vacant_sold_not_occ  vacant_seasonal vacant_migrant_wrkr  vacant_other  \\\n",
      "75882                   19               63                   0           112   \n",
      "\n",
      "       hu_owned  hu_rented  \n",
      "75882      1774       4632  \n",
      "\n",
      "[1 rows x 96 columns]\n",
      "five points\n"
     ]
    }
   ],
   "source": [
    "print(df2.loc[df2['offense_id'] == 2017471349131500])\n",
    "print(df2.loc[75882]['neighborhood'])"
   ]
  },
  {
   "cell_type": "code",
   "execution_count": 48,
   "metadata": {},
   "outputs": [],
   "source": [
    "# save the merged datframe\n",
    "df2.to_csv(\"df2.csv\")"
   ]
  },
  {
   "cell_type": "code",
   "execution_count": null,
   "metadata": {},
   "outputs": [],
   "source": []
  },
  {
   "cell_type": "code",
   "execution_count": 49,
   "metadata": {},
   "outputs": [
    {
     "data": {
      "text/plain": [
       "last_occurrence_date    211271\n",
       "incident_address         32097\n",
       "geo_x                     4307\n",
       "geo_y                     4307\n",
       "dtype: int64"
      ]
     },
     "execution_count": 49,
     "metadata": {},
     "output_type": "execute_result"
    }
   ],
   "source": [
    "null_columns=df.columns[df.isnull().any()]\n",
    "df[null_columns].isnull().sum() "
   ]
  },
  {
   "cell_type": "markdown",
   "metadata": {},
   "source": [
    "The operation succeeded as the number of NAs is 0.  \n",
    "Another way to check the count of null values which is easier to understand is shown."
   ]
  },
  {
   "cell_type": "code",
   "execution_count": 50,
   "metadata": {},
   "outputs": [
    {
     "data": {
      "text/plain": [
       "incident_id                    0\n",
       "offense_id                     0\n",
       "offense_code                   0\n",
       "offense_code_extension         0\n",
       "offense_type_id                0\n",
       "offense_category_id            0\n",
       "first_occurrence_date          0\n",
       "last_occurrence_date      211271\n",
       "reported_date                  0\n",
       "incident_address           32097\n",
       "geo_x                       4307\n",
       "geo_y                       4307\n",
       "geo_lon                        0\n",
       "geo_lat                        0\n",
       "district_id                    0\n",
       "precinct_id                    0\n",
       "neighborhood                   0\n",
       "dtype: int64"
      ]
     },
     "execution_count": 50,
     "metadata": {},
     "output_type": "execute_result"
    }
   ],
   "source": [
    "df.isnull().sum()"
   ]
  },
  {
   "cell_type": "markdown",
   "metadata": {},
   "source": [
    "#### Pairs plot"
   ]
  },
  {
   "cell_type": "code",
   "execution_count": 51,
   "metadata": {},
   "outputs": [
    {
     "data": {
      "text/plain": [
       "<seaborn.axisgrid.PairGrid at 0x2786682fc88>"
      ]
     },
     "execution_count": 51,
     "metadata": {},
     "output_type": "execute_result"
    },
    {
     "data": {
      "image/png": "[encoded data removed]",
      "text/plain": [
       "<Figure size 1800x1800 with 110 Axes>"
      ]
     },
     "metadata": {},
     "output_type": "display_data"
    }
   ],
   "source": [
    "sns.pairplot(df)"
   ]
  },
  {
   "cell_type": "markdown",
   "metadata": {},
   "source": [
    "#### Unique Values"
   ]
  },
  {
   "cell_type": "code",
   "execution_count": 52,
   "metadata": {},
   "outputs": [
    {
     "data": {
      "text/plain": [
       "incident_id               337210\n",
       "offense_id                370734\n",
       "offense_code                 150\n",
       "offense_code_extension         6\n",
       "offense_type_id              195\n",
       "offense_category_id           14\n",
       "first_occurrence_date     237756\n",
       "last_occurrence_date      116466\n",
       "reported_date             314454\n",
       "incident_address           85919\n",
       "geo_x                      44261\n",
       "geo_y                      42581\n",
       "geo_lon                    86381\n",
       "geo_lat                    86005\n",
       "district_id                    7\n",
       "precinct_id                   36\n",
       "neighborhood                  78\n",
       "dtype: int64"
      ]
     },
     "execution_count": 52,
     "metadata": {},
     "output_type": "execute_result"
    }
   ],
   "source": [
    "df.nunique()"
   ]
  },
  {
   "cell_type": "markdown",
   "metadata": {},
   "source": [
    "None of the values contain a single value. Single value features do not contribute to a predictive model and would have been removed if found.  "
   ]
  },
  {
   "cell_type": "markdown",
   "metadata": {},
   "source": [
    "#### Duplicate Rows"
   ]
  },
  {
   "cell_type": "code",
   "execution_count": 53,
   "metadata": {},
   "outputs": [
    {
     "data": {
      "text/html": [
       "<div>\n",
       "<style scoped>\n",
       "    .dataframe tbody tr th:only-of-type {\n",
       "        vertical-align: middle;\n",
       "    }\n",
       "\n",
       "    .dataframe tbody tr th {\n",
       "        vertical-align: top;\n",
       "    }\n",
       "\n",
       "    .dataframe thead th {\n",
       "        text-align: right;\n",
       "    }\n",
       "</style>\n",
       "<table border=\"1\" class=\"dataframe\">\n",
       "  <thead>\n",
       "    <tr style=\"text-align: right;\">\n",
       "      <th></th>\n",
       "      <th>incident_id</th>\n",
       "      <th>offense_id</th>\n",
       "      <th>offense_code</th>\n",
       "      <th>offense_code_extension</th>\n",
       "      <th>offense_type_id</th>\n",
       "      <th>offense_category_id</th>\n",
       "      <th>first_occurrence_date</th>\n",
       "      <th>last_occurrence_date</th>\n",
       "      <th>reported_date</th>\n",
       "      <th>incident_address</th>\n",
       "      <th>geo_x</th>\n",
       "      <th>geo_y</th>\n",
       "      <th>geo_lon</th>\n",
       "      <th>geo_lat</th>\n",
       "      <th>district_id</th>\n",
       "      <th>precinct_id</th>\n",
       "      <th>neighborhood</th>\n",
       "    </tr>\n",
       "  </thead>\n",
       "  <tbody>\n",
       "  </tbody>\n",
       "</table>\n",
       "</div>"
      ],
      "text/plain": [
       "Empty DataFrame\n",
       "Columns: [incident_id, offense_id, offense_code, offense_code_extension, offense_type_id, offense_category_id, first_occurrence_date, last_occurrence_date, reported_date, incident_address, geo_x, geo_y, geo_lon, geo_lat, district_id, precinct_id, neighborhood]\n",
       "Index: []"
      ]
     },
     "execution_count": 53,
     "metadata": {},
     "output_type": "execute_result"
    }
   ],
   "source": [
    "dupe_rows_df = df[df.duplicated()]\n",
    "dupe_rows_df"
   ]
  },
  {
   "cell_type": "markdown",
   "metadata": {},
   "source": [
    "There are no duplicate rows in the data."
   ]
  },
  {
   "cell_type": "markdown",
   "metadata": {},
   "source": [
    "#### Correlation Plot\n",
    "  \n",
    "  The possible correlations between features will be assessed visually.  \n",
    "  Code taken from: https://seaborn.pydata.org/examples/many_pairwise_correlations.html"
   ]
  },
  {
   "cell_type": "code",
   "execution_count": 54,
   "metadata": {},
   "outputs": [
    {
     "data": {
      "text/plain": [
       "<matplotlib.axes._subplots.AxesSubplot at 0x27804cb3d30>"
      ]
     },
     "execution_count": 54,
     "metadata": {},
     "output_type": "execute_result"
    },
    {
     "data": {
      "image/png": "[encoded data removed]",
      "text/plain": [
       "<Figure size 504x432 with 2 Axes>"
      ]
     },
     "metadata": {},
     "output_type": "display_data"
    }
   ],
   "source": [
    "# Compute the correlation matrix\n",
    "corr = df.corr()\n",
    "\n",
    "# Generate a mask for the upper triangle\n",
    "mask = np.triu(np.ones_like(corr, dtype=np.bool))\n",
    "\n",
    "# Set up the matplotlib figure\n",
    "f, ax = plt.subplots(figsize=(7, 6))\n",
    "\n",
    "# Generate a custom diverging colormap\n",
    "cmap = sns.diverging_palette(220, 10, as_cmap=True)\n",
    "\n",
    "# Draw the heatmap with the mask and correct aspect ratio\n",
    "sns.heatmap(corr, mask=mask, cmap=cmap, vmax=.3, center=0,\n",
    "            square=True, linewidths=.5, cbar_kws={\"shrink\": .5})"
   ]
  },
  {
   "cell_type": "code",
   "execution_count": 55,
   "metadata": {},
   "outputs": [
    {
     "data": {
      "text/html": [
       "<div>\n",
       "<style scoped>\n",
       "    .dataframe tbody tr th:only-of-type {\n",
       "        vertical-align: middle;\n",
       "    }\n",
       "\n",
       "    .dataframe tbody tr th {\n",
       "        vertical-align: top;\n",
       "    }\n",
       "\n",
       "    .dataframe thead th {\n",
       "        text-align: right;\n",
       "    }\n",
       "</style>\n",
       "<table border=\"1\" class=\"dataframe\">\n",
       "  <thead>\n",
       "    <tr style=\"text-align: right;\">\n",
       "      <th></th>\n",
       "      <th>incident_id</th>\n",
       "      <th>offense_id</th>\n",
       "      <th>offense_code</th>\n",
       "      <th>offense_code_extension</th>\n",
       "      <th>geo_x</th>\n",
       "      <th>geo_y</th>\n",
       "      <th>geo_lon</th>\n",
       "      <th>geo_lat</th>\n",
       "      <th>district_id</th>\n",
       "      <th>precinct_id</th>\n",
       "    </tr>\n",
       "  </thead>\n",
       "  <tbody>\n",
       "    <tr>\n",
       "      <th>incident_id</th>\n",
       "      <td>1.000000</td>\n",
       "      <td>1.000000</td>\n",
       "      <td>-0.077881</td>\n",
       "      <td>0.004795</td>\n",
       "      <td>0.001676</td>\n",
       "      <td>0.001880</td>\n",
       "      <td>0.002283</td>\n",
       "      <td>0.001847</td>\n",
       "      <td>0.025189</td>\n",
       "      <td>0.027555</td>\n",
       "    </tr>\n",
       "    <tr>\n",
       "      <th>offense_id</th>\n",
       "      <td>1.000000</td>\n",
       "      <td>1.000000</td>\n",
       "      <td>-0.077881</td>\n",
       "      <td>0.004795</td>\n",
       "      <td>0.001676</td>\n",
       "      <td>0.001880</td>\n",
       "      <td>0.002283</td>\n",
       "      <td>0.001847</td>\n",
       "      <td>0.025189</td>\n",
       "      <td>0.027555</td>\n",
       "    </tr>\n",
       "    <tr>\n",
       "      <th>offense_code</th>\n",
       "      <td>-0.077881</td>\n",
       "      <td>-0.077881</td>\n",
       "      <td>1.000000</td>\n",
       "      <td>0.050081</td>\n",
       "      <td>-0.003928</td>\n",
       "      <td>0.006396</td>\n",
       "      <td>-0.004033</td>\n",
       "      <td>0.007450</td>\n",
       "      <td>0.010637</td>\n",
       "      <td>0.010192</td>\n",
       "    </tr>\n",
       "    <tr>\n",
       "      <th>offense_code_extension</th>\n",
       "      <td>0.004795</td>\n",
       "      <td>0.004795</td>\n",
       "      <td>0.050081</td>\n",
       "      <td>1.000000</td>\n",
       "      <td>0.002194</td>\n",
       "      <td>0.002975</td>\n",
       "      <td>0.002216</td>\n",
       "      <td>-0.001565</td>\n",
       "      <td>-0.000375</td>\n",
       "      <td>0.000019</td>\n",
       "    </tr>\n",
       "    <tr>\n",
       "      <th>geo_x</th>\n",
       "      <td>0.001676</td>\n",
       "      <td>0.001676</td>\n",
       "      <td>-0.003928</td>\n",
       "      <td>0.002194</td>\n",
       "      <td>1.000000</td>\n",
       "      <td>0.992764</td>\n",
       "      <td>0.999926</td>\n",
       "      <td>-0.993982</td>\n",
       "      <td>0.032338</td>\n",
       "      <td>0.035711</td>\n",
       "    </tr>\n",
       "    <tr>\n",
       "      <th>geo_y</th>\n",
       "      <td>0.001880</td>\n",
       "      <td>0.001880</td>\n",
       "      <td>0.006396</td>\n",
       "      <td>0.002975</td>\n",
       "      <td>0.992764</td>\n",
       "      <td>1.000000</td>\n",
       "      <td>0.992793</td>\n",
       "      <td>-0.977039</td>\n",
       "      <td>0.034217</td>\n",
       "      <td>0.036905</td>\n",
       "    </tr>\n",
       "    <tr>\n",
       "      <th>geo_lon</th>\n",
       "      <td>0.002283</td>\n",
       "      <td>0.002283</td>\n",
       "      <td>-0.004033</td>\n",
       "      <td>0.002216</td>\n",
       "      <td>0.999926</td>\n",
       "      <td>0.992793</td>\n",
       "      <td>1.000000</td>\n",
       "      <td>-0.992889</td>\n",
       "      <td>0.034699</td>\n",
       "      <td>0.038240</td>\n",
       "    </tr>\n",
       "    <tr>\n",
       "      <th>geo_lat</th>\n",
       "      <td>0.001847</td>\n",
       "      <td>0.001847</td>\n",
       "      <td>0.007450</td>\n",
       "      <td>-0.001565</td>\n",
       "      <td>-0.993982</td>\n",
       "      <td>-0.977039</td>\n",
       "      <td>-0.992889</td>\n",
       "      <td>1.000000</td>\n",
       "      <td>-0.015722</td>\n",
       "      <td>-0.018389</td>\n",
       "    </tr>\n",
       "    <tr>\n",
       "      <th>district_id</th>\n",
       "      <td>0.025189</td>\n",
       "      <td>0.025189</td>\n",
       "      <td>0.010637</td>\n",
       "      <td>-0.000375</td>\n",
       "      <td>0.032338</td>\n",
       "      <td>0.034217</td>\n",
       "      <td>0.034699</td>\n",
       "      <td>-0.015722</td>\n",
       "      <td>1.000000</td>\n",
       "      <td>0.999229</td>\n",
       "    </tr>\n",
       "    <tr>\n",
       "      <th>precinct_id</th>\n",
       "      <td>0.027555</td>\n",
       "      <td>0.027555</td>\n",
       "      <td>0.010192</td>\n",
       "      <td>0.000019</td>\n",
       "      <td>0.035711</td>\n",
       "      <td>0.036905</td>\n",
       "      <td>0.038240</td>\n",
       "      <td>-0.018389</td>\n",
       "      <td>0.999229</td>\n",
       "      <td>1.000000</td>\n",
       "    </tr>\n",
       "  </tbody>\n",
       "</table>\n",
       "</div>"
      ],
      "text/plain": [
       "                        incident_id  offense_id  offense_code  \\\n",
       "incident_id                1.000000    1.000000     -0.077881   \n",
       "offense_id                 1.000000    1.000000     -0.077881   \n",
       "offense_code              -0.077881   -0.077881      1.000000   \n",
       "offense_code_extension     0.004795    0.004795      0.050081   \n",
       "geo_x                      0.001676    0.001676     -0.003928   \n",
       "geo_y                      0.001880    0.001880      0.006396   \n",
       "geo_lon                    0.002283    0.002283     -0.004033   \n",
       "geo_lat                    0.001847    0.001847      0.007450   \n",
       "district_id                0.025189    0.025189      0.010637   \n",
       "precinct_id                0.027555    0.027555      0.010192   \n",
       "\n",
       "                        offense_code_extension     geo_x     geo_y   geo_lon  \\\n",
       "incident_id                           0.004795  0.001676  0.001880  0.002283   \n",
       "offense_id                            0.004795  0.001676  0.001880  0.002283   \n",
       "offense_code                          0.050081 -0.003928  0.006396 -0.004033   \n",
       "offense_code_extension                1.000000  0.002194  0.002975  0.002216   \n",
       "geo_x                                 0.002194  1.000000  0.992764  0.999926   \n",
       "geo_y                                 0.002975  0.992764  1.000000  0.992793   \n",
       "geo_lon                               0.002216  0.999926  0.992793  1.000000   \n",
       "geo_lat                              -0.001565 -0.993982 -0.977039 -0.992889   \n",
       "district_id                          -0.000375  0.032338  0.034217  0.034699   \n",
       "precinct_id                           0.000019  0.035711  0.036905  0.038240   \n",
       "\n",
       "                         geo_lat  district_id  precinct_id  \n",
       "incident_id             0.001847     0.025189     0.027555  \n",
       "offense_id              0.001847     0.025189     0.027555  \n",
       "offense_code            0.007450     0.010637     0.010192  \n",
       "offense_code_extension -0.001565    -0.000375     0.000019  \n",
       "geo_x                  -0.993982     0.032338     0.035711  \n",
       "geo_y                  -0.977039     0.034217     0.036905  \n",
       "geo_lon                -0.992889     0.034699     0.038240  \n",
       "geo_lat                 1.000000    -0.015722    -0.018389  \n",
       "district_id            -0.015722     1.000000     0.999229  \n",
       "precinct_id            -0.018389     0.999229     1.000000  "
      ]
     },
     "execution_count": 55,
     "metadata": {},
     "output_type": "execute_result"
    }
   ],
   "source": [
    "corr"
   ]
  },
  {
   "cell_type": "markdown",
   "metadata": {},
   "source": [
    "### EDA Pandas Profiling\n",
    "Additional EDA will be performed using the Pandas Profiling library.  \n",
    "The library implements numerous automated EDA functions with results presented in an interactive format.  More information on the library can be found here: \n",
    "- https://pypi.org/project/pandas-profiling\n",
    "- https://github.com/pandas-profiling/pandas-profiling\n",
    "- https://pandas-profiling.github.io/pandas-profiling/docs/master/index.html"
   ]
  },
  {
   "cell_type": "code",
   "execution_count": 56,
   "metadata": {},
   "outputs": [
    {
     "ename": "MemoryError",
     "evalue": "Unable to allocate 3.63 MiB for an array with shape (476061,) and data type float64",
     "output_type": "error",
     "traceback": [
      "\u001b[1;31m---------------------------------------------------------------------------\u001b[0m",
      "\u001b[1;31mMemoryError\u001b[0m                               Traceback (most recent call last)",
      "\u001b[1;32m<ipython-input-56-c740ccb09445>\u001b[0m in \u001b[0;36m<module>\u001b[1;34m\u001b[0m\n\u001b[1;32m----> 1\u001b[1;33m \u001b[0meda_report\u001b[0m \u001b[1;33m=\u001b[0m \u001b[0mpp\u001b[0m\u001b[1;33m.\u001b[0m\u001b[0mProfileReport\u001b[0m\u001b[1;33m(\u001b[0m\u001b[0mdf_profile\u001b[0m\u001b[1;33m)\u001b[0m\u001b[1;33m\u001b[0m\u001b[1;33m\u001b[0m\u001b[0m\n\u001b[0m\u001b[0;32m      2\u001b[0m \u001b[1;31m#eda_report.to_widgets() ...doesnt work... use the HTML implementation -> .to_notebook_iframe()\u001b[0m\u001b[1;33m\u001b[0m\u001b[1;33m\u001b[0m\u001b[1;33m\u001b[0m\u001b[0m\n\u001b[0;32m      3\u001b[0m \u001b[0meda_report\u001b[0m\u001b[1;33m.\u001b[0m\u001b[0mto_notebook_iframe\u001b[0m\u001b[1;33m(\u001b[0m\u001b[1;33m)\u001b[0m \u001b[1;31m# HTML implementation\u001b[0m\u001b[1;33m\u001b[0m\u001b[1;33m\u001b[0m\u001b[0m\n",
      "\u001b[1;32m~\\Anaconda3\\lib\\site-packages\\pandas_profiling\\__init__.py\u001b[0m in \u001b[0;36m__init__\u001b[1;34m(self, df, minimal, config_file, **kwargs)\u001b[0m\n\u001b[0;32m     67\u001b[0m \u001b[1;33m\u001b[0m\u001b[0m\n\u001b[0;32m     68\u001b[0m         \u001b[1;31m# Get dataset statistics\u001b[0m\u001b[1;33m\u001b[0m\u001b[1;33m\u001b[0m\u001b[1;33m\u001b[0m\u001b[0m\n\u001b[1;32m---> 69\u001b[1;33m         \u001b[0mdescription_set\u001b[0m \u001b[1;33m=\u001b[0m \u001b[0mdescribe_df\u001b[0m\u001b[1;33m(\u001b[0m\u001b[0mdf\u001b[0m\u001b[1;33m)\u001b[0m\u001b[1;33m\u001b[0m\u001b[1;33m\u001b[0m\u001b[0m\n\u001b[0m\u001b[0;32m     70\u001b[0m \u001b[1;33m\u001b[0m\u001b[0m\n\u001b[0;32m     71\u001b[0m         \u001b[1;31m# Build report structure\u001b[0m\u001b[1;33m\u001b[0m\u001b[1;33m\u001b[0m\u001b[1;33m\u001b[0m\u001b[0m\n",
      "\u001b[1;32m~\\Anaconda3\\lib\\site-packages\\pandas_profiling\\model\\describe.py\u001b[0m in \u001b[0;36mdescribe\u001b[1;34m(df)\u001b[0m\n\u001b[0;32m    524\u001b[0m         \u001b[1;32mwith\u001b[0m \u001b[0mmultiprocessing\u001b[0m\u001b[1;33m.\u001b[0m\u001b[0mpool\u001b[0m\u001b[1;33m.\u001b[0m\u001b[0mThreadPool\u001b[0m\u001b[1;33m(\u001b[0m\u001b[0mpool_size\u001b[0m\u001b[1;33m)\u001b[0m \u001b[1;32mas\u001b[0m \u001b[0mexecutor\u001b[0m\u001b[1;33m:\u001b[0m\u001b[1;33m\u001b[0m\u001b[1;33m\u001b[0m\u001b[0m\n\u001b[0;32m    525\u001b[0m             \u001b[0mseries_description\u001b[0m \u001b[1;33m=\u001b[0m \u001b[1;33m{\u001b[0m\u001b[1;33m}\u001b[0m\u001b[1;33m\u001b[0m\u001b[1;33m\u001b[0m\u001b[0m\n\u001b[1;32m--> 526\u001b[1;33m             \u001b[0mresults\u001b[0m \u001b[1;33m=\u001b[0m \u001b[0mexecutor\u001b[0m\u001b[1;33m.\u001b[0m\u001b[0mstarmap\u001b[0m\u001b[1;33m(\u001b[0m\u001b[0mmultiprocess_1d\u001b[0m\u001b[1;33m,\u001b[0m \u001b[0mdf\u001b[0m\u001b[1;33m.\u001b[0m\u001b[0miteritems\u001b[0m\u001b[1;33m(\u001b[0m\u001b[1;33m)\u001b[0m\u001b[1;33m)\u001b[0m\u001b[1;33m\u001b[0m\u001b[1;33m\u001b[0m\u001b[0m\n\u001b[0m\u001b[0;32m    527\u001b[0m             \u001b[1;32mfor\u001b[0m \u001b[0mcol\u001b[0m\u001b[1;33m,\u001b[0m \u001b[0mdescription\u001b[0m \u001b[1;32min\u001b[0m \u001b[0mresults\u001b[0m\u001b[1;33m:\u001b[0m\u001b[1;33m\u001b[0m\u001b[1;33m\u001b[0m\u001b[0m\n\u001b[0;32m    528\u001b[0m                 \u001b[0mseries_description\u001b[0m\u001b[1;33m[\u001b[0m\u001b[0mcol\u001b[0m\u001b[1;33m]\u001b[0m \u001b[1;33m=\u001b[0m \u001b[0mdescription\u001b[0m\u001b[1;33m\u001b[0m\u001b[1;33m\u001b[0m\u001b[0m\n",
      "\u001b[1;32m~\\Anaconda3\\lib\\multiprocessing\\pool.py\u001b[0m in \u001b[0;36mstarmap\u001b[1;34m(self, func, iterable, chunksize)\u001b[0m\n\u001b[0;32m    296\u001b[0m         \u001b[0;31m`\u001b[0m\u001b[0mfunc\u001b[0m\u001b[0;31m`\u001b[0m \u001b[1;32mand\u001b[0m \u001b[1;33m(\u001b[0m\u001b[0ma\u001b[0m\u001b[1;33m,\u001b[0m \u001b[0mb\u001b[0m\u001b[1;33m)\u001b[0m \u001b[0mbecomes\u001b[0m \u001b[0mfunc\u001b[0m\u001b[1;33m(\u001b[0m\u001b[0ma\u001b[0m\u001b[1;33m,\u001b[0m \u001b[0mb\u001b[0m\u001b[1;33m)\u001b[0m\u001b[1;33m.\u001b[0m\u001b[1;33m\u001b[0m\u001b[1;33m\u001b[0m\u001b[0m\n\u001b[0;32m    297\u001b[0m         '''\n\u001b[1;32m--> 298\u001b[1;33m         \u001b[1;32mreturn\u001b[0m \u001b[0mself\u001b[0m\u001b[1;33m.\u001b[0m\u001b[0m_map_async\u001b[0m\u001b[1;33m(\u001b[0m\u001b[0mfunc\u001b[0m\u001b[1;33m,\u001b[0m \u001b[0miterable\u001b[0m\u001b[1;33m,\u001b[0m \u001b[0mstarmapstar\u001b[0m\u001b[1;33m,\u001b[0m \u001b[0mchunksize\u001b[0m\u001b[1;33m)\u001b[0m\u001b[1;33m.\u001b[0m\u001b[0mget\u001b[0m\u001b[1;33m(\u001b[0m\u001b[1;33m)\u001b[0m\u001b[1;33m\u001b[0m\u001b[1;33m\u001b[0m\u001b[0m\n\u001b[0m\u001b[0;32m    299\u001b[0m \u001b[1;33m\u001b[0m\u001b[0m\n\u001b[0;32m    300\u001b[0m     def starmap_async(self, func, iterable, chunksize=None, callback=None,\n",
      "\u001b[1;32m~\\Anaconda3\\lib\\multiprocessing\\pool.py\u001b[0m in \u001b[0;36mget\u001b[1;34m(self, timeout)\u001b[0m\n\u001b[0;32m    681\u001b[0m             \u001b[1;32mreturn\u001b[0m \u001b[0mself\u001b[0m\u001b[1;33m.\u001b[0m\u001b[0m_value\u001b[0m\u001b[1;33m\u001b[0m\u001b[1;33m\u001b[0m\u001b[0m\n\u001b[0;32m    682\u001b[0m         \u001b[1;32melse\u001b[0m\u001b[1;33m:\u001b[0m\u001b[1;33m\u001b[0m\u001b[1;33m\u001b[0m\u001b[0m\n\u001b[1;32m--> 683\u001b[1;33m             \u001b[1;32mraise\u001b[0m \u001b[0mself\u001b[0m\u001b[1;33m.\u001b[0m\u001b[0m_value\u001b[0m\u001b[1;33m\u001b[0m\u001b[1;33m\u001b[0m\u001b[0m\n\u001b[0m\u001b[0;32m    684\u001b[0m \u001b[1;33m\u001b[0m\u001b[0m\n\u001b[0;32m    685\u001b[0m     \u001b[1;32mdef\u001b[0m \u001b[0m_set\u001b[0m\u001b[1;33m(\u001b[0m\u001b[0mself\u001b[0m\u001b[1;33m,\u001b[0m \u001b[0mi\u001b[0m\u001b[1;33m,\u001b[0m \u001b[0mobj\u001b[0m\u001b[1;33m)\u001b[0m\u001b[1;33m:\u001b[0m\u001b[1;33m\u001b[0m\u001b[1;33m\u001b[0m\u001b[0m\n",
      "\u001b[1;32m~\\Anaconda3\\lib\\multiprocessing\\pool.py\u001b[0m in \u001b[0;36mworker\u001b[1;34m(inqueue, outqueue, initializer, initargs, maxtasks, wrap_exception)\u001b[0m\n\u001b[0;32m    119\u001b[0m         \u001b[0mjob\u001b[0m\u001b[1;33m,\u001b[0m \u001b[0mi\u001b[0m\u001b[1;33m,\u001b[0m \u001b[0mfunc\u001b[0m\u001b[1;33m,\u001b[0m \u001b[0margs\u001b[0m\u001b[1;33m,\u001b[0m \u001b[0mkwds\u001b[0m \u001b[1;33m=\u001b[0m \u001b[0mtask\u001b[0m\u001b[1;33m\u001b[0m\u001b[1;33m\u001b[0m\u001b[0m\n\u001b[0;32m    120\u001b[0m         \u001b[1;32mtry\u001b[0m\u001b[1;33m:\u001b[0m\u001b[1;33m\u001b[0m\u001b[1;33m\u001b[0m\u001b[0m\n\u001b[1;32m--> 121\u001b[1;33m             \u001b[0mresult\u001b[0m \u001b[1;33m=\u001b[0m \u001b[1;33m(\u001b[0m\u001b[1;32mTrue\u001b[0m\u001b[1;33m,\u001b[0m \u001b[0mfunc\u001b[0m\u001b[1;33m(\u001b[0m\u001b[1;33m*\u001b[0m\u001b[0margs\u001b[0m\u001b[1;33m,\u001b[0m \u001b[1;33m**\u001b[0m\u001b[0mkwds\u001b[0m\u001b[1;33m)\u001b[0m\u001b[1;33m)\u001b[0m\u001b[1;33m\u001b[0m\u001b[1;33m\u001b[0m\u001b[0m\n\u001b[0m\u001b[0;32m    122\u001b[0m         \u001b[1;32mexcept\u001b[0m \u001b[0mException\u001b[0m \u001b[1;32mas\u001b[0m \u001b[0me\u001b[0m\u001b[1;33m:\u001b[0m\u001b[1;33m\u001b[0m\u001b[1;33m\u001b[0m\u001b[0m\n\u001b[0;32m    123\u001b[0m             \u001b[1;32mif\u001b[0m \u001b[0mwrap_exception\u001b[0m \u001b[1;32mand\u001b[0m \u001b[0mfunc\u001b[0m \u001b[1;32mis\u001b[0m \u001b[1;32mnot\u001b[0m \u001b[0m_helper_reraises_exception\u001b[0m\u001b[1;33m:\u001b[0m\u001b[1;33m\u001b[0m\u001b[1;33m\u001b[0m\u001b[0m\n",
      "\u001b[1;32m~\\Anaconda3\\lib\\multiprocessing\\pool.py\u001b[0m in \u001b[0;36mstarmapstar\u001b[1;34m(args)\u001b[0m\n\u001b[0;32m     45\u001b[0m \u001b[1;33m\u001b[0m\u001b[0m\n\u001b[0;32m     46\u001b[0m \u001b[1;32mdef\u001b[0m \u001b[0mstarmapstar\u001b[0m\u001b[1;33m(\u001b[0m\u001b[0margs\u001b[0m\u001b[1;33m)\u001b[0m\u001b[1;33m:\u001b[0m\u001b[1;33m\u001b[0m\u001b[1;33m\u001b[0m\u001b[0m\n\u001b[1;32m---> 47\u001b[1;33m     \u001b[1;32mreturn\u001b[0m \u001b[0mlist\u001b[0m\u001b[1;33m(\u001b[0m\u001b[0mitertools\u001b[0m\u001b[1;33m.\u001b[0m\u001b[0mstarmap\u001b[0m\u001b[1;33m(\u001b[0m\u001b[0margs\u001b[0m\u001b[1;33m[\u001b[0m\u001b[1;36m0\u001b[0m\u001b[1;33m]\u001b[0m\u001b[1;33m,\u001b[0m \u001b[0margs\u001b[0m\u001b[1;33m[\u001b[0m\u001b[1;36m1\u001b[0m\u001b[1;33m]\u001b[0m\u001b[1;33m)\u001b[0m\u001b[1;33m)\u001b[0m\u001b[1;33m\u001b[0m\u001b[1;33m\u001b[0m\u001b[0m\n\u001b[0m\u001b[0;32m     48\u001b[0m \u001b[1;33m\u001b[0m\u001b[0m\n\u001b[0;32m     49\u001b[0m \u001b[1;31m#\u001b[0m\u001b[1;33m\u001b[0m\u001b[1;33m\u001b[0m\u001b[1;33m\u001b[0m\u001b[0m\n",
      "\u001b[1;32m~\\Anaconda3\\lib\\site-packages\\pandas_profiling\\model\\describe.py\u001b[0m in \u001b[0;36mmultiprocess_1d\u001b[1;34m(column, series)\u001b[0m\n\u001b[0;32m    376\u001b[0m         \u001b[0mA\u001b[0m \u001b[0mtuple\u001b[0m \u001b[1;32mwith\u001b[0m \u001b[0mcolumn\u001b[0m \u001b[1;32mand\u001b[0m \u001b[0mthe\u001b[0m \u001b[0mseries\u001b[0m \u001b[0mdescription\u001b[0m\u001b[1;33m.\u001b[0m\u001b[1;33m\u001b[0m\u001b[1;33m\u001b[0m\u001b[0m\n\u001b[0;32m    377\u001b[0m     \"\"\"\n\u001b[1;32m--> 378\u001b[1;33m     \u001b[1;32mreturn\u001b[0m \u001b[0mcolumn\u001b[0m\u001b[1;33m,\u001b[0m \u001b[0mdescribe_1d\u001b[0m\u001b[1;33m(\u001b[0m\u001b[0mseries\u001b[0m\u001b[1;33m)\u001b[0m\u001b[1;33m\u001b[0m\u001b[1;33m\u001b[0m\u001b[0m\n\u001b[0m\u001b[0;32m    379\u001b[0m \u001b[1;33m\u001b[0m\u001b[0m\n\u001b[0;32m    380\u001b[0m \u001b[1;33m\u001b[0m\u001b[0m\n",
      "\u001b[1;32m~\\Anaconda3\\lib\\site-packages\\pandas_profiling\\model\\describe.py\u001b[0m in \u001b[0;36mdescribe_1d\u001b[1;34m(series)\u001b[0m\n\u001b[0;32m    357\u001b[0m         \u001b[1;32mif\u001b[0m \u001b[0mseries_description\u001b[0m\u001b[1;33m[\u001b[0m\u001b[1;34m\"type\"\u001b[0m\u001b[1;33m]\u001b[0m \u001b[1;32min\u001b[0m \u001b[0mtype_to_func\u001b[0m\u001b[1;33m:\u001b[0m\u001b[1;33m\u001b[0m\u001b[1;33m\u001b[0m\u001b[0m\n\u001b[0;32m    358\u001b[0m             series_description.update(\n\u001b[1;32m--> 359\u001b[1;33m                 \u001b[0mtype_to_func\u001b[0m\u001b[1;33m[\u001b[0m\u001b[0mseries_description\u001b[0m\u001b[1;33m[\u001b[0m\u001b[1;34m\"type\"\u001b[0m\u001b[1;33m]\u001b[0m\u001b[1;33m]\u001b[0m\u001b[1;33m(\u001b[0m\u001b[0mseries\u001b[0m\u001b[1;33m,\u001b[0m \u001b[0mseries_description\u001b[0m\u001b[1;33m)\u001b[0m\u001b[1;33m\u001b[0m\u001b[1;33m\u001b[0m\u001b[0m\n\u001b[0m\u001b[0;32m    360\u001b[0m             )\n\u001b[0;32m    361\u001b[0m         \u001b[1;32melse\u001b[0m\u001b[1;33m:\u001b[0m\u001b[1;33m\u001b[0m\u001b[1;33m\u001b[0m\u001b[0m\n",
      "\u001b[1;32m~\\Anaconda3\\lib\\site-packages\\pandas_profiling\\model\\describe.py\u001b[0m in \u001b[0;36mdescribe_numeric_1d\u001b[1;34m(series, series_description)\u001b[0m\n\u001b[0;32m     94\u001b[0m         \u001b[1;32mwith\u001b[0m \u001b[0mwarnings\u001b[0m\u001b[1;33m.\u001b[0m\u001b[0mcatch_warnings\u001b[0m\u001b[1;33m(\u001b[0m\u001b[1;33m)\u001b[0m\u001b[1;33m:\u001b[0m\u001b[1;33m\u001b[0m\u001b[1;33m\u001b[0m\u001b[0m\n\u001b[0;32m     95\u001b[0m             \u001b[0mwarnings\u001b[0m\u001b[1;33m.\u001b[0m\u001b[0msimplefilter\u001b[0m\u001b[1;33m(\u001b[0m\u001b[1;34m\"ignore\"\u001b[0m\u001b[1;33m)\u001b[0m\u001b[1;33m\u001b[0m\u001b[1;33m\u001b[0m\u001b[0m\n\u001b[1;32m---> 96\u001b[1;33m             \u001b[0mret\u001b[0m \u001b[1;33m=\u001b[0m \u001b[0mbayesian_blocks\u001b[0m\u001b[1;33m(\u001b[0m\u001b[0mstats\u001b[0m\u001b[1;33m[\u001b[0m\u001b[1;34m\"histogram_data\"\u001b[0m\u001b[1;33m]\u001b[0m\u001b[1;33m)\u001b[0m\u001b[1;33m\u001b[0m\u001b[1;33m\u001b[0m\u001b[0m\n\u001b[0m\u001b[0;32m     97\u001b[0m \u001b[1;33m\u001b[0m\u001b[0m\n\u001b[0;32m     98\u001b[0m             \u001b[1;31m# Sanity check\u001b[0m\u001b[1;33m\u001b[0m\u001b[1;33m\u001b[0m\u001b[1;33m\u001b[0m\u001b[0m\n",
      "\u001b[1;32m~\\Anaconda3\\lib\\site-packages\\astropy\\stats\\bayesian_blocks.py\u001b[0m in \u001b[0;36mbayesian_blocks\u001b[1;34m(t, x, sigma, fitness, **kwargs)\u001b[0m\n\u001b[0;32m    156\u001b[0m         \u001b[1;32mraise\u001b[0m \u001b[0mValueError\u001b[0m\u001b[1;33m(\u001b[0m\u001b[1;34m\"fitness parameter not understood\"\u001b[0m\u001b[1;33m)\u001b[0m\u001b[1;33m\u001b[0m\u001b[1;33m\u001b[0m\u001b[0m\n\u001b[0;32m    157\u001b[0m \u001b[1;33m\u001b[0m\u001b[0m\n\u001b[1;32m--> 158\u001b[1;33m     \u001b[1;32mreturn\u001b[0m \u001b[0mfitfunc\u001b[0m\u001b[1;33m.\u001b[0m\u001b[0mfit\u001b[0m\u001b[1;33m(\u001b[0m\u001b[0mt\u001b[0m\u001b[1;33m,\u001b[0m \u001b[0mx\u001b[0m\u001b[1;33m,\u001b[0m \u001b[0msigma\u001b[0m\u001b[1;33m)\u001b[0m\u001b[1;33m\u001b[0m\u001b[1;33m\u001b[0m\u001b[0m\n\u001b[0m\u001b[0;32m    159\u001b[0m \u001b[1;33m\u001b[0m\u001b[0m\n\u001b[0;32m    160\u001b[0m \u001b[1;33m\u001b[0m\u001b[0m\n",
      "\u001b[1;32m~\\Anaconda3\\lib\\site-packages\\astropy\\stats\\bayesian_blocks.py\u001b[0m in \u001b[0;36mfit\u001b[1;34m(self, t, x, sigma)\u001b[0m\n\u001b[0;32m    372\u001b[0m \u001b[1;33m\u001b[0m\u001b[0m\n\u001b[0;32m    373\u001b[0m             \u001b[1;31m# evaluate fitness function\u001b[0m\u001b[1;33m\u001b[0m\u001b[1;33m\u001b[0m\u001b[1;33m\u001b[0m\u001b[0m\n\u001b[1;32m--> 374\u001b[1;33m             \u001b[0mfit_vec\u001b[0m \u001b[1;33m=\u001b[0m \u001b[0mself\u001b[0m\u001b[1;33m.\u001b[0m\u001b[0mfitness\u001b[0m\u001b[1;33m(\u001b[0m\u001b[1;33m**\u001b[0m\u001b[0mkwds\u001b[0m\u001b[1;33m)\u001b[0m\u001b[1;33m\u001b[0m\u001b[1;33m\u001b[0m\u001b[0m\n\u001b[0m\u001b[0;32m    375\u001b[0m \u001b[1;33m\u001b[0m\u001b[0m\n\u001b[0;32m    376\u001b[0m             \u001b[0mA_R\u001b[0m \u001b[1;33m=\u001b[0m \u001b[0mfit_vec\u001b[0m \u001b[1;33m-\u001b[0m \u001b[0mncp_prior\u001b[0m\u001b[1;33m\u001b[0m\u001b[1;33m\u001b[0m\u001b[0m\n",
      "\u001b[1;32m~\\Anaconda3\\lib\\site-packages\\astropy\\stats\\bayesian_blocks.py\u001b[0m in \u001b[0;36mfitness\u001b[1;34m(self, N_k, T_k)\u001b[0m\n\u001b[0;32m    427\u001b[0m     \u001b[1;32mdef\u001b[0m \u001b[0mfitness\u001b[0m\u001b[1;33m(\u001b[0m\u001b[0mself\u001b[0m\u001b[1;33m,\u001b[0m \u001b[0mN_k\u001b[0m\u001b[1;33m,\u001b[0m \u001b[0mT_k\u001b[0m\u001b[1;33m)\u001b[0m\u001b[1;33m:\u001b[0m\u001b[1;33m\u001b[0m\u001b[1;33m\u001b[0m\u001b[0m\n\u001b[0;32m    428\u001b[0m         \u001b[1;31m# eq. 19 from Scargle 2012\u001b[0m\u001b[1;33m\u001b[0m\u001b[1;33m\u001b[0m\u001b[1;33m\u001b[0m\u001b[0m\n\u001b[1;32m--> 429\u001b[1;33m         \u001b[1;32mreturn\u001b[0m \u001b[0mN_k\u001b[0m \u001b[1;33m*\u001b[0m \u001b[1;33m(\u001b[0m\u001b[0mnp\u001b[0m\u001b[1;33m.\u001b[0m\u001b[0mlog\u001b[0m\u001b[1;33m(\u001b[0m\u001b[0mN_k\u001b[0m\u001b[1;33m)\u001b[0m \u001b[1;33m-\u001b[0m \u001b[0mnp\u001b[0m\u001b[1;33m.\u001b[0m\u001b[0mlog\u001b[0m\u001b[1;33m(\u001b[0m\u001b[0mT_k\u001b[0m\u001b[1;33m)\u001b[0m\u001b[1;33m)\u001b[0m\u001b[1;33m\u001b[0m\u001b[1;33m\u001b[0m\u001b[0m\n\u001b[0m\u001b[0;32m    430\u001b[0m \u001b[1;33m\u001b[0m\u001b[0m\n\u001b[0;32m    431\u001b[0m     \u001b[1;32mdef\u001b[0m \u001b[0mvalidate_input\u001b[0m\u001b[1;33m(\u001b[0m\u001b[0mself\u001b[0m\u001b[1;33m,\u001b[0m \u001b[0mt\u001b[0m\u001b[1;33m,\u001b[0m \u001b[0mx\u001b[0m\u001b[1;33m,\u001b[0m \u001b[0msigma\u001b[0m\u001b[1;33m)\u001b[0m\u001b[1;33m:\u001b[0m\u001b[1;33m\u001b[0m\u001b[1;33m\u001b[0m\u001b[0m\n",
      "\u001b[1;31mMemoryError\u001b[0m: Unable to allocate 3.63 MiB for an array with shape (476061,) and data type float64"
     ]
    }
   ],
   "source": [
    "eda_report = pp.ProfileReport(df_profile)\n",
    "#eda_report.to_widgets() ...doesnt work... use the HTML implementation -> .to_notebook_iframe()\n",
    "eda_report.to_notebook_iframe() # HTML implementation"
   ]
  },
  {
   "cell_type": "markdown",
   "metadata": {},
   "source": [
    "The PhiK correlation provided by Pandas Profiling is very useful.  It natively handles mixed variable types, including categorical, and creates the correlation matrix.  \n",
    "Looking at the matrix, it is clear that the target variable, 'charges', is positively correlated with \"smoker' and 'age'.  Negative correlations exist between 'charges' and the rest of the variables, except for the number of children.  That feature appears not to be correlated with 'charges'.  It is a candidate for removal during feature engineering.  "
   ]
  },
  {
   "cell_type": "markdown",
   "metadata": {},
   "source": [
    "#### Save cleaned data frame"
   ]
  },
  {
   "cell_type": "code",
   "execution_count": null,
   "metadata": {},
   "outputs": [],
   "source": [
    "df.to_csv(\"df_cleaned.csv\", index=False)"
   ]
  }
 ],
 "metadata": {
  "kernelspec": {
   "display_name": "Python 3",
   "language": "python",
   "name": "python3"
  },
  "language_info": {
   "codemirror_mode": {
    "name": "ipython",
    "version": 3
   },
   "file_extension": ".py",
   "mimetype": "text/x-python",
   "name": "python",
   "nbconvert_exporter": "python",
   "pygments_lexer": "ipython3",
   "version": "3.7.1"
  }
 },
 "nbformat": 4,
 "nbformat_minor": 4
}
