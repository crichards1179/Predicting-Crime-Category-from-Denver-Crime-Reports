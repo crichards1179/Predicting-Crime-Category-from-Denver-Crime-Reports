{
 "cells": [
  {
   "cell_type": "markdown",
   "metadata": {},
   "source": [
    "# Analysis of Crime Reports in the City and County of Denver"
   ]
  },
  {
   "cell_type": "markdown",
   "metadata": {},
   "source": [
    "#### Chris Richards\n",
    "#### Practicum 2, Summer 2020\n",
    "#### Regis University"
   ]
  },
  {
   "cell_type": "markdown",
   "metadata": {},
   "source": [
    "### GridSearchCV with XGBoost Classification"
   ]
  },
  {
   "cell_type": "code",
   "execution_count": 3,
   "metadata": {},
   "outputs": [],
   "source": [
    "import numpy as np\n",
    "import pandas as pd\n",
    "import seaborn as sns\n",
    "from scipy import stats\n",
    "import matplotlib.pyplot as plt\n",
    "import graphviz\n",
    "\n",
    "from sklearn.model_selection import GridSearchCV\n",
    "from sklearn import metrics\n",
    "from sklearn.metrics import mean_squared_error, r2_score, accuracy_score\n",
    "from sklearn.model_selection import train_test_split\n",
    "from sklearn.preprocessing import LabelEncoder\n",
    "\n",
    "import xgboost as xgb"
   ]
  },
  {
   "cell_type": "code",
   "execution_count": 4,
   "metadata": {},
   "outputs": [],
   "source": [
    "dates = [7, 8, 9] # date fields to read in as date objects, not strings\n",
    "df_all = pd.read_csv(r\"E:\\Regis\\Practicum_2\\df_cleaned.csv\", parse_dates=dates)\n",
    "\n",
    "# Randomly sample 1% of the data (for faster processing during development. Comment out for finished model)\n",
    "df = df_all.sample(frac=0.01)\n",
    "\n",
    "# Get the whole data set\n",
    "#df = df_all.copy(deep=True)"
   ]
  },
  {
   "cell_type": "code",
   "execution_count": 5,
   "metadata": {},
   "outputs": [
    {
     "name": "stdout",
     "output_type": "stream",
     "text": [
      "<class 'pandas.core.frame.DataFrame'>\n",
      "Int64Index: 3712 entries, 285007 to 317241\n",
      "Data columns (total 18 columns):\n",
      " #   Column                  Non-Null Count  Dtype         \n",
      "---  ------                  --------------  -----         \n",
      " 0   Unnamed: 0              3712 non-null   int64         \n",
      " 1   incident_id             3712 non-null   float64       \n",
      " 2   offense_id              3712 non-null   int64         \n",
      " 3   offense_code            3712 non-null   int64         \n",
      " 4   offense_code_extension  3712 non-null   int64         \n",
      " 5   offense_type_id         3712 non-null   object        \n",
      " 6   offense_category_id     3712 non-null   object        \n",
      " 7   first_occurrence_date   3712 non-null   datetime64[ns]\n",
      " 8   last_occurrence_date    1597 non-null   datetime64[ns]\n",
      " 9   reported_date           3712 non-null   datetime64[ns]\n",
      " 10  incident_address        3403 non-null   object        \n",
      " 11  geo_x                   3670 non-null   float64       \n",
      " 12  geo_y                   3670 non-null   float64       \n",
      " 13  geo_lon                 3712 non-null   float64       \n",
      " 14  geo_lat                 3712 non-null   float64       \n",
      " 15  district_id             3712 non-null   int64         \n",
      " 16  precinct_id             3712 non-null   int64         \n",
      " 17  neighborhood            3712 non-null   object        \n",
      "dtypes: datetime64[ns](3), float64(5), int64(6), object(4)\n",
      "memory usage: 551.0+ KB\n",
      "None\n",
      "          Unnamed: 0   incident_id    offense_id  offense_code  \\\n",
      "count    3712.000000  3.712000e+03  3.712000e+03   3712.000000   \n",
      "mean   249710.239494  4.431630e+09  4.431630e+15   3236.096713   \n",
      "std    144072.250042  6.458537e+09  6.458537e+15   1578.077588   \n",
      "min       122.000000  2.015639e+06  2.015639e+12    912.000000   \n",
      "25%    125904.750000  2.016137e+09  2.016137e+15   2304.000000   \n",
      "50%    249328.500000  2.017744e+09  2.017744e+15   2404.000000   \n",
      "75%    374239.500000  2.019545e+09  2.019545e+15   5016.000000   \n",
      "max    497755.000000  2.020802e+10  2.020802e+16   7399.000000   \n",
      "\n",
      "       offense_code_extension         geo_x         geo_y      geo_lon  \\\n",
      "count             3712.000000  3.670000e+03  3.670000e+03  3712.000000   \n",
      "mean                 0.280442  3.161256e+06  1.695191e+06  -104.934970   \n",
      "std                  0.674248  6.197386e+05  1.525205e+05     1.724316   \n",
      "min                  0.000000  3.082712e+06  1.648935e+06  -105.206197   \n",
      "25%                  0.000000  3.138508e+06  1.683981e+06  -105.008089   \n",
      "50%                  0.000000  3.145156e+06  1.694874e+06  -104.983799   \n",
      "75%                  0.000000  3.160707e+06  1.701982e+06  -104.929474   \n",
      "max                  5.000000  4.067476e+07  1.089045e+07    -0.000002   \n",
      "\n",
      "           geo_lat  district_id  precinct_id  \n",
      "count  3712.000000  3712.000000  3712.000000  \n",
      "mean     39.723194     3.609375   378.355603  \n",
      "std       0.653372     1.801044   180.901557  \n",
      "min       0.000001     1.000000   111.000000  \n",
      "25%      39.709848     2.000000   221.000000  \n",
      "50%      39.740059     3.000000   324.000000  \n",
      "75%      39.759619     5.000000   523.000000  \n",
      "max      39.862877     7.000000   759.000000  \n"
     ]
    }
   ],
   "source": [
    "print(df.info())\n",
    "print(df.describe())"
   ]
  },
  {
   "cell_type": "code",
   "execution_count": 6,
   "metadata": {},
   "outputs": [
    {
     "name": "stdout",
     "output_type": "stream",
     "text": [
      "<class 'pandas.core.frame.DataFrame'>\n",
      "Int64Index: 3712 entries, 285007 to 317241\n",
      "Data columns (total 6 columns):\n",
      " #   Column               Non-Null Count  Dtype  \n",
      "---  ------               --------------  -----  \n",
      " 0   offense_category_id  3712 non-null   object \n",
      " 1   geo_lon              3712 non-null   float64\n",
      " 2   geo_lat              3712 non-null   float64\n",
      " 3   district_id          3712 non-null   int64  \n",
      " 4   precinct_id          3712 non-null   int64  \n",
      " 5   neighborhood         3712 non-null   object \n",
      "dtypes: float64(2), int64(2), object(2)\n",
      "memory usage: 203.0+ KB\n"
     ]
    }
   ],
   "source": [
    "df2 = df.drop(columns=['Unnamed: 0', \n",
    "                       'incident_id', \n",
    "                       'offense_id', 'offense_code', \n",
    "                       'offense_code_extension',\n",
    "                       'first_occurrence_date', \n",
    "                       'last_occurrence_date',\n",
    "                       'reported_date', \n",
    "                       'offense_type_id', \n",
    "                       'incident_address', \n",
    "                       'geo_x', \n",
    "                       'geo_y'])\n",
    "df2.info() "
   ]
  },
  {
   "cell_type": "code",
   "execution_count": 7,
   "metadata": {},
   "outputs": [],
   "source": [
    "rawX = df2.loc[:, df2.columns != 'offense_category_id'] # select all columns except for offense category\n",
    "rawy = df2['offense_category_id']"
   ]
  },
  {
   "cell_type": "code",
   "execution_count": 8,
   "metadata": {},
   "outputs": [],
   "source": [
    "X = pd.get_dummies(rawX)\n",
    "#y = pd.get_dummies(rawy)\n",
    "y = rawy"
   ]
  },
  {
   "cell_type": "code",
   "execution_count": 9,
   "metadata": {},
   "outputs": [],
   "source": [
    "# Split dataset into training set and test set\n",
    "X_train, X_test, y_train, y_test = train_test_split(X, y, test_size=0.3,random_state=70)"
   ]
  },
  {
   "cell_type": "code",
   "execution_count": 10,
   "metadata": {},
   "outputs": [
    {
     "name": "stdout",
     "output_type": "stream",
     "text": [
      "Number of rows in test set: 1114\n"
     ]
    }
   ],
   "source": [
    "ycount = y_test.count()\n",
    "print(f'Number of rows in test set: {ycount}')"
   ]
  },
  {
   "cell_type": "markdown",
   "metadata": {},
   "source": [
    "#### GridSearchCV\n",
    "   \n",
    "Create XGBoost model"
   ]
  },
  {
   "cell_type": "code",
   "execution_count": 11,
   "metadata": {},
   "outputs": [],
   "source": [
    "xg_model = xgb.XGBClassifier()"
   ]
  },
  {
   "cell_type": "markdown",
   "metadata": {},
   "source": [
    "Create list of parameters"
   ]
  },
  {
   "cell_type": "code",
   "execution_count": 12,
   "metadata": {},
   "outputs": [],
   "source": [
    "candidate_parameters = {\n",
    "    'objective': ['multi:softmax'],\n",
    "    'num_class': [15],\n",
    "    'seed': [1970],\n",
    "    'colsample_bytree': [0.1, 0.5, 0.75], \n",
    "    'learning_rate': [0.1, 0.5, 0.75], \n",
    "    'max_depth': [3, 5, 8, 15],\n",
    "    'alpha': [1, 5, 10],\n",
    "    'gamma': [1, 5, 10],\n",
    "    'lambda': [1, 5, 10],\n",
    "    'n_estimators': [5, 20, 50], \n",
    "    'min_child_weight': [0, 1, 2, 3],\n",
    "    'tree_method': ['gpu_hist'],\n",
    "    'early_stopping_rounds': [10]\n",
    "}"
   ]
  },
  {
   "cell_type": "markdown",
   "metadata": {},
   "source": [
    "Create GridSearchCV object"
   ]
  },
  {
   "cell_type": "code",
   "execution_count": 13,
   "metadata": {},
   "outputs": [],
   "source": [
    "gs = GridSearchCV(\n",
    "    estimator=xg_model,\n",
    "    cv=5,\n",
    "    param_grid=candidate_parameters,\n",
    "    n_jobs=-1\n",
    ")"
   ]
  },
  {
   "cell_type": "markdown",
   "metadata": {},
   "source": [
    "Fit gridsearch  \n",
    "WARNING: This process takes many hours (~10hrs) to complete!"
   ]
  },
  {
   "cell_type": "code",
   "execution_count": 14,
   "metadata": {},
   "outputs": [
    {
     "name": "stderr",
     "output_type": "stream",
     "text": [
      "C:\\Users\\cr117\\Anaconda3\\lib\\site-packages\\sklearn\\model_selection\\_split.py:667: UserWarning: The least populated class in y has only 2 members, which is less than n_splits=5.\n",
      "  % (min_groups, self.n_splits)), UserWarning)\n"
     ]
    },
    {
     "name": "stdout",
     "output_type": "stream",
     "text": [
      "[17:06:07] WARNING: C:\\Users\\Administrator\\workspace\\xgboost-win64_release_1.1.0\\src\\learner.cc:480: \n",
      "Parameters: { early_stopping_rounds } might not be used.\n",
      "\n",
      "  This may not be accurate due to some parameters are only used in language bindings but\n",
      "  passed down to XGBoost core.  Or some parameters are not used but slip through this\n",
      "  verification. Please open an issue if you find above cases.\n",
      "\n",
      "\n"
     ]
    },
    {
     "data": {
      "text/plain": [
       "GridSearchCV(cv=5, error_score=nan,\n",
       "             estimator=XGBClassifier(base_score=None, booster=None,\n",
       "                                     colsample_bylevel=None,\n",
       "                                     colsample_bynode=None,\n",
       "                                     colsample_bytree=None, gamma=None,\n",
       "                                     gpu_id=None, importance_type='gain',\n",
       "                                     interaction_constraints=None,\n",
       "                                     learning_rate=None, max_delta_step=None,\n",
       "                                     max_depth=None, min_child_weight=None,\n",
       "                                     missing=nan, monotone_constraints=None,\n",
       "                                     n_estim...\n",
       "                         'colsample_bytree': [0.1, 0.5, 0.75],\n",
       "                         'early_stopping_rounds': [10], 'gamma': [1, 5, 10],\n",
       "                         'lambda': [1, 5, 10],\n",
       "                         'learning_rate': [0.1, 0.5, 0.75],\n",
       "                         'max_depth': [3, 5, 8, 15],\n",
       "                         'min_child_weight': [0, 1, 2, 3],\n",
       "                         'n_estimators': [5, 20, 50], 'num_class': [15],\n",
       "                         'objective': ['multi:softmax'], 'seed': [1970],\n",
       "                         'tree_method': ['gpu_hist']},\n",
       "             pre_dispatch='2*n_jobs', refit=True, return_train_score=False,\n",
       "             scoring=None, verbose=0)"
      ]
     },
     "execution_count": 14,
     "metadata": {},
     "output_type": "execute_result"
    }
   ],
   "source": [
    "gs.fit(X_train, y_train)"
   ]
  },
  {
   "cell_type": "markdown",
   "metadata": {},
   "source": [
    "Get best parameters"
   ]
  },
  {
   "cell_type": "code",
   "execution_count": 15,
   "metadata": {},
   "outputs": [
    {
     "data": {
      "text/plain": [
       "{'alpha': 5,\n",
       " 'colsample_bytree': 0.75,\n",
       " 'early_stopping_rounds': 10,\n",
       " 'gamma': 1,\n",
       " 'lambda': 1,\n",
       " 'learning_rate': 0.1,\n",
       " 'max_depth': 8,\n",
       " 'min_child_weight': 0,\n",
       " 'n_estimators': 50,\n",
       " 'num_class': 15,\n",
       " 'objective': 'multi:softmax',\n",
       " 'seed': 1970,\n",
       " 'tree_method': 'gpu_hist'}"
      ]
     },
     "execution_count": 15,
     "metadata": {},
     "output_type": "execute_result"
    }
   ],
   "source": [
    "gs_best_params = gs.best_params_\n",
    "gs_best_params"
   ]
  },
  {
   "cell_type": "markdown",
   "metadata": {},
   "source": [
    "Get best score"
   ]
  },
  {
   "cell_type": "code",
   "execution_count": 16,
   "metadata": {},
   "outputs": [
    {
     "data": {
      "text/plain": [
       "'Accuracy (R^2): 26.94%'"
      ]
     },
     "execution_count": 16,
     "metadata": {},
     "output_type": "execute_result"
    }
   ],
   "source": [
    "score = (gs.best_score_)*100\n",
    "f\"Accuracy (R^2): {score:.2f}%\""
   ]
  },
  {
   "cell_type": "markdown",
   "metadata": {},
   "source": [
    "Get best estimator"
   ]
  },
  {
   "cell_type": "code",
   "execution_count": 17,
   "metadata": {},
   "outputs": [
    {
     "data": {
      "text/plain": [
       "XGBClassifier(alpha=5, base_score=0.5, booster='gbtree', colsample_bylevel=1,\n",
       "              colsample_bynode=1, colsample_bytree=0.75,\n",
       "              early_stopping_rounds=10, gamma=1, gpu_id=0,\n",
       "              importance_type='gain', interaction_constraints='', lambda=1,\n",
       "              learning_rate=0.1, max_delta_step=0, max_depth=8,\n",
       "              min_child_weight=0, missing=nan,\n",
       "              monotone_constraints='(0,0,0,0,0,0,0,0,0,0,0,0,0,0,0,0,0,0,0,0,0,0,0,0,0,0,0,0,0,0,0,0,0,0,0,0,0,0,0,0,0,0,0,0,0,0,0,0,0,0,0,0,0,0,0,0,0,0,0,0,0,0,0,0,0,0,0,0,0,0,0,0,0,0,0,0,0,0,0,0,0,0)',\n",
       "              n_estimators=50, n_jobs=0, num_class=15, num_parallel_tree=1,\n",
       "              objective='multi:softprob', random_state=1970, reg_alpha=5,\n",
       "              reg_lambda=1, scale_pos_weight=None, seed=1970, subsample=1,\n",
       "              tree_method='gpu_hist', ...)"
      ]
     },
     "execution_count": 17,
     "metadata": {},
     "output_type": "execute_result"
    }
   ],
   "source": [
    "gs_best_estimator = gs.best_estimator_\n",
    "gs_best_estimator"
   ]
  },
  {
   "cell_type": "markdown",
   "metadata": {},
   "source": [
    "#### Get results\n",
    "Store the results of the model fitting"
   ]
  },
  {
   "cell_type": "code",
   "execution_count": 18,
   "metadata": {},
   "outputs": [],
   "source": [
    "gs_results = gs.cv_results_"
   ]
  },
  {
   "cell_type": "code",
   "execution_count": 19,
   "metadata": {},
   "outputs": [],
   "source": [
    "gs_predicts = gs.predict(X_test)\n"
   ]
  },
  {
   "cell_type": "markdown",
   "metadata": {},
   "source": [
    "#### XGBoost Best Model\n",
    "  \n",
    "Fit the model using best parameters"
   ]
  },
  {
   "cell_type": "code",
   "execution_count": 20,
   "metadata": {},
   "outputs": [
    {
     "name": "stdout",
     "output_type": "stream",
     "text": [
      "[17:06:13] WARNING: C:\\Users\\Administrator\\workspace\\xgboost-win64_release_1.1.0\\src\\learner.cc:480: \n",
      "Parameters: { early_stopping_rounds } might not be used.\n",
      "\n",
      "  This may not be accurate due to some parameters are only used in language bindings but\n",
      "  passed down to XGBoost core.  Or some parameters are not used but slip through this\n",
      "  verification. Please open an issue if you find above cases.\n",
      "\n",
      "\n"
     ]
    }
   ],
   "source": [
    "fit_gs = gs_best_estimator.fit(X_train,y_train)\n",
    "gs_preds = fit_gs.predict(X_test)"
   ]
  },
  {
   "cell_type": "code",
   "execution_count": 21,
   "metadata": {},
   "outputs": [
    {
     "data": {
      "text/plain": [
       "'Accuracy (R^2) Model 2 training: 33.29%'"
      ]
     },
     "execution_count": 21,
     "metadata": {},
     "output_type": "execute_result"
    }
   ],
   "source": [
    "score = fit_gs.score(X_train, y_train)*100\n",
    "f\"Accuracy (R^2) Model 2 training: {score:.2f}%\""
   ]
  },
  {
   "cell_type": "markdown",
   "metadata": {},
   "source": [
    "### Save the model to a file"
   ]
  },
  {
   "cell_type": "code",
   "execution_count": 23,
   "metadata": {},
   "outputs": [
    {
     "name": "stderr",
     "output_type": "stream",
     "text": [
      "C:\\Users\\cr117\\Anaconda3\\lib\\site-packages\\sklearn\\externals\\joblib\\__init__.py:15: FutureWarning: sklearn.externals.joblib is deprecated in 0.21 and will be removed in 0.23. Please import this functionality directly from joblib, which can be installed with: pip install joblib. If this warning is raised when loading pickled models, you may need to re-serialize those models with scikit-learn 0.21+.\n",
      "  warnings.warn(msg, category=FutureWarning)\n"
     ]
    }
   ],
   "source": [
    "from sklearn.externals import joblib "
   ]
  },
  {
   "cell_type": "code",
   "execution_count": 24,
   "metadata": {},
   "outputs": [
    {
     "data": {
      "text/plain": [
       "array(['public-disorder', 'public-disorder', 'all-other-crimes', ...,\n",
       "       'theft-from-motor-vehicle', 'all-other-crimes', 'larceny'],\n",
       "      dtype=object)"
      ]
     },
     "execution_count": 24,
     "metadata": {},
     "output_type": "execute_result"
    }
   ],
   "source": [
    "# Save the model as a pickle in a file \n",
    "joblib.dump(gs, 'prac_gscv_xgb_model2.pkl') \n",
    "  \n",
    "# Load the model from the file \n",
    "gs_model_from_joblib = joblib.load('prac_gscv_xgb_model2.pkl')  \n",
    "  \n",
    "# Use the loaded model to make predictions \n",
    "gs_model_from_joblib.predict(X_test) "
   ]
  },
  {
   "cell_type": "markdown",
   "metadata": {},
   "source": [
    "### Save as json file"
   ]
  },
  {
   "cell_type": "code",
   "execution_count": 25,
   "metadata": {},
   "outputs": [],
   "source": [
    "fit_gs.save_model('prac2_gscv_xgb_fit_model3.json')"
   ]
  },
  {
   "cell_type": "markdown",
   "metadata": {},
   "source": [
    "#### Model 2: Plots\n",
    "Plot the top 10 most important features in the model."
   ]
  },
  {
   "cell_type": "code",
   "execution_count": 51,
   "metadata": {},
   "outputs": [
    {
     "data": {
      "text/plain": [
       "<matplotlib.axes._subplots.AxesSubplot at 0x17714365320>"
      ]
     },
     "execution_count": 51,
     "metadata": {},
     "output_type": "execute_result"
    },
    {
     "data": {
      "image/png": "[encoded data removed]",
      "text/plain": [
       "<Figure size 432x288 with 1 Axes>"
      ]
     },
     "metadata": {
      "needs_background": "light"
     },
     "output_type": "display_data"
    }
   ],
   "source": [
    "feature_important = fit_gs.get_booster().get_score(importance_type='weight')\n",
    "keys = list(feature_important.keys())\n",
    "values = list(feature_important.values())\n",
    "\n",
    "data = pd.DataFrame(data=values, index=keys, columns=[\"score\"]).sort_values(by = \"score\", ascending=False)\n",
    "x = data.head(10)\n",
    "x.plot(kind='barh')"
   ]
  },
  {
   "cell_type": "markdown",
   "metadata": {},
   "source": [
    "#### Visualize the decision tree"
   ]
  },
  {
   "cell_type": "code",
   "execution_count": 27,
   "metadata": {},
   "outputs": [
    {
     "data": {
      "image/svg+xml": [
       "<?xml version=\"1.0\" encoding=\"UTF-8\" standalone=\"no\"?>\r\n",
       "<!DOCTYPE svg PUBLIC \"-//W3C//DTD SVG 1.1//EN\"\r\n",
       " \"http://www.w3.org/Graphics/SVG/1.1/DTD/svg11.dtd\">\r\n",
       "<!-- Generated by graphviz version 2.38.0 (20140413.2041)\r\n",
       " -->\r\n",
       "<!-- Title: %3 Pages: 1 -->\r\n",
       "<svg width=\"1014pt\" height=\"740pt\"\r\n",
       " viewBox=\"0.00 0.00 1013.53 740.00\" xmlns=\"http://www.w3.org/2000/svg\" xmlns:xlink=\"http://www.w3.org/1999/xlink\">\r\n",
       "<g id=\"graph0\" class=\"graph\" transform=\"scale(1 1) rotate(0) translate(4 736)\">\r\n",
       "<title>%3</title>\r\n",
       "<polygon fill=\"white\" stroke=\"none\" points=\"-4,4 -4,-736 1009.53,-736 1009.53,4 -4,4\"/>\r\n",
       "<!-- 0 -->\r\n",
       "<g id=\"node1\" class=\"node\"><title>0</title>\r\n",
       "<ellipse fill=\"none\" stroke=\"black\" cx=\"777.085\" cy=\"-714\" rx=\"84.485\" ry=\"18\"/>\r\n",
       "<text text-anchor=\"middle\" x=\"777.085\" y=\"-710.3\" font-family=\"Times New Roman,serif\" font-size=\"14.00\">geo_lat&lt;39.6797676</text>\r\n",
       "</g>\r\n",
       "<!-- 1 -->\r\n",
       "<g id=\"node2\" class=\"node\"><title>1</title>\r\n",
       "<ellipse fill=\"none\" stroke=\"black\" cx=\"726.085\" cy=\"-627\" rx=\"36.2938\" ry=\"18\"/>\r\n",
       "<text text-anchor=\"middle\" x=\"726.085\" y=\"-623.3\" font-family=\"Times New Roman,serif\" font-size=\"14.00\">leaf=&#45;0</text>\r\n",
       "</g>\r\n",
       "<!-- 0&#45;&gt;1 -->\r\n",
       "<g id=\"edge1\" class=\"edge\"><title>0&#45;&gt;1</title>\r\n",
       "<path fill=\"none\" stroke=\"#ff0000\" d=\"M766.765,-695.799C759.481,-683.659 749.599,-667.19 741.399,-653.523\"/>\r\n",
       "<polygon fill=\"#ff0000\" stroke=\"#ff0000\" points=\"744.19,-651.371 736.044,-644.597 738.187,-654.973 744.19,-651.371\"/>\r\n",
       "<text text-anchor=\"middle\" x=\"762.585\" y=\"-666.8\" font-family=\"Times New Roman,serif\" font-size=\"14.00\">no</text>\r\n",
       "</g>\r\n",
       "<!-- 2 -->\r\n",
       "<g id=\"node3\" class=\"node\"><title>2</title>\r\n",
       "<ellipse fill=\"none\" stroke=\"black\" cx=\"893.085\" cy=\"-627\" rx=\"112.38\" ry=\"18\"/>\r\n",
       "<text text-anchor=\"middle\" x=\"893.085\" y=\"-623.3\" font-family=\"Times New Roman,serif\" font-size=\"14.00\">neighborhood_montbello&lt;1</text>\r\n",
       "</g>\r\n",
       "<!-- 0&#45;&gt;2 -->\r\n",
       "<g id=\"edge2\" class=\"edge\"><title>0&#45;&gt;2</title>\r\n",
       "<path fill=\"none\" stroke=\"#0000ff\" d=\"M799.451,-696.611C817.194,-683.61 842.201,-665.286 861.909,-650.845\"/>\r\n",
       "<polygon fill=\"#0000ff\" stroke=\"#0000ff\" points=\"863.997,-653.654 869.994,-644.92 859.859,-648.008 863.997,-653.654\"/>\r\n",
       "<text text-anchor=\"middle\" x=\"875.585\" y=\"-666.8\" font-family=\"Times New Roman,serif\" font-size=\"14.00\">yes, missing</text>\r\n",
       "</g>\r\n",
       "<!-- 3 -->\r\n",
       "<g id=\"node4\" class=\"node\"><title>3</title>\r\n",
       "<ellipse fill=\"none\" stroke=\"black\" cx=\"779.085\" cy=\"-540\" rx=\"128.077\" ry=\"18\"/>\r\n",
       "<text text-anchor=\"middle\" x=\"779.085\" y=\"-536.3\" font-family=\"Times New Roman,serif\" font-size=\"14.00\">neighborhood_elyria swansea&lt;1</text>\r\n",
       "</g>\r\n",
       "<!-- 2&#45;&gt;3 -->\r\n",
       "<g id=\"edge3\" class=\"edge\"><title>2&#45;&gt;3</title>\r\n",
       "<path fill=\"none\" stroke=\"#0000ff\" d=\"M870.563,-609.207C853.153,-596.226 828.87,-578.12 809.698,-563.825\"/>\r\n",
       "<polygon fill=\"#0000ff\" stroke=\"#0000ff\" points=\"811.67,-560.93 801.561,-557.758 807.486,-566.542 811.67,-560.93\"/>\r\n",
       "<text text-anchor=\"middle\" x=\"876.585\" y=\"-579.8\" font-family=\"Times New Roman,serif\" font-size=\"14.00\">yes, missing</text>\r\n",
       "</g>\r\n",
       "<!-- 4 -->\r\n",
       "<g id=\"node5\" class=\"node\"><title>4</title>\r\n",
       "<ellipse fill=\"none\" stroke=\"black\" cx=\"961.085\" cy=\"-540\" rx=\"36.2938\" ry=\"18\"/>\r\n",
       "<text text-anchor=\"middle\" x=\"961.085\" y=\"-536.3\" font-family=\"Times New Roman,serif\" font-size=\"14.00\">leaf=&#45;0</text>\r\n",
       "</g>\r\n",
       "<!-- 2&#45;&gt;4 -->\r\n",
       "<g id=\"edge4\" class=\"edge\"><title>2&#45;&gt;4</title>\r\n",
       "<path fill=\"none\" stroke=\"#ff0000\" d=\"M906.846,-608.799C916.873,-596.265 930.593,-579.116 941.725,-565.201\"/>\r\n",
       "<polygon fill=\"#ff0000\" stroke=\"#ff0000\" points=\"944.751,-567.02 948.265,-557.025 939.285,-562.648 944.751,-567.02\"/>\r\n",
       "<text text-anchor=\"middle\" x=\"938.585\" y=\"-579.8\" font-family=\"Times New Roman,serif\" font-size=\"14.00\">no</text>\r\n",
       "</g>\r\n",
       "<!-- 5 -->\r\n",
       "<g id=\"node6\" class=\"node\"><title>5</title>\r\n",
       "<ellipse fill=\"none\" stroke=\"black\" cx=\"667.085\" cy=\"-453\" rx=\"103.182\" ry=\"18\"/>\r\n",
       "<text text-anchor=\"middle\" x=\"667.085\" y=\"-449.3\" font-family=\"Times New Roman,serif\" font-size=\"14.00\">neighborhood_barnum&lt;1</text>\r\n",
       "</g>\r\n",
       "<!-- 3&#45;&gt;5 -->\r\n",
       "<g id=\"edge5\" class=\"edge\"><title>3&#45;&gt;5</title>\r\n",
       "<path fill=\"none\" stroke=\"#0000ff\" d=\"M753.066,-522.243C744.648,-516.623 735.355,-510.204 727.085,-504 715.959,-495.654 704.116,-485.968 693.916,-477.357\"/>\r\n",
       "<polygon fill=\"#0000ff\" stroke=\"#0000ff\" points=\"696.016,-474.548 686.134,-470.727 691.477,-479.876 696.016,-474.548\"/>\r\n",
       "<text text-anchor=\"middle\" x=\"761.585\" y=\"-492.8\" font-family=\"Times New Roman,serif\" font-size=\"14.00\">yes, missing</text>\r\n",
       "</g>\r\n",
       "<!-- 6 -->\r\n",
       "<g id=\"node7\" class=\"node\"><title>6</title>\r\n",
       "<ellipse fill=\"none\" stroke=\"black\" cx=\"825.085\" cy=\"-453\" rx=\"36.2938\" ry=\"18\"/>\r\n",
       "<text text-anchor=\"middle\" x=\"825.085\" y=\"-449.3\" font-family=\"Times New Roman,serif\" font-size=\"14.00\">leaf=&#45;0</text>\r\n",
       "</g>\r\n",
       "<!-- 3&#45;&gt;6 -->\r\n",
       "<g id=\"edge6\" class=\"edge\"><title>3&#45;&gt;6</title>\r\n",
       "<path fill=\"none\" stroke=\"#ff0000\" d=\"M788.394,-521.799C794.964,-509.659 803.877,-493.19 811.273,-479.523\"/>\r\n",
       "<polygon fill=\"#ff0000\" stroke=\"#ff0000\" points=\"814.422,-481.058 816.103,-470.597 808.266,-477.726 814.422,-481.058\"/>\r\n",
       "<text text-anchor=\"middle\" x=\"812.585\" y=\"-492.8\" font-family=\"Times New Roman,serif\" font-size=\"14.00\">no</text>\r\n",
       "</g>\r\n",
       "<!-- 7 -->\r\n",
       "<g id=\"node8\" class=\"node\"><title>7</title>\r\n",
       "<ellipse fill=\"none\" stroke=\"black\" cx=\"537.085\" cy=\"-366\" rx=\"122.379\" ry=\"18\"/>\r\n",
       "<text text-anchor=\"middle\" x=\"537.085\" y=\"-362.3\" font-family=\"Times New Roman,serif\" font-size=\"14.00\">neighborhood_union station&lt;1</text>\r\n",
       "</g>\r\n",
       "<!-- 5&#45;&gt;7 -->\r\n",
       "<g id=\"edge7\" class=\"edge\"><title>5&#45;&gt;7</title>\r\n",
       "<path fill=\"none\" stroke=\"#0000ff\" d=\"M641.711,-435.409C621.62,-422.273 593.36,-403.795 571.275,-389.355\"/>\r\n",
       "<polygon fill=\"#0000ff\" stroke=\"#0000ff\" points=\"573.125,-386.382 562.84,-383.839 569.294,-392.241 573.125,-386.382\"/>\r\n",
       "<text text-anchor=\"middle\" x=\"644.585\" y=\"-405.8\" font-family=\"Times New Roman,serif\" font-size=\"14.00\">yes, missing</text>\r\n",
       "</g>\r\n",
       "<!-- 8 -->\r\n",
       "<g id=\"node9\" class=\"node\"><title>8</title>\r\n",
       "<ellipse fill=\"none\" stroke=\"black\" cx=\"714.085\" cy=\"-366\" rx=\"36.2938\" ry=\"18\"/>\r\n",
       "<text text-anchor=\"middle\" x=\"714.085\" y=\"-362.3\" font-family=\"Times New Roman,serif\" font-size=\"14.00\">leaf=&#45;0</text>\r\n",
       "</g>\r\n",
       "<!-- 5&#45;&gt;8 -->\r\n",
       "<g id=\"edge8\" class=\"edge\"><title>5&#45;&gt;8</title>\r\n",
       "<path fill=\"none\" stroke=\"#ff0000\" d=\"M676.597,-434.799C683.309,-422.659 692.416,-406.19 699.973,-392.523\"/>\r\n",
       "<polygon fill=\"#ff0000\" stroke=\"#ff0000\" points=\"703.132,-394.042 704.908,-383.597 697.006,-390.655 703.132,-394.042\"/>\r\n",
       "<text text-anchor=\"middle\" x=\"701.585\" y=\"-405.8\" font-family=\"Times New Roman,serif\" font-size=\"14.00\">no</text>\r\n",
       "</g>\r\n",
       "<!-- 9 -->\r\n",
       "<g id=\"node10\" class=\"node\"><title>9</title>\r\n",
       "<ellipse fill=\"none\" stroke=\"black\" cx=\"439.085\" cy=\"-279\" rx=\"90.9839\" ry=\"18\"/>\r\n",
       "<text text-anchor=\"middle\" x=\"439.085\" y=\"-275.3\" font-family=\"Times New Roman,serif\" font-size=\"14.00\">neighborhood_cole&lt;1</text>\r\n",
       "</g>\r\n",
       "<!-- 7&#45;&gt;9 -->\r\n",
       "<g id=\"edge9\" class=\"edge\"><title>7&#45;&gt;9</title>\r\n",
       "<path fill=\"none\" stroke=\"#0000ff\" d=\"M509.756,-348.344C501.531,-342.879 492.68,-336.524 485.085,-330 476.271,-322.428 467.428,-313.279 459.885,-304.888\"/>\r\n",
       "<polygon fill=\"#0000ff\" stroke=\"#0000ff\" points=\"462.321,-302.358 453.093,-297.152 457.06,-306.977 462.321,-302.358\"/>\r\n",
       "<text text-anchor=\"middle\" x=\"519.585\" y=\"-318.8\" font-family=\"Times New Roman,serif\" font-size=\"14.00\">yes, missing</text>\r\n",
       "</g>\r\n",
       "<!-- 10 -->\r\n",
       "<g id=\"node11\" class=\"node\"><title>10</title>\r\n",
       "<ellipse fill=\"none\" stroke=\"black\" cx=\"584.085\" cy=\"-279\" rx=\"36.2938\" ry=\"18\"/>\r\n",
       "<text text-anchor=\"middle\" x=\"584.085\" y=\"-275.3\" font-family=\"Times New Roman,serif\" font-size=\"14.00\">leaf=&#45;0</text>\r\n",
       "</g>\r\n",
       "<!-- 7&#45;&gt;10 -->\r\n",
       "<g id=\"edge10\" class=\"edge\"><title>7&#45;&gt;10</title>\r\n",
       "<path fill=\"none\" stroke=\"#ff0000\" d=\"M546.597,-347.799C553.309,-335.659 562.416,-319.19 569.973,-305.523\"/>\r\n",
       "<polygon fill=\"#ff0000\" stroke=\"#ff0000\" points=\"573.132,-307.042 574.908,-296.597 567.006,-303.655 573.132,-307.042\"/>\r\n",
       "<text text-anchor=\"middle\" x=\"571.585\" y=\"-318.8\" font-family=\"Times New Roman,serif\" font-size=\"14.00\">no</text>\r\n",
       "</g>\r\n",
       "<!-- 11 -->\r\n",
       "<g id=\"node12\" class=\"node\"><title>11</title>\r\n",
       "<ellipse fill=\"none\" stroke=\"black\" cx=\"329.085\" cy=\"-192\" rx=\"102.882\" ry=\"18\"/>\r\n",
       "<text text-anchor=\"middle\" x=\"329.085\" y=\"-188.3\" font-family=\"Times New Roman,serif\" font-size=\"14.00\">neighborhood_clayton&lt;1</text>\r\n",
       "</g>\r\n",
       "<!-- 9&#45;&gt;11 -->\r\n",
       "<g id=\"edge11\" class=\"edge\"><title>9&#45;&gt;11</title>\r\n",
       "<path fill=\"none\" stroke=\"#0000ff\" d=\"M413.535,-261.679C404.974,-255.981 395.476,-249.405 387.085,-243 376.245,-234.726 364.78,-225.055 354.931,-216.434\"/>\r\n",
       "<polygon fill=\"#0000ff\" stroke=\"#0000ff\" points=\"357.231,-213.796 347.421,-209.793 352.594,-219.04 357.231,-213.796\"/>\r\n",
       "<text text-anchor=\"middle\" x=\"421.585\" y=\"-231.8\" font-family=\"Times New Roman,serif\" font-size=\"14.00\">yes, missing</text>\r\n",
       "</g>\r\n",
       "<!-- 12 -->\r\n",
       "<g id=\"node13\" class=\"node\"><title>12</title>\r\n",
       "<ellipse fill=\"none\" stroke=\"black\" cx=\"486.085\" cy=\"-192\" rx=\"36.2938\" ry=\"18\"/>\r\n",
       "<text text-anchor=\"middle\" x=\"486.085\" y=\"-188.3\" font-family=\"Times New Roman,serif\" font-size=\"14.00\">leaf=&#45;0</text>\r\n",
       "</g>\r\n",
       "<!-- 9&#45;&gt;12 -->\r\n",
       "<g id=\"edge12\" class=\"edge\"><title>9&#45;&gt;12</title>\r\n",
       "<path fill=\"none\" stroke=\"#ff0000\" d=\"M448.597,-260.799C455.309,-248.659 464.416,-232.19 471.973,-218.523\"/>\r\n",
       "<polygon fill=\"#ff0000\" stroke=\"#ff0000\" points=\"475.132,-220.042 476.908,-209.597 469.006,-216.655 475.132,-220.042\"/>\r\n",
       "<text text-anchor=\"middle\" x=\"473.585\" y=\"-231.8\" font-family=\"Times New Roman,serif\" font-size=\"14.00\">no</text>\r\n",
       "</g>\r\n",
       "<!-- 13 -->\r\n",
       "<g id=\"node14\" class=\"node\"><title>13</title>\r\n",
       "<ellipse fill=\"none\" stroke=\"black\" cx=\"165.085\" cy=\"-105\" rx=\"165.171\" ry=\"18\"/>\r\n",
       "<text text-anchor=\"middle\" x=\"165.085\" y=\"-101.3\" font-family=\"Times New Roman,serif\" font-size=\"14.00\">neighborhood_college view south platte&lt;1</text>\r\n",
       "</g>\r\n",
       "<!-- 11&#45;&gt;13 -->\r\n",
       "<g id=\"edge13\" class=\"edge\"><title>11&#45;&gt;13</title>\r\n",
       "<path fill=\"none\" stroke=\"#0000ff\" d=\"M297.852,-174.812C271.856,-161.338 234.636,-142.047 206.216,-127.317\"/>\r\n",
       "<polygon fill=\"#0000ff\" stroke=\"#0000ff\" points=\"207.812,-124.203 197.323,-122.708 204.591,-130.418 207.812,-124.203\"/>\r\n",
       "<text text-anchor=\"middle\" x=\"291.585\" y=\"-144.8\" font-family=\"Times New Roman,serif\" font-size=\"14.00\">yes, missing</text>\r\n",
       "</g>\r\n",
       "<!-- 14 -->\r\n",
       "<g id=\"node15\" class=\"node\"><title>14</title>\r\n",
       "<ellipse fill=\"none\" stroke=\"black\" cx=\"384.085\" cy=\"-105\" rx=\"36.2938\" ry=\"18\"/>\r\n",
       "<text text-anchor=\"middle\" x=\"384.085\" y=\"-101.3\" font-family=\"Times New Roman,serif\" font-size=\"14.00\">leaf=&#45;0</text>\r\n",
       "</g>\r\n",
       "<!-- 11&#45;&gt;14 -->\r\n",
       "<g id=\"edge14\" class=\"edge\"><title>11&#45;&gt;14</title>\r\n",
       "<path fill=\"none\" stroke=\"#ff0000\" d=\"M340.215,-173.799C348.198,-161.463 359.073,-144.656 367.998,-130.862\"/>\r\n",
       "<polygon fill=\"#ff0000\" stroke=\"#ff0000\" points=\"371.038,-132.607 373.532,-122.31 365.161,-128.805 371.038,-132.607\"/>\r\n",
       "<text text-anchor=\"middle\" x=\"367.585\" y=\"-144.8\" font-family=\"Times New Roman,serif\" font-size=\"14.00\">no</text>\r\n",
       "</g>\r\n",
       "<!-- 15 -->\r\n",
       "<g id=\"node16\" class=\"node\"><title>15</title>\r\n",
       "<ellipse fill=\"none\" stroke=\"black\" cx=\"97.0854\" cy=\"-18\" rx=\"82.5854\" ry=\"18\"/>\r\n",
       "<text text-anchor=\"middle\" x=\"97.0854\" y=\"-14.3\" font-family=\"Times New Roman,serif\" font-size=\"14.00\">leaf=&#45;0.0302804541</text>\r\n",
       "</g>\r\n",
       "<!-- 13&#45;&gt;15 -->\r\n",
       "<g id=\"edge15\" class=\"edge\"><title>13&#45;&gt;15</title>\r\n",
       "<path fill=\"none\" stroke=\"#0000ff\" d=\"M151.325,-86.799C141.49,-74.5062 128.104,-57.7736 117.091,-44.0073\"/>\r\n",
       "<polygon fill=\"#0000ff\" stroke=\"#0000ff\" points=\"119.574,-41.5076 110.594,-35.8854 114.108,-45.8805 119.574,-41.5076\"/>\r\n",
       "<text text-anchor=\"middle\" x=\"170.585\" y=\"-57.8\" font-family=\"Times New Roman,serif\" font-size=\"14.00\">yes, missing</text>\r\n",
       "</g>\r\n",
       "<!-- 16 -->\r\n",
       "<g id=\"node17\" class=\"node\"><title>16</title>\r\n",
       "<ellipse fill=\"none\" stroke=\"black\" cx=\"234.085\" cy=\"-18\" rx=\"36.2938\" ry=\"18\"/>\r\n",
       "<text text-anchor=\"middle\" x=\"234.085\" y=\"-14.3\" font-family=\"Times New Roman,serif\" font-size=\"14.00\">leaf=&#45;0</text>\r\n",
       "</g>\r\n",
       "<!-- 13&#45;&gt;16 -->\r\n",
       "<g id=\"edge16\" class=\"edge\"><title>13&#45;&gt;16</title>\r\n",
       "<path fill=\"none\" stroke=\"#ff0000\" d=\"M190.073,-87.1845C196.786,-81.8932 203.676,-75.6723 209.085,-69 214.884,-61.8475 219.818,-53.1291 223.733,-44.9878\"/>\r\n",
       "<polygon fill=\"#ff0000\" stroke=\"#ff0000\" points=\"226.944,-46.3803 227.85,-35.8242 220.559,-43.5115 226.944,-46.3803\"/>\r\n",
       "<text text-anchor=\"middle\" x=\"226.585\" y=\"-57.8\" font-family=\"Times New Roman,serif\" font-size=\"14.00\">no</text>\r\n",
       "</g>\r\n",
       "</g>\r\n",
       "</svg>\r\n"
      ],
      "text/plain": [
       "<graphviz.files.Source at 0x17713f634a8>"
      ]
     },
     "execution_count": 27,
     "metadata": {},
     "output_type": "execute_result"
    }
   ],
   "source": [
    "#xgb.to_graphviz(gs_best_estimator)"
   ]
  },
  {
   "cell_type": "code",
   "execution_count": 46,
   "metadata": {},
   "outputs": [
    {
     "name": "stdout",
     "output_type": "stream",
     "text": [
      "Size of y_test: 1114\n",
      "Misclassified samples: 802\n",
      "Accuracy: 28.01%\n"
     ]
    }
   ],
   "source": [
    "# use the model to make predictions with the test data\n",
    "\n",
    "# how did our model perform?\n",
    "print('Size of y_test: {}'.format(len(y_test)))\n",
    "\n",
    "count_misclassified = (y_test != gs_preds).sum()\n",
    "\n",
    "print('Misclassified samples: {}'.format(count_misclassified))\n",
    "\n",
    "accuracy = (metrics.accuracy_score(y_test, gs_preds))*100\n",
    "\n",
    "print('Accuracy: {:.2f}%'.format(accuracy))"
   ]
  }
 ],
 "metadata": {
  "kernelspec": {
   "display_name": "Python 3",
   "language": "python",
   "name": "python3"
  },
  "language_info": {
   "codemirror_mode": {
    "name": "ipython",
    "version": 3
   },
   "file_extension": ".py",
   "mimetype": "text/x-python",
   "name": "python",
   "nbconvert_exporter": "python",
   "pygments_lexer": "ipython3",
   "version": "3.7.1"
  }
 },
 "nbformat": 4,
 "nbformat_minor": 4
}
